{
 "cells": [
  {
   "cell_type": "markdown",
   "id": "0510e67e",
   "metadata": {
    "_cell_guid": "b1076dfc-b9ad-4769-8c92-a6c4dae69d19",
    "_uuid": "8f2839f25d086af736a60e9eeb907d3b93b6e0e5",
    "execution": {
     "iopub.execute_input": "2022-08-27T14:47:10.613739Z",
     "iopub.status.busy": "2022-08-27T14:47:10.613292Z",
     "iopub.status.idle": "2022-08-27T14:47:18.808696Z",
     "shell.execute_reply": "2022-08-27T14:47:18.807618Z",
     "shell.execute_reply.started": "2022-08-27T14:47:10.613635Z"
    },
    "papermill": {
     "duration": 0.006244,
     "end_time": "2022-12-23T20:49:17.553404",
     "exception": false,
     "start_time": "2022-12-23T20:49:17.547160",
     "status": "completed"
    },
    "tags": []
   },
   "source": [
    "# <span>Title generation using GPT2 ✒️ </span>\n",
    "<hr style=\"border-bottom: solid;background-color:light;color:black;\">"
   ]
  },
  {
   "cell_type": "markdown",
   "id": "c16decc8",
   "metadata": {
    "execution": {
     "iopub.execute_input": "2022-08-27T15:24:28.251743Z",
     "iopub.status.busy": "2022-08-27T15:24:28.251167Z",
     "iopub.status.idle": "2022-08-27T15:24:28.287252Z",
     "shell.execute_reply": "2022-08-27T15:24:28.285426Z",
     "shell.execute_reply.started": "2022-08-27T15:24:28.251627Z"
    },
    "papermill": {
     "duration": 0.004634,
     "end_time": "2022-12-23T20:49:17.563391",
     "exception": false,
     "start_time": "2022-12-23T20:49:17.558757",
     "status": "completed"
    },
    "tags": []
   },
   "source": [
    "## Introduction\n",
    "   \n",
    "<p style=\"text-align:justify; padding:20px;\">\n",
    "    In this notebook, we will focus on NLP. More spcifically on text generation. With the apparation of transformers in 2017, text generation have become one of the hot topics of datasience. To follow this trend, we are going to create new movie title from the Netflix dataset. To acheive this goal, we will deploy the distil version of the GPT2 transformer and fine tune the model. The notebook will be devided into 6 sections: \n",
    "</p>\n",
    "\n",
    "* [Imports](#section-1)\n",
    "* [Data preparation](#section-2)\n",
    "* [Training the model](#section-3)\n",
    "* [Generating titles](#section-4)"
   ]
  },
  {
   "cell_type": "markdown",
   "id": "3f98af16",
   "metadata": {
    "papermill": {
     "duration": 0.004637,
     "end_time": "2022-12-23T20:49:17.573012",
     "exception": false,
     "start_time": "2022-12-23T20:49:17.568375",
     "status": "completed"
    },
    "tags": []
   },
   "source": [
    "<a id=\"section-1\"></a>\n",
    "# <span>1. Imports</span>\n",
    "<hr style=\"border-bottom: solid;background-color:light;color:black;\">"
   ]
  },
  {
   "cell_type": "code",
   "execution_count": 1,
   "id": "641b138c",
   "metadata": {
    "execution": {
     "iopub.execute_input": "2022-12-23T20:49:17.585206Z",
     "iopub.status.busy": "2022-12-23T20:49:17.584324Z",
     "iopub.status.idle": "2022-12-23T20:49:17.590071Z",
     "shell.execute_reply": "2022-12-23T20:49:17.589164Z"
    },
    "papermill": {
     "duration": 0.014293,
     "end_time": "2022-12-23T20:49:17.592112",
     "exception": false,
     "start_time": "2022-12-23T20:49:17.577819",
     "status": "completed"
    },
    "tags": []
   },
   "outputs": [],
   "source": [
    "# import evaluate\n",
    "\n",
    "# print(evaluate.list_evaluation_modules())\n",
    "# metric = evaluate.load(\"glue\", \"mrpc\")\n",
    "# metric.compute(predictions=preds, references=predictions.label_ids)"
   ]
  },
  {
   "cell_type": "code",
   "execution_count": 2,
   "id": "a5892141",
   "metadata": {
    "execution": {
     "iopub.execute_input": "2022-12-23T20:49:17.603773Z",
     "iopub.status.busy": "2022-12-23T20:49:17.602810Z",
     "iopub.status.idle": "2022-12-23T20:49:25.907902Z",
     "shell.execute_reply": "2022-12-23T20:49:25.906763Z"
    },
    "papermill": {
     "duration": 8.313625,
     "end_time": "2022-12-23T20:49:25.910660",
     "exception": false,
     "start_time": "2022-12-23T20:49:17.597035",
     "status": "completed"
    },
    "tags": []
   },
   "outputs": [],
   "source": [
    "import pandas as pd\n",
    "import torch\n",
    "from torch.utils.data import Dataset, random_split\n",
    "from transformers import GPT2Tokenizer, TrainingArguments, Trainer, GPT2LMHeadModel\n",
    "\n",
    "from sklearn.model_selection import train_test_split\n",
    "\n",
    "import warnings\n",
    "warnings.simplefilter(\"ignore\")\n"
   ]
  },
  {
   "cell_type": "code",
   "execution_count": 3,
   "id": "d2cadf8a",
   "metadata": {
    "execution": {
     "iopub.execute_input": "2022-12-23T20:49:25.922989Z",
     "iopub.status.busy": "2022-12-23T20:49:25.922120Z",
     "iopub.status.idle": "2022-12-23T20:49:39.738710Z",
     "shell.execute_reply": "2022-12-23T20:49:39.737739Z"
    },
    "papermill": {
     "duration": 13.824864,
     "end_time": "2022-12-23T20:49:39.740883",
     "exception": false,
     "start_time": "2022-12-23T20:49:25.916019",
     "status": "completed"
    },
    "tags": []
   },
   "outputs": [
    {
     "data": {
      "application/vnd.jupyter.widget-view+json": {
       "model_id": "1449013d44144f868a017737931d9268",
       "version_major": 2,
       "version_minor": 0
      },
      "text/plain": [
       "Downloading:   0%|          | 0.00/0.99M [00:00<?, ?B/s]"
      ]
     },
     "metadata": {},
     "output_type": "display_data"
    },
    {
     "data": {
      "application/vnd.jupyter.widget-view+json": {
       "model_id": "96d2d44dd8be4d109d1b359ac2645f6f",
       "version_major": 2,
       "version_minor": 0
      },
      "text/plain": [
       "Downloading:   0%|          | 0.00/446k [00:00<?, ?B/s]"
      ]
     },
     "metadata": {},
     "output_type": "display_data"
    },
    {
     "data": {
      "application/vnd.jupyter.widget-view+json": {
       "model_id": "08e29bb5072344e3a2b1310e98cb781a",
       "version_major": 2,
       "version_minor": 0
      },
      "text/plain": [
       "Downloading:   0%|          | 0.00/762 [00:00<?, ?B/s]"
      ]
     },
     "metadata": {},
     "output_type": "display_data"
    },
    {
     "name": "stderr",
     "output_type": "stream",
     "text": [
      "Special tokens have been added in the vocabulary, make sure the associated word embeddings are fine-tuned or trained.\n"
     ]
    },
    {
     "data": {
      "application/vnd.jupyter.widget-view+json": {
       "model_id": "bf8e2ab622564fef8c09ed8eb8fcd8da",
       "version_major": 2,
       "version_minor": 0
      },
      "text/plain": [
       "Downloading:   0%|          | 0.00/336M [00:00<?, ?B/s]"
      ]
     },
     "metadata": {},
     "output_type": "display_data"
    },
    {
     "data": {
      "text/plain": [
       "Embedding(50259, 768)"
      ]
     },
     "execution_count": 3,
     "metadata": {},
     "output_type": "execute_result"
    }
   ],
   "source": [
    "tokenizer = GPT2Tokenizer.from_pretrained('distilgpt2', bos_token='<|startoftext|>',\n",
    "                                          eos_token='<|endoftext|>', pad_token='<|pad|>')\n",
    "model = GPT2LMHeadModel.from_pretrained('distilgpt2')\n",
    "model.resize_token_embeddings(len(tokenizer))"
   ]
  },
  {
   "cell_type": "markdown",
   "id": "ac2ee299",
   "metadata": {
    "papermill": {
     "duration": 0.005458,
     "end_time": "2022-12-23T20:49:39.752360",
     "exception": false,
     "start_time": "2022-12-23T20:49:39.746902",
     "status": "completed"
    },
    "tags": []
   },
   "source": [
    "<a id=\"section-2\"></a>\n",
    "# <span>2. Data preparation</span>\n",
    "<hr style=\"border-bottom: solid;background-color:light;color:black;\">"
   ]
  },
  {
   "cell_type": "code",
   "execution_count": 4,
   "id": "d7325a5b",
   "metadata": {
    "execution": {
     "iopub.execute_input": "2022-12-23T20:49:39.764755Z",
     "iopub.status.busy": "2022-12-23T20:49:39.764437Z",
     "iopub.status.idle": "2022-12-23T20:49:40.012041Z",
     "shell.execute_reply": "2022-12-23T20:49:40.010237Z"
    },
    "papermill": {
     "duration": 0.257028,
     "end_time": "2022-12-23T20:49:40.014856",
     "exception": false,
     "start_time": "2022-12-23T20:49:39.757828",
     "status": "completed"
    },
    "tags": []
   },
   "outputs": [
    {
     "name": "stdout",
     "output_type": "stream",
     "text": [
      "Get up out of my business You don't keep me from turning up 모두 다 여긴 Witness 넌 바른 척하는 Criminal 찔리는 걸 You feel it 너 네가 뭔데 왜 솔직하지 못해 넌 다를 건 대체 뭔데 aye Bad boy 그래 난 Bad boy 생각해 네가 하고픈 대로 That boy 그래 난 That boy 모르면 믿고 싶은 대로 Nothing ‘bout me nada you don't know Nothing ‘bout me not a thing 욕을 하는 이윤 다 있는 거야 나 아닌 너 안에 Cause we Party yeah we party we don't worry ‘bout the drama no Body Everybody 우린 아침까지 Wilding up 신경 쓸건 따로 아 몰라 오늘 다 집어치워 눈치 보지 말고 Volume up up up We go dumb dumb dumb dumb 누가 뭐래도 Litty dumb Litty dumb litty Bang the drum 갈 때까지 Baby stupid Stupid dumb dumb dumb dumb 누가 뭐래도 Litty dumb Litty dumb litty Bang the drum 갈 때까지 Baby we go 몰입하니 눈 몰리는 이치 시시콜콜 무료함을 완충해 내키면 곧장 Dumb litty 이 노래가 흐름 Come get it Drippin' 여기 주도권을 Grip than 거리낌 허물어 Let's go party 돌변함은 때 때에 따라 아무렴 어때 까무러치게 더불어 즐겨 사는 거지 My way follow nobody Party yeah we party we don't worry ‘bout the drama no Body Everybody 우린 아침까지 Wilding up 신경 쓸건 따로 아 몰라 오늘 다 집어치워 터지게 더 올려 Volume up up up We go dumb dumb dumb dumb 누가 뭐래도 Litty dumb Litty dumb litty Bang the drum 갈 때까지 Baby stupid Stupid dumb dumb dumb dumb 누가 뭐래도 Litty dumb Litty dumb litty Bang the drum 갈 때까지 Baby we go 숨이 차올라 내 심장을 죄여 이젠 풀어 나의 사슬 And I wake up 오늘 밤 지나 해가 뜰 때까지 계속 Up (Go dumb) 내일 일은 내일 uh 끝이 난 듯 저질러 We go dumb dumb dumb dumb 누가 뭐래도 Litty dumb Litty dumb litty Bang the drum 갈 때까지 Baby stupid Stupid dumb dumb dumb dumb 누가 뭐래도 Litty dumb Litty dumb litty Bang the drum 갈 때까지 Baby we go Litty dumb litty Bang the drum 갈 때까지 Baby we go\n"
     ]
    }
   ],
   "source": [
    "titles = pd.read_csv('../input/spotify-dataset/spotify_songs_en_pop.csv')['lyrics']\n",
    "print(titles[0])\n",
    "# Corpus = ''\n",
    "# for listitem in titles:\n",
    "#     Corpus += listitem"
   ]
  },
  {
   "cell_type": "code",
   "execution_count": 5,
   "id": "2a2df040",
   "metadata": {
    "execution": {
     "iopub.execute_input": "2022-12-23T20:49:40.028313Z",
     "iopub.status.busy": "2022-12-23T20:49:40.028017Z",
     "iopub.status.idle": "2022-12-23T20:49:40.033215Z",
     "shell.execute_reply": "2022-12-23T20:49:40.032359Z"
    },
    "papermill": {
     "duration": 0.014184,
     "end_time": "2022-12-23T20:49:40.035334",
     "exception": false,
     "start_time": "2022-12-23T20:49:40.021150",
     "status": "completed"
    },
    "tags": []
   },
   "outputs": [],
   "source": [
    "# max_length = max([len(tokenizer.encode(title)) for title in titles])\n",
    "max_length = 1024"
   ]
  },
  {
   "cell_type": "code",
   "execution_count": 6,
   "id": "00d92e71",
   "metadata": {
    "execution": {
     "iopub.execute_input": "2022-12-23T20:49:40.047758Z",
     "iopub.status.busy": "2022-12-23T20:49:40.047453Z",
     "iopub.status.idle": "2022-12-23T20:49:40.055885Z",
     "shell.execute_reply": "2022-12-23T20:49:40.055055Z"
    },
    "papermill": {
     "duration": 0.016837,
     "end_time": "2022-12-23T20:49:40.057872",
     "exception": false,
     "start_time": "2022-12-23T20:49:40.041035",
     "status": "completed"
    },
    "tags": []
   },
   "outputs": [],
   "source": [
    "class NetflixDataset(Dataset):\n",
    "    def __init__(self, txt_list, tokenizer, max_length):\n",
    "        self.input_ids = []\n",
    "        self.attn_masks = []\n",
    "        self.labels = []\n",
    "        for txt in txt_list:\n",
    "            encodings_dict = tokenizer('<|startoftext|>' + txt + '<|endoftext|>',\n",
    "                                       max_length=max_length, padding=\"max_length\")\n",
    "\n",
    "            tensor = torch.tensor(encodings_dict['input_ids'])            \n",
    "            if len(tensor) <= 1024:\n",
    "                self.input_ids.append(torch.tensor(encodings_dict['input_ids']))\n",
    "                self.attn_masks.append(torch.tensor(encodings_dict['attention_mask']))\n",
    "\n",
    "    def __len__(self):\n",
    "        return len(self.input_ids)\n",
    "\n",
    "    def __getitem__(self, idx):\n",
    "        return self.input_ids[idx], self.attn_masks[idx]"
   ]
  },
  {
   "cell_type": "code",
   "execution_count": 7,
   "id": "f4cd6ff5",
   "metadata": {
    "execution": {
     "iopub.execute_input": "2022-12-23T20:49:40.070630Z",
     "iopub.status.busy": "2022-12-23T20:49:40.070373Z",
     "iopub.status.idle": "2022-12-23T20:50:17.638969Z",
     "shell.execute_reply": "2022-12-23T20:50:17.637949Z"
    },
    "papermill": {
     "duration": 37.578063,
     "end_time": "2022-12-23T20:50:17.641418",
     "exception": false,
     "start_time": "2022-12-23T20:49:40.063355",
     "status": "completed"
    },
    "tags": []
   },
   "outputs": [],
   "source": [
    "#Keeping only a limited set of characters. \n",
    "to_remove = ['*', '_', '~', '¡', '«', '´', '¿', 'à',\n",
    "             'á', 'è', 'é', 'ê', 'í', 'ï', 'ñ', 'ó', 'ú', 'ü', 'а', 'в', 'д', 'е', 'з',\n",
    "             'и', 'й', 'к', 'л', 'м', 'н', 'о', 'п', 'р', 'с', 'т', 'у', 'ф', 'ы', 'ь',\n",
    "             'ю', 'я', '\\u2005', '\\u200a', '\\u200b', '\\u3000', '、', '「', '」', 'ぁ', 'あ',\n",
    "             'い', 'う', 'え', 'か', 'が', 'き', 'ぎ', 'く', 'け', 'げ', 'こ', 'さ', 'し', 'じ',\n",
    "             'す', 'せ', 'そ', 'た', 'だ', 'ち', 'っ', 'つ', 'づ', 'て', 'で', 'と', 'ど', 'な',\n",
    "             'に', 'ぬ', 'ね', 'の', 'は', 'び', 'ふ', 'ぶ', 'へ', 'べ', 'ほ', 'ま', 'み', 'む',\n",
    "             'め', 'も', 'よ', 'ら', 'り', 'る', 'れ', 'ろ', 'わ', 'を', 'ん', 'イ', 'ウ', 'カ', \n",
    "             'キ', 'ギ', 'ク', 'シ', 'ス', 'タ', 'ダ', 'ッ', 'ツ', 'テ', 'ト', 'ネ', 'ノ', 'ビ', \n",
    "             'ポ', 'ミ', 'メ', 'モ', 'ヤ', 'ョ', 'リ', 'ル', 'レ', 'ン', 'ー', '一', '上', '世', \n",
    "             '中', '乗', '事', '人', '仆', '今', '他', '代', '体', '何', '侵', '俺', '像', '僕', \n",
    "             '償', '先', '光', '全', '共', '分', '切', '別', '前', '動', '去', '口', '叫', '名', \n",
    "             '向', '君', '呼', '咲', '嘘', '在', '壁', '壊', '声', '変', '夜', '夢', '大', '孤',\n",
    "             '宿', '対', '尽', '巡', '巻', '序', '度', '弱', '張', '強', '影', '待', '後', '心',\n",
    "             '恍', '恐', '悟', '悪', '情', '惚', '想', '愛', '感', '戻', '手', '抜', '拓', '指', \n",
    "             '振', '探', '揺', '支', '教', '日', '明', '昔', '昙', '時', '書', '最', '未', '来', \n",
    "             '極', '歓', '止', '正', '歩', '比', '気', '泣', '溺', '無', '特', '独', '珠', '現',\n",
    "             '理', '由', '界', '痛', '白', '目', '真', '着', '瞳', '知', '破', '磨', '私', '突',\n",
    "             '章', '笑', '筋', '続', '置', '肥', '胸', '自', '良', '薇', '薔', '蝕', '行', '衝', \n",
    "             '裸', '襲', '見', '覚', '见', '触', '言', '誇', '誰', '越', '踠', '身', '輝', '过',\n",
    "             '返', '迷', '進', '過', '配', '重', '間', '闇', '限', '頭', '食', '高', '鳴', '갑',\n",
    "             '개', '걱', '것', '겐', '겠', '견', '결', '곁', '곡', '곳', '과', '광', '교', '국',\n",
    "             '군', '귀', '글', '급', '긋', '깊', '깐', '깜', '깝', '꺾', '께', '껴', '꼬', '꼭',\n",
    "             '꼴', '꽃', '꽉', '꽤', '꿰', '끊', '끽', '남', '낮', '냥', '넓', '녁', '녔', '녕',\n",
    "             '놀', '높', '놓', '놔', '놨', '뉴', '능', '닐', '님', '답', '당', '닿', '덜', '덩',\n",
    "             '델', '독', '동', '된', '될', '둑', '둘', '둡', '뒤', '드', '득', '듭', '딱', '땀',\n",
    "             '땡', '떠', '떤', '떨', '떻', '떼', '뚜', '뚫', '뜨', '뜻', '띄', '락', '럭', '럼',\n",
    "             '럽', '럿', '렘', '력', '렵', '렸', '록', '론', '롭', '루', '릇', '릭', '릴', '림',\n",
    "             '릿', '막', '많', '맘', '맛', '망', '맞', '맡', '맣', '매', '맨', '맴', '먼', '멀',\n",
    "             '며', '명', '몇', '목', '몸', '문', '민', '밀', '밖', '발', '밝', '밟', '백', '벌',\n",
    "             '베', '벼', '볍', '복', '본', '볼', '봉', '붉', '뷰', '빤', '빨', '뻑', '뻥', '뿌',\n",
    "             '뿜', '쁘', '살', '삶', '석', '설', '섬', '섭', '섹', '셀', '셋', '소', '손', '솝', \n",
    "             '송', '숑', '순', '숴', '쉬', '쉽', '쉿', '슈', '스', '슨', '슴', '습', '식', '실',\n",
    "             '싫', '십', '쌔', '쌤', '쏟', '쏴', '쑤', '쓰', '씩', '씹', '앉', '알', '았', '앞',\n",
    "             '약', '양', '얗', '언', '엇', '엔', '열', '엽', '였', '영', '옆', '옇', '예', '옥',\n",
    "             '외', '요', '용', '운', '울', '웃', '웅', '원', '윈', '유', '으', '익', '작', '잘', \n",
    "             '잠', '잡', '재', '잭', '적', '절', '젊', '점', '조', '존', '죽', '준', '줌', '줘', \n",
    "             '줬', '쥐', '증', '짓', '짝', '짧', '쩌', '찍', '착', '참', '창', '찾', '채', '챘', \n",
    "             '천', '철', '청', '쳐', '쳤', '초', '추', '축', '출', '춤', '춰', '췬', '칙', '카', \n",
    "             '커', '켜', '콘', '콤', '콱', '쿵', '크', '큰', '큼', '킬', '타', '탁', '탓', '탬', \n",
    "             '텐', '텝', '토', '통', '툭', '툰', '툴', '트', '특', '틀', '팅', '파', '팔', '패',\n",
    "             '퍼', '펴', '편', '펼', '폈', '평', '포', '폼', '표', '품', '프', '플', '피', '필',\n",
    "             '학', '할', '항', '핵', '행', '향', '험', '헤', '헷', '혀', '현', '호', '혹', '혼',\n",
    "             '화', '확', '환', '황', '회', '효', '후', '훅', '훔', '흔', '흘', '히', '힘', 'ﬁ', \n",
    "             '\\ufeff', '\\xa0', 'É', 'ä', 'å', 'ç', 'ì', 'î', 'ò', 'ô', 'ö', 'ù', 'А', 'П',\n",
    "             '가', '각', '간', '갈', '감', '같', '걍', '거', '건', '걷', '걸', '겁', '게', '겨', \n",
    "             '경', '계', '고', '곧', '골', '공', '관', '구', '굴', '궁', '그', '극', '근', '금', \n",
    "             '기', '긴', '길', '까', '깨', '꺼', '꾸', '꿈', '끄', '끈', '끌', '끔', '끝', '끼', \n",
    "             '낌', '나', '난', '날', '내', '냐', '너', '넌', '널', '넘', '네', '노', '논', '누', \n",
    "             '눈', '느', '는', '늘', '니', '닌', '다', '단', '달', '대', '더', '덕', '던', '데', \n",
    "             '도', '돌', '돼', '되', '두', '뒷', '든', '듣', '들', '듬', '듯', '디', '딜', '따', \n",
    "             '때', '떡', '또', '똑', '뛰', '라', '란', '람', '랑', '래', '랠', '러', '런', '렇', \n",
    "             '레', '려', '례', '로', '르', '른', '를', '름', '릎', '리', '린', '마', '만', '말', \n",
    "             '머', '먹', '멈', '멋', '멘', '면', '모', '몰', '못', '무', '묻', '물', '뭐', '뭔', \n",
    "             '뭘', '미', '믿', '바', '반', '받', '밤', '방', '배', '뱉', '버', '번', '범', '법', \n",
    "             '벗', '벽', '변', '별', '보', '봐', '부', '분', '불', '비', '빌', '빛', '빠', '뻔',\n",
    "             '뿐', '뿔', '삐', '사', '상', '새', '생', '서', '선', '성', '세', '셔', '속', '쇠',\n",
    "             '수', '숨', '슬', '시', '신', '심', '싶', '써', '썰', '아', '악', '안', '않', '애', \n",
    "             '앨', '야', '어', '억', '얼', '엄', '없', '었', '에', '여', '엮', '오', '온', '올', \n",
    "             '와', '완', '왔', '왜', '왠', '욕', '우', '움', '워', '위', '은', '을', '음', '의',\n",
    "             '이', '인', '일', '임', '입', '있', '잊', '자', '잖', '장', '저', '전', '정', '제',\n",
    "             '젠', '져', '좀', '좋', '주', '줄', '중', '즌', '즐', '지', '직', '진', '질', '짐', \n",
    "             '짜', '째', '쩜', '찌', '찔', '차', '처', '척', '체', '춘', '충', '취', '치', '친', \n",
    "             '칠', '침', '칵', '코', '콜', '키', '탈', '태', '터', '테', '투', '티', '팬', '펄', \n",
    "             '풀', '하', '한', '함', '해', '했', '허', '홀', '활', '흐', '힐', '々', 'お', 'ぐ', \n",
    "             'ば', 'ゃ', 'ア', 'ド', 'ブ', 'ム', '仲', '信', '値', '入', '受', '合', '味', '回', \n",
    "             '図', '場', '届', '平', '広', '意', '憧', '戦', '所', '拠', '描', '方', '望', '期',\n",
    "             '消', '眺', '確', '空', '線', '証', '誓', '論', '起', '超', '逃', '違', '遠', '開',\n",
    "             '集', '頂', '願', '駆', '鼓', '권', '넣', '둬', '뜰', '렴', '료', '밍', '션', '솔',\n",
    "             '쓸', '윤', '응', '죄', '집', '텨', '픈', 'ŏ']\n",
    "\n",
    "for i in range(len(titles)):\n",
    "    for symbol in to_remove:\n",
    "        titles[i] = titles[i].replace(symbol,\"\")"
   ]
  },
  {
   "cell_type": "code",
   "execution_count": 8,
   "id": "028e1fcf",
   "metadata": {
    "execution": {
     "iopub.execute_input": "2022-12-23T20:50:17.655812Z",
     "iopub.status.busy": "2022-12-23T20:50:17.655491Z",
     "iopub.status.idle": "2022-12-23T20:50:17.660999Z",
     "shell.execute_reply": "2022-12-23T20:50:17.659893Z"
    },
    "papermill": {
     "duration": 0.015946,
     "end_time": "2022-12-23T20:50:17.664598",
     "exception": false,
     "start_time": "2022-12-23T20:50:17.648652",
     "status": "completed"
    },
    "tags": []
   },
   "outputs": [
    {
     "name": "stdout",
     "output_type": "stream",
     "text": [
      "967\n"
     ]
    }
   ],
   "source": [
    "print(len(to_remove))"
   ]
  },
  {
   "cell_type": "code",
   "execution_count": 9,
   "id": "010702e7",
   "metadata": {
    "execution": {
     "iopub.execute_input": "2022-12-23T20:50:17.676957Z",
     "iopub.status.busy": "2022-12-23T20:50:17.676661Z",
     "iopub.status.idle": "2022-12-23T20:50:30.043057Z",
     "shell.execute_reply": "2022-12-23T20:50:30.041747Z"
    },
    "papermill": {
     "duration": 12.375115,
     "end_time": "2022-12-23T20:50:30.045326",
     "exception": false,
     "start_time": "2022-12-23T20:50:17.670211",
     "status": "completed"
    },
    "tags": []
   },
   "outputs": [
    {
     "name": "stdout",
     "output_type": "stream",
     "text": [
      "3739\n",
      "2991 748\n",
      "2601 374 374\n"
     ]
    }
   ],
   "source": [
    "print(len(titles))\n",
    "train_size = int(0.8 * len(titles))\n",
    "test_size = len(titles) - train_size\n",
    "dev_size = int(test_size/2)\n",
    "\n",
    "titles, test_titles = train_test_split(titles, test_size=test_size)\n",
    "val_dataset, test_dataset = train_test_split(test_titles, test_size=test_size-dev_size)\n",
    "\n",
    "print(len(titles), len(test_titles))\n",
    "train_dataset = NetflixDataset(titles, tokenizer, max_length=max_length)\n",
    "print(len(train_dataset), len(val_dataset), len(test_dataset))"
   ]
  },
  {
   "cell_type": "code",
   "execution_count": 10,
   "id": "ba185d5d",
   "metadata": {
    "execution": {
     "iopub.execute_input": "2022-12-23T20:50:30.058597Z",
     "iopub.status.busy": "2022-12-23T20:50:30.058304Z",
     "iopub.status.idle": "2022-12-23T20:50:30.063518Z",
     "shell.execute_reply": "2022-12-23T20:50:30.062665Z"
    },
    "papermill": {
     "duration": 0.013877,
     "end_time": "2022-12-23T20:50:30.065361",
     "exception": false,
     "start_time": "2022-12-23T20:50:30.051484",
     "status": "completed"
    },
    "tags": []
   },
   "outputs": [],
   "source": [
    "# !pip install evaluate\n",
    "# !pip install rouge_score"
   ]
  },
  {
   "cell_type": "code",
   "execution_count": 11,
   "id": "0de7d403",
   "metadata": {
    "execution": {
     "iopub.execute_input": "2022-12-23T20:50:30.078631Z",
     "iopub.status.busy": "2022-12-23T20:50:30.078358Z",
     "iopub.status.idle": "2022-12-23T20:50:30.083143Z",
     "shell.execute_reply": "2022-12-23T20:50:30.082116Z"
    },
    "papermill": {
     "duration": 0.013935,
     "end_time": "2022-12-23T20:50:30.085525",
     "exception": false,
     "start_time": "2022-12-23T20:50:30.071590",
     "status": "completed"
    },
    "tags": []
   },
   "outputs": [],
   "source": [
    "# import evaluate\n",
    "# rouge = evaluate.load(\"rouge\")\n",
    "\n",
    "# sent = \"We're c-coming out Got my flash on, it's true Need that picture of you, it's so magical We'd be so fantastical Leather and jeans Garage glamorous Not sure what it means But this photo of us, it don't have a price Ready for those flashing lights\"\n",
    "# ref = \"don't you know what I'm talking about? It's just a matter of time before we get too close to each other So let me put your hands on my shoulder And make sure that no one else is hurtin' us 'Cause when it all comes crashing down (Oh-oh) You're not gonna be alone in this world for long Time will come and say I'll never go away But if there ever was somebody who could save our lives\"\n",
    "# # sent_list = sent.split()\n",
    "# # ref_list = ref.split()[:len(sent_list)]\n",
    "# print(len(sent), len(ref))\n",
    "# ref = ref[:len(sent)]\n",
    "\n",
    "# print([ref], [sent])\n",
    "# bleu_result = rouge.compute(references=[ref], predictions=[sent])\n",
    "# print(bleu_result)\n",
    "#from datasets import load_metric\n",
    "\n",
    "#rouge = load_metric(\"rouge\")\n",
    "#ref = [\"We're c-coming out Got my flash on, it's true Need that picture of you, it's so magical We'd be so fantastical Leather and jeans Garage glamorous Not sure what it means But this photo of us, it don't have a price Ready for those flashing lights\"]\n",
    "#sent = [\"don't you know what I'm talking about? It's just a matter of time before we get too close to each other So let me put your hands on my shoulder And make sure that no one else is hurtin' us 'Cause when it all comes crashing down (Oh-oh) You're not gonna be alone in this world for long Time will come and say I'll never go away But if there ever was somebody who could save our lives\"]\n",
    "\n",
    "# print([ref], [sent])\n",
    "#bleu_result = rouge.compute(references=ref, predictions=sent)\n",
    "#print(bleu_result)\n"
   ]
  },
  {
   "cell_type": "markdown",
   "id": "ff604de6",
   "metadata": {
    "papermill": {
     "duration": 0.005591,
     "end_time": "2022-12-23T20:50:30.096972",
     "exception": false,
     "start_time": "2022-12-23T20:50:30.091381",
     "status": "completed"
    },
    "tags": []
   },
   "source": [
    "<a id=\"section-3\"></a>\n",
    "# <span>3. Training the model</span>\n",
    "<hr style=\"border-bottom: solid;background-color:light;color:black;\">"
   ]
  },
  {
   "cell_type": "code",
   "execution_count": 12,
   "id": "5ef690f1",
   "metadata": {
    "execution": {
     "iopub.execute_input": "2022-12-23T20:50:30.110064Z",
     "iopub.status.busy": "2022-12-23T20:50:30.109664Z",
     "iopub.status.idle": "2022-12-23T20:50:30.181414Z",
     "shell.execute_reply": "2022-12-23T20:50:30.180445Z"
    },
    "papermill": {
     "duration": 0.081219,
     "end_time": "2022-12-23T20:50:30.183964",
     "exception": false,
     "start_time": "2022-12-23T20:50:30.102745",
     "status": "completed"
    },
    "tags": []
   },
   "outputs": [],
   "source": [
    "training_args = TrainingArguments(output_dir='./results', num_train_epochs=10, \n",
    "                                  per_device_train_batch_size=1, warmup_steps=10, weight_decay=0.05, \n",
    "                                  logging_dir='./logs', save_strategy = \"no\", report_to = 'none')"
   ]
  },
  {
   "cell_type": "code",
   "execution_count": 13,
   "id": "1798ee05",
   "metadata": {
    "execution": {
     "iopub.execute_input": "2022-12-23T20:50:30.197658Z",
     "iopub.status.busy": "2022-12-23T20:50:30.197344Z",
     "iopub.status.idle": "2022-12-23T21:47:03.619867Z",
     "shell.execute_reply": "2022-12-23T21:47:03.618872Z"
    },
    "papermill": {
     "duration": 3393.43266,
     "end_time": "2022-12-23T21:47:03.622832",
     "exception": false,
     "start_time": "2022-12-23T20:50:30.190172",
     "status": "completed"
    },
    "tags": []
   },
   "outputs": [
    {
     "name": "stderr",
     "output_type": "stream",
     "text": [
      "***** Running training *****\n",
      "  Num examples = 2601\n",
      "  Num Epochs = 10\n",
      "  Instantaneous batch size per device = 1\n",
      "  Total train batch size (w. parallel, distributed & accumulation) = 1\n",
      "  Gradient Accumulation steps = 1\n",
      "  Total optimization steps = 26010\n"
     ]
    },
    {
     "data": {
      "text/html": [
       "\n",
       "    <div>\n",
       "      \n",
       "      <progress value='26010' max='26010' style='width:300px; height:20px; vertical-align: middle;'></progress>\n",
       "      [26010/26010 56:27, Epoch 10/10]\n",
       "    </div>\n",
       "    <table border=\"1\" class=\"dataframe\">\n",
       "  <thead>\n",
       " <tr style=\"text-align: left;\">\n",
       "      <th>Step</th>\n",
       "      <th>Training Loss</th>\n",
       "    </tr>\n",
       "  </thead>\n",
       "  <tbody>\n",
       "    <tr>\n",
       "      <td>500</td>\n",
       "      <td>1.407000</td>\n",
       "    </tr>\n",
       "    <tr>\n",
       "      <td>1000</td>\n",
       "      <td>0.916900</td>\n",
       "    </tr>\n",
       "    <tr>\n",
       "      <td>1500</td>\n",
       "      <td>0.867200</td>\n",
       "    </tr>\n",
       "    <tr>\n",
       "      <td>2000</td>\n",
       "      <td>0.847700</td>\n",
       "    </tr>\n",
       "    <tr>\n",
       "      <td>2500</td>\n",
       "      <td>0.855600</td>\n",
       "    </tr>\n",
       "    <tr>\n",
       "      <td>3000</td>\n",
       "      <td>0.823300</td>\n",
       "    </tr>\n",
       "    <tr>\n",
       "      <td>3500</td>\n",
       "      <td>0.807100</td>\n",
       "    </tr>\n",
       "    <tr>\n",
       "      <td>4000</td>\n",
       "      <td>0.810000</td>\n",
       "    </tr>\n",
       "    <tr>\n",
       "      <td>4500</td>\n",
       "      <td>0.798100</td>\n",
       "    </tr>\n",
       "    <tr>\n",
       "      <td>5000</td>\n",
       "      <td>0.795300</td>\n",
       "    </tr>\n",
       "    <tr>\n",
       "      <td>5500</td>\n",
       "      <td>0.768000</td>\n",
       "    </tr>\n",
       "    <tr>\n",
       "      <td>6000</td>\n",
       "      <td>0.760600</td>\n",
       "    </tr>\n",
       "    <tr>\n",
       "      <td>6500</td>\n",
       "      <td>0.761200</td>\n",
       "    </tr>\n",
       "    <tr>\n",
       "      <td>7000</td>\n",
       "      <td>0.739500</td>\n",
       "    </tr>\n",
       "    <tr>\n",
       "      <td>7500</td>\n",
       "      <td>0.778400</td>\n",
       "    </tr>\n",
       "    <tr>\n",
       "      <td>8000</td>\n",
       "      <td>0.769800</td>\n",
       "    </tr>\n",
       "    <tr>\n",
       "      <td>8500</td>\n",
       "      <td>0.715700</td>\n",
       "    </tr>\n",
       "    <tr>\n",
       "      <td>9000</td>\n",
       "      <td>0.736100</td>\n",
       "    </tr>\n",
       "    <tr>\n",
       "      <td>9500</td>\n",
       "      <td>0.733900</td>\n",
       "    </tr>\n",
       "    <tr>\n",
       "      <td>10000</td>\n",
       "      <td>0.724500</td>\n",
       "    </tr>\n",
       "    <tr>\n",
       "      <td>10500</td>\n",
       "      <td>0.733800</td>\n",
       "    </tr>\n",
       "    <tr>\n",
       "      <td>11000</td>\n",
       "      <td>0.702800</td>\n",
       "    </tr>\n",
       "    <tr>\n",
       "      <td>11500</td>\n",
       "      <td>0.711300</td>\n",
       "    </tr>\n",
       "    <tr>\n",
       "      <td>12000</td>\n",
       "      <td>0.691300</td>\n",
       "    </tr>\n",
       "    <tr>\n",
       "      <td>12500</td>\n",
       "      <td>0.703500</td>\n",
       "    </tr>\n",
       "    <tr>\n",
       "      <td>13000</td>\n",
       "      <td>0.710300</td>\n",
       "    </tr>\n",
       "    <tr>\n",
       "      <td>13500</td>\n",
       "      <td>0.688100</td>\n",
       "    </tr>\n",
       "    <tr>\n",
       "      <td>14000</td>\n",
       "      <td>0.685400</td>\n",
       "    </tr>\n",
       "    <tr>\n",
       "      <td>14500</td>\n",
       "      <td>0.683800</td>\n",
       "    </tr>\n",
       "    <tr>\n",
       "      <td>15000</td>\n",
       "      <td>0.683200</td>\n",
       "    </tr>\n",
       "    <tr>\n",
       "      <td>15500</td>\n",
       "      <td>0.668800</td>\n",
       "    </tr>\n",
       "    <tr>\n",
       "      <td>16000</td>\n",
       "      <td>0.674200</td>\n",
       "    </tr>\n",
       "    <tr>\n",
       "      <td>16500</td>\n",
       "      <td>0.648700</td>\n",
       "    </tr>\n",
       "    <tr>\n",
       "      <td>17000</td>\n",
       "      <td>0.673200</td>\n",
       "    </tr>\n",
       "    <tr>\n",
       "      <td>17500</td>\n",
       "      <td>0.661100</td>\n",
       "    </tr>\n",
       "    <tr>\n",
       "      <td>18000</td>\n",
       "      <td>0.676300</td>\n",
       "    </tr>\n",
       "    <tr>\n",
       "      <td>18500</td>\n",
       "      <td>0.663300</td>\n",
       "    </tr>\n",
       "    <tr>\n",
       "      <td>19000</td>\n",
       "      <td>0.636600</td>\n",
       "    </tr>\n",
       "    <tr>\n",
       "      <td>19500</td>\n",
       "      <td>0.637700</td>\n",
       "    </tr>\n",
       "    <tr>\n",
       "      <td>20000</td>\n",
       "      <td>0.636600</td>\n",
       "    </tr>\n",
       "    <tr>\n",
       "      <td>20500</td>\n",
       "      <td>0.660100</td>\n",
       "    </tr>\n",
       "    <tr>\n",
       "      <td>21000</td>\n",
       "      <td>0.642500</td>\n",
       "    </tr>\n",
       "    <tr>\n",
       "      <td>21500</td>\n",
       "      <td>0.637500</td>\n",
       "    </tr>\n",
       "    <tr>\n",
       "      <td>22000</td>\n",
       "      <td>0.625200</td>\n",
       "    </tr>\n",
       "    <tr>\n",
       "      <td>22500</td>\n",
       "      <td>0.629000</td>\n",
       "    </tr>\n",
       "    <tr>\n",
       "      <td>23000</td>\n",
       "      <td>0.633500</td>\n",
       "    </tr>\n",
       "    <tr>\n",
       "      <td>23500</td>\n",
       "      <td>0.656600</td>\n",
       "    </tr>\n",
       "    <tr>\n",
       "      <td>24000</td>\n",
       "      <td>0.613000</td>\n",
       "    </tr>\n",
       "    <tr>\n",
       "      <td>24500</td>\n",
       "      <td>0.638700</td>\n",
       "    </tr>\n",
       "    <tr>\n",
       "      <td>25000</td>\n",
       "      <td>0.603400</td>\n",
       "    </tr>\n",
       "    <tr>\n",
       "      <td>25500</td>\n",
       "      <td>0.630000</td>\n",
       "    </tr>\n",
       "    <tr>\n",
       "      <td>26000</td>\n",
       "      <td>0.645400</td>\n",
       "    </tr>\n",
       "  </tbody>\n",
       "</table><p>"
      ],
      "text/plain": [
       "<IPython.core.display.HTML object>"
      ]
     },
     "metadata": {},
     "output_type": "display_data"
    },
    {
     "name": "stderr",
     "output_type": "stream",
     "text": [
      "\n",
      "\n",
      "Training completed. Do not forget to share your model on huggingface.co/models =)\n",
      "\n",
      "\n"
     ]
    },
    {
     "data": {
      "text/plain": [
       "TrainOutput(global_step=26010, training_loss=0.723004010034405, metrics={'train_runtime': 3388.4378, 'train_samples_per_second': 7.676, 'train_steps_per_second': 7.676, 'total_flos': 6796328482897920.0, 'train_loss': 0.723004010034405, 'epoch': 10.0})"
      ]
     },
     "execution_count": 13,
     "metadata": {},
     "output_type": "execute_result"
    }
   ],
   "source": [
    "Trainer(model=model,  args=training_args, train_dataset=train_dataset, data_collator=lambda data: {'input_ids': torch.stack([f[0] for f in data]),\n",
    "                                                              'attention_mask': torch.stack([f[1] for f in data]),\n",
    "                                                              'labels': torch.stack([f[0] for f in data])}).train()"
   ]
  },
  {
   "cell_type": "markdown",
   "id": "cb83b790",
   "metadata": {
    "papermill": {
     "duration": 0.011314,
     "end_time": "2022-12-23T21:47:03.647306",
     "exception": false,
     "start_time": "2022-12-23T21:47:03.635992",
     "status": "completed"
    },
    "tags": []
   },
   "source": [
    "<a id=\"section-4\"></a>\n",
    "# <span>4. Generating titles</span>\n",
    "<hr style=\"border-bottom: solid;background-color:light;color:black;\">"
   ]
  },
  {
   "cell_type": "code",
   "execution_count": 14,
   "id": "116848be",
   "metadata": {
    "execution": {
     "iopub.execute_input": "2022-12-23T21:47:03.672244Z",
     "iopub.status.busy": "2022-12-23T21:47:03.671698Z",
     "iopub.status.idle": "2022-12-23T21:47:03.677933Z",
     "shell.execute_reply": "2022-12-23T21:47:03.676916Z"
    },
    "papermill": {
     "duration": 0.023634,
     "end_time": "2022-12-23T21:47:03.682703",
     "exception": false,
     "start_time": "2022-12-23T21:47:03.659069",
     "status": "completed"
    },
    "tags": []
   },
   "outputs": [],
   "source": [
    "# results = []\n",
    "# dict_results = {}\n",
    "# count = 0\n",
    "\n",
    "# for title in val_dataset:\n",
    "#     beginning = \" \".join(title.split()[0:5])\n",
    "#     new_titles = {\n",
    "#         'seed': beginning\n",
    "#     }\n",
    "\n",
    "#     generated = tokenizer('<|startoftext|>' + beginning, return_tensors=\"pt\").input_ids.cuda()\n",
    "#     sample_outputs = model.generate(generated,no_repeat_ngram_size = 1,num_beams=40, num_return_sequences=1,max_length=80,min_length=30)\n",
    "\n",
    "#     new_titles['predictions'] = sample_outputs\n",
    "#     results.append(new_titles)\n",
    "    \n",
    "#     dict_results[title] = tokenizer.decode(sample_outputs[0], skip_special_tokens=True)\n",
    "#     count += 1\n",
    "    "
   ]
  },
  {
   "cell_type": "code",
   "execution_count": 15,
   "id": "74ba638c",
   "metadata": {
    "execution": {
     "iopub.execute_input": "2022-12-23T21:47:03.706389Z",
     "iopub.status.busy": "2022-12-23T21:47:03.705820Z",
     "iopub.status.idle": "2022-12-23T21:47:03.711308Z",
     "shell.execute_reply": "2022-12-23T21:47:03.710369Z"
    },
    "papermill": {
     "duration": 0.021477,
     "end_time": "2022-12-23T21:47:03.715463",
     "exception": false,
     "start_time": "2022-12-23T21:47:03.693986",
     "status": "completed"
    },
    "tags": []
   },
   "outputs": [],
   "source": [
    "# import csv\n",
    "\n",
    "# with open('/kaggle/working/genlyrics.csv', 'w+') as f:\n",
    "#     writer = csv.writer(f)\n",
    "\n",
    "#     header = ['Prompt', 'Generation', 'Coherence', 'Musical Quality', 'Pop Style']\n",
    "#     writer.writerow(header)\n",
    "\n",
    "#     for count, new_title in enumerate(results):\n",
    "#         res1 = new_title['seed']\n",
    "#         res2 = tokenizer.decode(new_title['predictions'][0], skip_special_tokens=True)\n",
    "#         writer.writerow([res1, res2])"
   ]
  },
  {
   "cell_type": "code",
   "execution_count": 16,
   "id": "5f5f2f90",
   "metadata": {
    "execution": {
     "iopub.execute_input": "2022-12-23T21:47:03.737821Z",
     "iopub.status.busy": "2022-12-23T21:47:03.737315Z",
     "iopub.status.idle": "2022-12-23T21:47:57.636178Z",
     "shell.execute_reply": "2022-12-23T21:47:57.635187Z"
    },
    "papermill": {
     "duration": 53.919766,
     "end_time": "2022-12-23T21:47:57.645706",
     "exception": false,
     "start_time": "2022-12-23T21:47:03.725940",
     "status": "completed"
    },
    "tags": []
   },
   "outputs": [
    {
     "name": "stderr",
     "output_type": "stream",
     "text": [
      "The attention mask and the pad token id were not set. As a consequence, you may observe unexpected behavior. Please pass your input's `attention_mask` to obtain reliable results.\n",
      "Setting `pad_token_id` to `eos_token_id`:50256 for open-end generation.\n"
     ]
    },
    {
     "name": "stdout",
     "output_type": "stream",
     "text": [
      "I'm losing my self control Yeah, you're starting to trickle back in But I don't wanna fall down the rabbit hole Cross my heart, I won't do it again I tell myself, tell myself, tell myself, \"Draw the line\" And I do, I do But once in a while, I trip up, and I cross the line And I think of you Two years, and just like that My head still takes me back Thought it was done, but I Guess it's never really over Oh, we were such a mess But wasn't it the best? Thought it was done, but I Guess it's never really over Just because it's over doesn't mean it's really over And if I think it over, maybe you'll be coming over again And I'll have to get over you all over again Just because it's over doesn't mean it's really over And if I think it over, maybe you'll be coming over again And I'll have to get over you all over again I guess I could try hypnotherapy I gotta rewire this brain 'Cause I can't even go on the internet Without even checking your name I tell myself, tell myself, tell myself, \"Draw the line\" And I do, I do But once in a while, I trip up, and I cross the line I think of you Two years, and just like that My head still takes me back Thought it was done, but I Guess it's never really over Oh, we were such a mess But wasn't it the best? Thought it was done, but I Guess it's never really over Just because it's over doesn't mean it's really over And if I think it over, maybe you'll be coming over again And I'll have to get over you all over again Just because it's over doesn't mean it's really over And if I think it over, maybe you'll be coming over again And I'll have to get over you all over again Thought we kissed goodbye Thought we meant this time was the last But I guess it's never really over Thought we drew the line right through you and I Can't keep going back I guess it's never really over, yeah Two years, and just like that My head still takes me back Thought it was done, but I Guess it's never really over Just because it's over doesn't mean it's really over And if I think it over, maybe you'll be coming over again And I'll have to get over you all over again (And I'll have to get over you all over again) Just because it's over doesn't mean it's really over And if I think it over, maybe you'll be coming over again And I'll have to get over you all over again (Over you all over again) Thought we kissed goodbye Thought we meant this time was the last But I guess it's never really over Thought we drew the line right through you and I Can't keep going back I guess it's never really over I'm losing my self control Yeah, you're starting to trickle back in But I don't wanna fall down the rabbit hole Cross my heart, I won't do it again I tell myself, tell myself, tell myself, \"Draw the line\" And I do, I do But once in a while, I trip up, and I cross the line And I think of you Two years, and just like that My head still takes me back Thought it was done, but I Guess it's never really over Oh, we were such a mess But wasn't it the best? Thought it was done, but I Guess it's never really over Just because it's over doesn't mean it's really over And if I think it over, maybe you'll be coming over again And I'll have to get over you all over again Just because it's over doesn't mean it's really over And if I think it over, maybe you'll be coming over again And I'll have to get over you all over again I guess I could try hypnotherapy I gotta rewire this brain 'Cause I can't even go on the internet Without even checking your name I tell myself, tell myself, tell myself, \"Draw the line\" And I do, I do But once in a while, I trip up, and I cross the line I think of you Two years, and just like that My head still takes me back Thought it was done, but I Guess it's never really over Oh, we were such a mess But wasn't it the best? Thought it was done, but I Guess it's never really over Just because it's over doesn't mean it's really over And if I think it over, maybe you'll be coming over again And I'll have to get over you all over again Just because it's over doesn't mean it's really over And if I think it over, maybe you'll be coming over again And I'll have to get over you all over again Thought we kissed goodbye Thought we meant this time was the last But I guess it's never really over Thought we drew the line right through you and I Can't keep going back I guess it's never really over, yeah Two years, and just like that My head still takes me back Thought it was done, but I Guess it's never really over Just because it's over doesn't mean it's really over And if I think it over, maybe you'll be coming over again And I'll have to get over you all over again (And I'll have to get over you all over again) Just because it's over doesn't mean it's really over And if I think it over, maybe you'll be coming over again And I'll have to get over you all over again (Over you all over again) Thought we kissed goodbye Thought we meant this time was the last But I guess it's never really over Thought we drew the line right through you and I Can't keep going back I guess it's never really over I'm losing my self control Yeah, you're starting to trickle back in But I don't wanna fall down the rabbit hole Cross my heart, I won't do it again I tell myself, tell myself, tell myself, \"Draw the line\" And I do, I do But once in a while, I trip up, and I cross the line And I think of you Two years, and just like that My head still takes me back Thought it was done, but I Guess it's never really over Oh, we were such a mess But wasn't it the best? Thought it was done, but I Guess it's never really over Just because it's over doesn't mean it's really over And if I think it over, maybe you'll be coming over again And I'll have to get over you all over again Just because it's over doesn't mean it's really over And if I think it over, maybe you'll be coming over again And I'll have to get over you all over again I guess I could try hypnotherapy I gotta rewire this brain 'Cause I can't even go on the internet Without even checking your name I tell myself, tell myself, tell myself, \"Draw the line\" And I do, I do But once in a while, I trip up, and I cross the line I think of you Two years, and just like that My head still takes me back Thought it was done, but I Guess it's never really over Oh, we were such a mess But wasn't it the best? Thought it was done, but I Guess it's never really over Just because it's over doesn't mean it's really over And if I think it over, maybe you'll be coming over again And I'll have to get over you all over again Just because it's over doesn't mean it's really over And if I think it over, maybe you'll be coming over again And I'll have to get over you all over again Thought we kissed goodbye Thought we meant this time was the last But I guess it's never really over Thought we drew the line right through you and I Can't keep going back I guess it's never really over, yeah Two years, and just like that My head still takes me back Thought it was done, but I Guess it's never really over Just because it's over doesn't mean it's really over And if I think it over, maybe you'll be coming over again And I'll have to get over you all over again (And I'll have to get over you all over again) Just because it's over doesn't mean it's really over And if I think it over, maybe you'll be coming over again And I'll have to get over you all over again (Over you all over again) Thought we kissed goodbye Thought we meant this time was the last But I guess it's never really over Thought we drew the line right through you and I Can't keep going back I guess it's never really over\n"
     ]
    },
    {
     "name": "stderr",
     "output_type": "stream",
     "text": [
      "The attention mask and the pad token id were not set. As a consequence, you may observe unexpected behavior. Please pass your input's `attention_mask` to obtain reliable results.\n",
      "Setting `pad_token_id` to `eos_token_id`:50256 for open-end generation.\n"
     ]
    },
    {
     "name": "stdout",
     "output_type": "stream",
     "text": [
      "Friends are warmer than gold when you're old And keeping them is harder than you might suppose Lately, I tend to make strangers wherever I go Some of them were once people I was happy to know Mounting mileage on the dash Double darkness falling fast I keep stressing, pressing on Way deep down at some substratum Feels like something really wrong has happened And I confess I'm barely hanging on All my happiness is gone All my happiness is gone It's all gone somewhere beyond All my happiness is gone Ten thousand afternoons ago All my happiness just overflowed That was life at first and goal to go Me and you and us and them And all those people way back when All our hardships were just yardsticks then, you know You know It's not the purple hills It's not the silver lakes It's not the snowcloud shadowed interstates It's not the icy bike chain rain of Portland, Oregon Where nothing's wrong and no one's asking But the fear's so strong it leaves you gasping No way to last out here like this for long 'Cause everywhere I go, I know Everywhere I go, I know All my happiness is gone All my happiness is gone It's all gone somewhere beyond All my happiness is gone Friends are warmer than gold when you're old And keeping them is harder than you might suppose Lately, I tend to make strangers wherever I go Some of them were once people I was happy to know Mounting mileage on the dash Double darkness falling fast I keep stressing, pressing on Way deep down at some substratum Feels like something really wrong has happened And I confess I'm barely hanging on All my happiness is gone All my happiness is gone It's all gone somewhere beyond All my happiness is gone Ten thousand afternoons ago All my happiness just overflowed That was life at first and goal to go Me and you and us and them And all those people way back when All our hardships were just yardsticks then, you know You know It's not the purple hills It's not the silver lakes It's not the snowcloud shadowed interstates It's not the icy bike chain rain of Portland, Oregon Where nothing's wrong and no one's asking But the fear's so strong it leaves you gasping No way to last out here like this for long 'Cause everywhere I go, I know Everywhere I go, I know All my happiness is gone All my happiness is gone It's all gone somewhere beyond All my happiness is gone\n"
     ]
    },
    {
     "name": "stderr",
     "output_type": "stream",
     "text": [
      "The attention mask and the pad token id were not set. As a consequence, you may observe unexpected behavior. Please pass your input's `attention_mask` to obtain reliable results.\n",
      "Setting `pad_token_id` to `eos_token_id`:50256 for open-end generation.\n"
     ]
    },
    {
     "name": "stdout",
     "output_type": "stream",
     "text": [
      "He woke up from dreaming and put on his shoes Started making his way past 2 in the morning He hasn't been sober for days Leaning now into the breeze Remembering Sunday, he falls to his knees They had breakfast together But two eggs don't last Like the feeling of what he needs Now this place seems familiar to him She pulled on his hand with a devilish grin She led him upstairs, she led him upstairs Left him dying to get in Forgive me, I'm trying to find My calling, I'm calling at night I don't mean to be a bother But have you seen this girl? She's been running through my dreams And it's driving me crazy, it seems I'm gonna ask her to marry me And even though she doesn't believe in love He's determined to call her bluff Who could deny these butterflies? They're filling his gut Waking the neighbors, unfamiliar faces He pleads, though he tries But he's only denied Now he's dying to get inside Forgive me, I'm trying to find My calling, I'm calling at night I don't mean to be a bother But have you seen this girl? She's been running through my dreams And it's driving me crazy, it seems I'm gonna ask her to marry me The neighbors said she moved away Funny how it rained all day I didn't think much of it then But it's starting to all make sense Oh, I can see now that all of these clouds Are following me in my desperate endeavor To find my whoever, wherever she may be I'm not coming back (forgive me) I've done something so terrible I'm terrified to speak (I'm not calling, I'm not calling) But you'd expect that from me I'm mixed up, I'll be blunt, now the rain is just (You're driving me crazy, I'm) Washing you out of my hair and out of my mind Keeping an eye on the world From so many thousands of feet off the ground I'm over you now, I'm at home in the clouds And towering over your head Well I guess I'll go home now I guess I'll go home now I guess I'll go home now I guess I'll go home\n"
     ]
    },
    {
     "name": "stderr",
     "output_type": "stream",
     "text": [
      "The attention mask and the pad token id were not set. As a consequence, you may observe unexpected behavior. Please pass your input's `attention_mask` to obtain reliable results.\n",
      "Setting `pad_token_id` to `eos_token_id`:50256 for open-end generation.\n"
     ]
    },
    {
     "name": "stdout",
     "output_type": "stream",
     "text": [
      "Ohh-ohh, ah Wide awake, can't think straight I'm alright, it's too late, yeah At night I am light,Iam bright inthe night Out of sight, I'll bebright Like a star, I'll go far Like a star we'll go far in the dark When the night I can't sleep Wide awake, fighting dreams They are huge, earth to moon And I know they'll become true Soon as bright, I'm alive Like a star, I'll go far Like a star we'll go far in the dark Sfumature dell'anima (Anima) Sono cresciuto in camera (Cresciuto in camera) Siamo sei personalit (Personalit) Siamo il tempo che passer (Passer) S, ricordi lontani, ma' (Lontani, ma') Quei ragazzini in macchina (Macchina) Morire  matematica (Matematica) Con la pioggia che poi cadr (Poi cadr) La vita che non capirai Siamo una luna pallida E ad amarsi ti ammalerai S, cuori di ceramica Si guarisce met e met La vita  una metafora Cinematografica Come una videocamera When the night I can't sleep Wide awake, fighting dreams They are huge, earth to moon And I know they'll become true Soon as bright, I'm alive Like a star, I'll go far Like a star we'll go far in the dark Quando la notte non riesco a dormirci, s Quando finir tu, ti prego, stringimi Vita toglie senza darci motivi, s Crisi ed instabili tratti emotivi, s Quando non ci sarai, ti prego, fingimi Quando la notte non potr pi stringerti Resta stanotte, s, anche s' egoista, s Anche se guarissi, solo per finta, s When the night I can't sleep Wide awake, fighting dreams They are huge, earth to moon And I know they'll become true Soon as bright, I'm alive Like a star, I'll go far Like a star we'll go far in the dark Wide awake, can't think straight I'm alright, it's too late, yeah At night I am light, I am bright in the night Out of sight, I'll be bright Like a star, I'll go far Like a star we'll go far in the dark In the night, hey\n"
     ]
    },
    {
     "name": "stderr",
     "output_type": "stream",
     "text": [
      "The attention mask and the pad token id were not set. As a consequence, you may observe unexpected behavior. Please pass your input's `attention_mask` to obtain reliable results.\n",
      "Setting `pad_token_id` to `eos_token_id`:50256 for open-end generation.\n"
     ]
    },
    {
     "name": "stdout",
     "output_type": "stream",
     "text": [
      "It's you, it's always you If I'm ever gonna fall in love, I know it's gon' be you It's you, it's always you Met a lot of people, but nobody feels like you So please don't break my heart, don't tear me apart I know how it starts, trust me, I've been broken before Don't break me again, I am delicate Please don't break my heart, trust me, I've been broken before I've been broken, yeah, I know how it feels To be open and then find out your love isn't real I'm still hurting, yeah, I'm hurting inside I'm so scared to fall in love, but if it's you, then I'll try It's you, it's always you If I'm ever gonna fall in love, I know it's gon' be you It's you, it's always you Met a lot of people, but nobody feels like you So please don't break my heart, don't tear me apart I know how it starts, trust me, I've been broken before Don't break me again, I am delicate Please don't break my heart, trust me, I've been broken before I know I'm not the best at choosing lovers (Oh) We both know my past speaks for itself (For itself) If you don't think that we're right for each other (Baby, no) Then please don't let history repeat itself'Cause I want you, yeah, I want you, yeah There's nothing else I want 'Cause I want you, yeah, I want you, yeah And you're the only thing I want It's you, it's always you If I'm ever gonna fall in love, I know it's gon' be you It's you, it's always you Met a lot of people, but nobody feels like you So please don't break my heart, don't tear me apart I know how it starts, trust me, I've been broken before Don't break me again, I am delicate Please don't break my heart, trust me, I've been broken before Baby, I want you, baby, I want you Baby, I want you, baby, I want you Baby, I want you, baby, I want you You, you, 'cause I want you Baby, I want you, baby, I want you Baby, I want you, baby, I want you Baby, I want you, baby, I want you You, you It's you, it's always you If I'm ever gonna fall in love, I know it's gon' be you It's you, it's always you Met a lot of people, but nobody feels like you So please don't break my heart, don't tear me apart I know how it starts, trust me, I've been broken before Don't break me again, I am delicate Please don't break my heart, trust me, I've been broken before I've been broken, yeah, I know how it feels To be open and then find out your love isn't real I'm still hurting, yeah, I'm hurting inside I'm so scared to fall in love, but if it's you, then I'll try It's you, it's always you If I'm ever gonna fall in love, I know it's gon' be you It's you, it's always you Met a lot of people, but nobody feels like you So please don't break my heart, don't tear me apart I know how it starts, trust me, I've been broken before Don't break me again, I am delicate Please don't break my heart, trust me, I've been broken before I know I'm not the best at choosing lovers (Oh) We both know my past speaks for itself (For itself) If you don't think that we're right for each other (Baby, no) Then please don't let history repeat itself'Cause I want you, yeah, I want you, yeah There's nothing else I want 'Cause I want you, yeah, I want you, yeah And you're the only thing I want It's you, it's always you If I'm ever gonna fall in love, I know it's gon' be you It's you, it's always you Met a lot of people, but nobody feels like you So please don't break my heart, don't tear me apart I know how it starts, trust me, I've been broken before Don't break me again, I am delicate Please don't break my heart, trust me, I've been broken before Baby, I want you, baby, I want you Baby, I want you, baby, I want you Baby, I want you, baby, I want you You, you, 'cause I want you Baby, I want you, baby, I want you Baby, I want you, baby, I want you Baby, I want you, baby, I want you You, you It's you, it's always you If I'm ever gonna fall in love, I know it's gon' be you It's you, it's always you Met a lot of people, but nobody feels like you So please don't break my heart, don't tear me apart I know how it starts, trust me, I've been broken before Don't break me again, I am delicate Please don't break my heart, trust me, I've been broken before I've been broken, yeah, I know how it feels To be open and then find out your love isn't real I'm still hurting, yeah, I'm hurting inside I'm so scared to fall in love, but if it's you, then I'll try It's you, it's always you If I'm ever gonna fall in love, I know it's gon' be you It's you, it's always you Met a lot of people, but nobody feels like you So please don't break my heart, don't tear me apart I know how it starts, trust me, I've been broken before Don't break me again, I am delicate Please don't break my heart, trust me, I've been broken before I know I'm not the best at choosing lovers (Oh) We both know my past speaks for itself (For itself) If you don't think that we're right for each other (Baby, no) Then please don't let history repeat itself'Cause I want you, yeah, I want you, yeah There's nothing else I want 'Cause I want you, yeah, I want you, yeah And you're the only thing I want It's you, it's always you If I'm ever gonna fall in love, I know it's gon' be you It's you, it's always you Met a lot of people, but nobody feels like you So please don't break my heart, don't tear me apart I know how it starts, trust me, I've been broken before Don't break me again, I am delicate Please don't break my heart, trust me, I've been broken before Baby, I want you, baby, I want you Baby, I want you, baby, I want you Baby, I want you, baby, I want you You, you, 'cause I want you Baby, I want you, baby, I want you Baby, I want you, baby, I want you Baby, I want you, baby, I want you You, you\n"
     ]
    },
    {
     "name": "stderr",
     "output_type": "stream",
     "text": [
      "The attention mask and the pad token id were not set. As a consequence, you may observe unexpected behavior. Please pass your input's `attention_mask` to obtain reliable results.\n",
      "Setting `pad_token_id` to `eos_token_id`:50256 for open-end generation.\n"
     ]
    },
    {
     "name": "stdout",
     "output_type": "stream",
     "text": [
      "I guess now is a good time to tell the truth The pedigree I carry will swallow you But I am not what you are I'm flawless in every way Bird's eye view And I'm watching you Sad, sad sight for the sore, sore eyes And a headache for the weakest of minds You've got the boys, the boys all tongue tied But I know they're wasting their time Go, go You can be the ghost in my hall You can be the smile I don't want I'll be the fly on your wall You can be the distance in between You can be everything I need You'll be the girl I don't call Oh just imagine what I thought when I opened up that door It was a million things to one And oh, just imagine what they'll think When they see me lead you north Hell, they'll be losing sleep And you're wrong Wrong You can be the ghost in my hall You can be the smile I don't want I'll be the fly on your wall You can be the distance in between You can be everything I need You'll be the girl I don't call It's so wrong So wrong It's so wrong You can be the ghost in my hall You can be the smile I don't want I'll be the fly on your... You can be the ghost in my hall You can be the smile I don't want I'll be the fly on your wall You'll be the distance in between You'll be everything I need You'll be the girl I don't call Jealous minds they think alike You're a damn damn tie You're wasting all my time You are in love Jealous minds they think alike You're a damn damn tie You're wasting all my time You are in love\n"
     ]
    },
    {
     "name": "stderr",
     "output_type": "stream",
     "text": [
      "The attention mask and the pad token id were not set. As a consequence, you may observe unexpected behavior. Please pass your input's `attention_mask` to obtain reliable results.\n",
      "Setting `pad_token_id` to `eos_token_id`:50256 for open-end generation.\n"
     ]
    },
    {
     "name": "stdout",
     "output_type": "stream",
     "text": [
      "There's a place I go to Where no one knows me It's not lonely It's a necessary thing It's a place I made up Find out what I'm made of The nights are stayed up Counting stars and fighting sleep Let it wash over me Ready to lose my feet Take me off to the place where one reviews life's mystery Steady on down the line Lose every sense of time Take it all in and wake up that small part of me Day to day I'm blind to see And find how far To go Everybody got their reason Everybody got their way We're just catching and releasing What builds up throughout the day It gets into your body And it flows right through your blood We can tell each other secrets And remember how to love Darararamdam daramdamdam daramdam Darararamdam daramdamdam daramdam There's a place I'm going No one knows me If I breathe real slowly Let it out and let it in They can be terrifying To be slowly dying Also clarifying The end where we begin So let it wash over me I'm ready to lose my feet Take me off to the place where one reviews life's mystery Steady on down the line Lose every sense of time Take it all in and wake up that small part of me Day to day I'm blind to see And find how far To go Everybody got their reason Everybody got their way We're just catching and releasing What builds up throughout the day It gets into your body And it flows right through your blood We can tell each other secrets And remember how to love Darararamdam daramdamdam daramdam Darararamdam daramdamdam daramdam Everybody got their reason Everybody got their way We're just catching and releasing What builds up throughout the day It gets into your body And it flows right through your blood We can tell each other secrets And remember how to love\n"
     ]
    },
    {
     "name": "stderr",
     "output_type": "stream",
     "text": [
      "The attention mask and the pad token id were not set. As a consequence, you may observe unexpected behavior. Please pass your input's `attention_mask` to obtain reliable results.\n",
      "Setting `pad_token_id` to `eos_token_id`:50256 for open-end generation.\n"
     ]
    },
    {
     "name": "stdout",
     "output_type": "stream",
     "text": [
      "I drew a broken heart Right on your window pane Waited for your reply Here in the pouring rain Just breathe against the glass Leave me some kind of sign I know the hurt won't pass, yeah Just tell me it's not the end of the line Just tell me it's not the end of the line I never meant to break your heart And I won't let this plane go down I never meant to make you cry I'll do what it takes to make this fly Oh, you gotta hold on Hold on to what you're feeling That feeling is the best thing The best thing, alright I'm gonna place my bet on us I know this love is heading In the same direction That's up You drew a question mark But you know what I want I wanna turn the clock, yeah Right back to where it was So let's build a bridge, yeah From your side to mine I'll be the one to cross over Just tell me it's not the end of the line Just tell me it's not the end of the line I never meant to break your heart And I won't let this plane go down I never meant to make you cry I'll do what it takes to make this fly Oh, you gotta hold on Hold on to what you're feeling That feeling is the best thing The best thing, alright I'm gonna place my bet on us I know this love is heading In the same direction That's up Girl, I know we could climb Back to where we were then Feel it here, in my heart Put my heart in your hand Well, I hope and I pray That you'll do understand If you did, all you have to say is Yeah, yeah, yeah, yeah, yeah Yeah, yeah, yeah, yeah, yeah Yeah, yeah, yeah, yeah, yeah I'm waiting for ya Yeah, yeah, yeah, yeah, yeah Yeah, yeah, yeah, yeah, yeah Yeah, yeah, yeah, yeah, yeah I never meant to break your heart (Come on) Now, won't let this plane go down (Let this plane go down) I never meant to make you cry I'll do what it takes to make this fly Oh, you gotta hold on Hold on to what you're feeling That feeling is the best thing The best thing, alright I'm gonna place my bet on us I know this love is heading in the same direction That's up\n"
     ]
    },
    {
     "name": "stderr",
     "output_type": "stream",
     "text": [
      "The attention mask and the pad token id were not set. As a consequence, you may observe unexpected behavior. Please pass your input's `attention_mask` to obtain reliable results.\n",
      "Setting `pad_token_id` to `eos_token_id`:50256 for open-end generation.\n"
     ]
    },
    {
     "name": "stdout",
     "output_type": "stream",
     "text": [
      "Well, here we are again Too, too good to be friends Forever, forever, forever Well, look at what we've done Three, three rolled into one Together, together, together So, how can this be true We, we thought that we knew you Forever, forever, forever We will watch the morning star Rising home over Georgia Dancing in the ruins of the western world Blindfolds on and we don't care\n"
     ]
    },
    {
     "name": "stderr",
     "output_type": "stream",
     "text": [
      "The attention mask and the pad token id were not set. As a consequence, you may observe unexpected behavior. Please pass your input's `attention_mask` to obtain reliable results.\n",
      "Setting `pad_token_id` to `eos_token_id`:50256 for open-end generation.\n"
     ]
    },
    {
     "name": "stdout",
     "output_type": "stream",
     "text": [
      "Oh Oh Just shoot for the stars If it feels right, then aim for my heart If you feel like And take me away And make it okay I swear I'll behave You wanted control, so we waited I put on a show, now I'm naked You say I'm a kid My ego is big I don't give a shit And it goes like this, uh Take me by the tongue and I'll know you (Uh) Kiss me till you're drunk and I'll show you You want the moves like Jagger I've got them moves like Jagger I've got them moves like Jagger (Uh) I don't needa try to control you (Uh) Look into my eyes and I'll own you With them moves like Jagger I've got them moves like Jagger I've got them moves like Jagger Baby, it's hard, when you feel like You're broken and scarred, nothing feels right But when you're with me I'll make you believe That I've got the key Oh, so get in the car, we can ride it Wherever you want, get inside it And you wanna steer, but I'm shifting gears I'll take it from here (Oh, yeah, yeah) And it goes like this, uh Take me by the tongue and I'll know you (Uh) Kiss me till you're drunk and I'll show you You want the moves like Jagger I've got them moves like Jagger I've got them moves like Jagger (Uh) I don't need to try to control you (Oh yeah) Look into my eyes and I'll own you With them moves like Jagger I've got them moves like Jagger (Yeah, yeah, yeah) I've got them moves like Jagger Uh, you wanna know, how to make me smile? Take control, own me just for the night And if I share my secret You're gonna have to keep it Nobody else can see this (Uh) So watch and learn, I won't show you twice Head to toe, ooh baby, rub me right And if I share my secret You're gonna have to keep it Nobody else can see this Hey, hey, hey, yeah And it goes like this, uh Take me by the tongue and I'll know you (Take me by the tongue) Kiss me till you're drunk and I'll show you (Yeah, yeah) You want the moves like Jagger I've got the moves like Jagger I've got the moves like Jagger (Oh yeah) I don't needa try to control you (Ooh) Look into my eyes and I'll own you (Ooh) With them moves like Jagger I've got them moves like Jagger I've got them moves like Jagger Oh Oh Just shoot for the stars If it feels right, then aim for my heart If you feel like And take me away And make it okay I swear I'll behave You wanted control, so we waited I put on a show, now I'm naked You say I'm a kid My ego is big I don't give a shit And it goes like this, uh Take me by the tongue and I'll know you (Uh) Kiss me till you're drunk and I'll show you You want the moves like Jagger I've got them moves like Jagger I've got them moves like Jagger (Uh) I don't needa try to control you (Uh) Look into my eyes and I'll own you With them moves like Jagger I've got them moves like Jagger I've got them moves like Jagger Baby, it's hard, when you feel like You're broken and scarred, nothing feels right But when you're with me I'll make you believe That I've got the key Oh, so get in the car, we can ride it Wherever you want, get inside it And you wanna steer, but I'm shifting gears I'll take it from here (Oh, yeah, yeah) And it goes like this, uh Take me by the tongue and I'll know you (Uh) Kiss me till you're drunk and I'll show you You want the moves like Jagger I've got them moves like Jagger I've got them moves like Jagger (Uh) I don't need to try to control you (Oh yeah) Look into my eyes and I'll own you With them moves like Jagger I've got them moves like Jagger (Yeah, yeah, yeah) I've got them moves like Jagger Uh, you wanna know, how to make me smile? Take control, own me just for the night And if I share my secret You're gonna have to keep it Nobody else can see this (Uh) So watch and learn, I won't show you twice Head to toe, ooh baby, rub me right And if I share my secret You're gonna have to keep it Nobody else can see this Hey, hey, hey, yeah And it goes like this, uh Take me by the tongue and I'll know you (Take me by the tongue) Kiss me till you're drunk and I'll show you (Yeah, yeah) You want the moves like Jagger I've got the moves like Jagger I've got the moves like Jagger (Oh yeah) I don't needa try to control you (Ooh) Look into my eyes and I'll own you (Ooh) With them moves like Jagger I've got them moves like Jagger I've got them moves like Jagger\n"
     ]
    },
    {
     "name": "stderr",
     "output_type": "stream",
     "text": [
      "The attention mask and the pad token id were not set. As a consequence, you may observe unexpected behavior. Please pass your input's `attention_mask` to obtain reliable results.\n",
      "Setting `pad_token_id` to `eos_token_id`:50256 for open-end generation.\n"
     ]
    },
    {
     "name": "stdout",
     "output_type": "stream",
     "text": [
      "If it hurts this much Then it must be love And it's a lottery I can't wait to draw your name Oh, I'm trying to get to you But time isn't on my side The truth's the worst I could do And I guess that I have lied Keeping me awake It's been like this now for days My heart is out at sea My head all over the place I'm losing sense of time And everything tastes the same I'll be home in a day I fear that's a month too late That night, I slept On your side of the bed so It was ready when you got home We're like knots and crosses in that Opposites always attract You've taken me to the top And let me fall back south You've had me at the top of the pile And then had me kissing the ground We've heard and seen it all No one's talked us out The problems that have come Haven't yet torn us down Am I keeping you awake If I am then just say You can make your own decisions You can make your own mistakes I'll live and let die All the promises you made But if you lie another time It'll be a lie that's too late That night, I slept On your side of the bed so It was ready when you got home We're like knots and crosses in that Opposites always attract And you always have your way For now it's too soon for you to say Will we be always, always? You always have your way For now it's too soon for you to say Will we be always, always? You always have your way For now it's too soon for you to say Will we be always, always? You always had your way For now it's too soon for you to say Will we be always, always, always? You always have your way For now it's too soon for you to say Will we be always, always? You had your way You had your way You had your way\n"
     ]
    },
    {
     "name": "stderr",
     "output_type": "stream",
     "text": [
      "The attention mask and the pad token id were not set. As a consequence, you may observe unexpected behavior. Please pass your input's `attention_mask` to obtain reliable results.\n",
      "Setting `pad_token_id` to `eos_token_id`:50256 for open-end generation.\n"
     ]
    },
    {
     "name": "stdout",
     "output_type": "stream",
     "text": [
      "Stop! The train is riding Down to the station Where you lived When we were school kids Hey! The rails are caught now And I am falling down Fools in a spiral Round this town of steel My body tells me no But I won't quit 'Cause I want more 'Cause I want more My body tells me no But I won't quit 'Cause I want more 'Cause I want more Stop! The train is riding Down to the station Where I lived When I was a cool kid Hey! Is it my fault that The fallen embers burn Down in a spiral Round your crown of thieves? My body tells me no But I won't quit 'Cause I want more 'Cause I want more My body tells me no But I won't quit 'Cause I want more 'Cause I want more It rides out of town NA Oh, it's my road It's my road, it's my road It's my road It's my road, it's my war It's my war It's my war, it's my war His eyes are open His eyes are open Oh, 'cause I want more I want more, want more His eyes are open His eyes are open Hey, hey, hey My body tells me no But I won't quit 'Cause I want more 'Cause I want more My body tells me no But I won't quit 'Cause I want more 'Cause I want more It rides out of town\n"
     ]
    },
    {
     "name": "stderr",
     "output_type": "stream",
     "text": [
      "The attention mask and the pad token id were not set. As a consequence, you may observe unexpected behavior. Please pass your input's `attention_mask` to obtain reliable results.\n",
      "Setting `pad_token_id` to `eos_token_id`:50256 for open-end generation.\n"
     ]
    },
    {
     "name": "stdout",
     "output_type": "stream",
     "text": [
      "Oh, hey Oh, oh hey Oh, oh, oh hey Uh oh, uh oh I don't wanna know, know, know, know Who's taking you home, home, home, home And loving you so, so, so, so The way I used to love you, no I don't wanna know, know, know, know Who's taking you home, home, home, home And loving you so, so, so, so The way I used to love you, oh I don't wanna know Wasted (Wasted) And the more I drink, the more I think about you Oh no, no, I can't take it Baby, every place I go reminds me of you Do you think of me? Of what we used to be? Is it better now that I'm not around? My friends are actin' strange, they don't bring up your name Are you happy now? Are you happy now? I don't wanna know, know, know, know Who's taking you home, home, home, home And loving you so, so, so, so The way I used to love you, no I don't wanna know, know, know, know Who's taking you home, home, home, home And loving you so, so, so, so The way I used to love you, oh I don't wanna know And every time I go out, yeah I hear it from this one, I hear it from that one That you got someone new Yeah, I see but don't believe it Even in my head, you're still in my bed Maybe I'm just a fool Do you think of me? Of what we used to be? (What we used to be) Is it better now that I'm not around? (That I'm not around) My friends are actin' strange, they don't bring up your name Are you happy now? Are you happy now? I don't wanna know, know, know, know Who's taking you home, home, home, home And loving you so, so, so, so The way I used to love you, no I don't wanna know, know, know, know Who's taking you home, home, home, home And loving you so, so, so, so The way I used to love you, oh I don't wanna know (Oh hey) No more “please stop” No more hashtag boo'd up screenshots No more tryin' make me jealous on your birthday You know just how I made you better on your birthday, oh Do he do you like this, do he woo you like this? Do he lay it down for you, touch your poona like this? Matter fact, never mind, we'll let the past be May be his right now, but your body's still me, whoa I don't wanna know, know, know, know Who's taking you home, home, home, home And loving you so, so, so, so The way I used to love you, no I don't wanna know, know, know, know Who's taking you home, home, home, home And loving you so, so, so, so The way I used to love you, oh I don't wanna know, know, know, know Who's taking you home, home, home, home And loving you so, so, so, so The way I used to love you, oh (The way I used to love you) I don't wanna know, know, know, know Who's taking you home, home, home, home And loving you so, so, so, so The way I used to love you, oh I don't wanna know Oh hey Oh, oh hey Oh, oh, oh hey Uh oh, uh oh\n"
     ]
    },
    {
     "name": "stderr",
     "output_type": "stream",
     "text": [
      "The attention mask and the pad token id were not set. As a consequence, you may observe unexpected behavior. Please pass your input's `attention_mask` to obtain reliable results.\n",
      "Setting `pad_token_id` to `eos_token_id`:50256 for open-end generation.\n"
     ]
    },
    {
     "name": "stdout",
     "output_type": "stream",
     "text": [
      "I don't want a friend (Just one more night) I want my life in two (My life in two) Please one more night Waiting to get there Waiting for you (Waiting for you) Just one more night I'm done fighting all night When I'm around slow dancing in the dark Don't follow me, you'll end up in my arms You done made up your mind I don't need no more signs Can you? Can you? Give me reasons we should be complete You should be with him, I can't compete You looked at me like I was someone else, oh well Can't you see? (Can't you see?) I don't wanna slow dance (I don't wanna slow dance) In the dark, dark When you gotta run Just hear my voice in you (My voice in you) Shutting me out you (Shutting me out) Doing so great (So great, so great) You Used to be the one to hold you when you fall Yeah, yeah, yeah (When you fall, when you fall) I don't fuck with your tone (I don't fuck with your tone) I don't wanna go home (I don't wanna go home) Can it be one night? Can you? Can you? Give me reasons we should be complete You should be with him, I can't compete You looked at me like I was someone else, oh well Can't you see? I don't wanna slow dance (I don't wanna slow dance) In the dark, dark In the dark, dark\n"
     ]
    },
    {
     "name": "stderr",
     "output_type": "stream",
     "text": [
      "The attention mask and the pad token id were not set. As a consequence, you may observe unexpected behavior. Please pass your input's `attention_mask` to obtain reliable results.\n",
      "Setting `pad_token_id` to `eos_token_id`:50256 for open-end generation.\n"
     ]
    },
    {
     "name": "stdout",
     "output_type": "stream",
     "text": [
      "D-D-Daytrip took it to ten (Hey) Ayy, Panini, don't you be a meanie Thought you wanted me to go up Why you tryna keep me teeny? I It's a dream, he wished it on a genie I got fans finally, ain't you wanting them to see me? I I thought you want this for my life, for my life Said you wanted to see me thrive, you lied Just say to me what you want from me Just say to me what you want from me Ayy, Panini, don't you be a meanie Thought you wanted me to go up Why you tryna keep me teeny now? Now they need me, number one on streaming Oh yeah, you used to love me So what happened, what's the meaning? I I thought you want this for my life, for my life Said you wanted to see me thrive, you lied Now when it's all done, I get the upper hand I need a big Benz, not another fan But I still want you as a fan I'ma need to sit down, don't mean to make demands But I need you to... Say to me what you want from me Just say to me what you want from me D-D-Daytrip took it to ten (Hey) D-D-Daytrip took it to ten (Hey) Ayy, Panini, don't you be a meanie Thought you wanted me to go up Why you tryna keep me teeny? I It's a dream, he wished it on a genie I got fans finally, ain't you wanting them to see me? I I thought you want this for my life, for my life Said you wanted to see me thrive, you lied Just say to me what you want from me Just say to me what you want from me Ayy, Panini, don't you be a meanie Thought you wanted me to go up Why you tryna keep me teeny now? Now they need me, number one on streaming Oh yeah, you used to love me So what happened, what's the meaning? I I thought you want this for my life, for my life Said you wanted to see me thrive, you lied Now when it's all done, I get the upper hand I need a big Benz, not another fan But I still want you as a fan I'ma need to sit down, don't mean to make demands But I need you to... Say to me what you want from me Just say to me what you want from me D-D-Daytrip took it to ten (Hey) D-D-Daytrip took it to ten (Hey) Ayy, Panini, don't you be a meanie Thought you wanted me to go up Why you tryna keep me teeny? I It's a dream, he wished it on a genie I got fans finally, ain't you wanting them to see me? I I thought you want this for my life, for my life Said you wanted to see me thrive, you lied Just say to me what you want from me Just say to me what you want from me Ayy, Panini, don't you be a meanie Thought you wanted me to go up Why you tryna keep me teeny now? Now they need me, number one on streaming Oh yeah, you used to love me So what happened, what's the meaning? I I thought you want this for my life, for my life Said you wanted to see me thrive, you lied Now when it's all done, I get the upper hand I need a big Benz, not another fan But I still want you as a fan I'ma need to sit down, don't mean to make demands But I need you to... Say to me what you want from me Just say to me what you want from me D-D-Daytrip took it to ten (Hey) D-D-Daytrip took it to ten (Hey) Ayy, Panini, don't you be a meanie Thought you wanted me to go up Why you tryna keep me teeny? I It's a dream, he wished it on a genie I got fans finally, ain't you wanting them to see me? I I thought you want this for my life, for my life Said you wanted to see me thrive, you lied Just say to me what you want from me Just say to me what you want from me Ayy, Panini, don't you be a meanie Thought you wanted me to go up Why you tryna keep me teeny now? Now they need me, number one on streaming Oh yeah, you used to love me So what happened, what's the meaning? I I thought you want this for my life, for my life Said you wanted to see me thrive, you lied Now when it's all done, I get the upper hand I need a big Benz, not another fan But I still want you as a fan I'ma need to sit down, don't mean to make demands But I need you to... Say to me what you want from me Just say to me what you want from me D-D-Daytrip took it to ten (Hey) D-D-Daytrip took it to ten (Hey) Ayy, Panini, don't you be a meanie Thought you wanted me to go up Why you tryna keep me teeny? I It's a dream, he wished it on a genie I got fans finally, ain't you wanting them to see me? I I thought you want this for my life, for my life Said you wanted to see me thrive, you lied Just say to me what you want from me Just say to me what you want from me Ayy, Panini, don't you be a meanie Thought you wanted me to go up Why you tryna keep me teeny now? Now they need me, number one on streaming Oh yeah, you used to love me So what happened, what's the meaning? I I thought you want this for my life, for my life Said you wanted to see me thrive, you lied Now when it's all done, I get the upper hand I need a big Benz, not another fan But I still want you as a fan I'ma need to sit down, don't mean to make demands But I need you to... Say to me what you want from me Just say to me what you want from me D-D-Daytrip took it to ten (Hey)\n"
     ]
    },
    {
     "name": "stderr",
     "output_type": "stream",
     "text": [
      "The attention mask and the pad token id were not set. As a consequence, you may observe unexpected behavior. Please pass your input's `attention_mask` to obtain reliable results.\n",
      "Setting `pad_token_id` to `eos_token_id`:50256 for open-end generation.\n"
     ]
    },
    {
     "name": "stdout",
     "output_type": "stream",
     "text": [
      "He's such a nice boy, so well-mannered He's so much better than the last one youbroughtaround Please and thankyou, everything matters I'm gonna make surethat she knows I'm the best she's found The moment she walks out that door I'm not pretending anymore If your mother knew all of the things that we do If your mother knew all the things we do If your mother knew, she'd keep me so far from you If your mother knew all the things we do Sneak out the window, bed stuffed with pillows I'll be waiting in the car right around the block Back of the Benzo (Back of the Benzo) More than a friend zone (More than a friend zone) We've been hiding since the time they forgot to knock The moment she walks out that door (She walks out the door) I'm not pretending anymore If your mother knew all of the things that we do (Yeah) If your mother knew (If your mother) All the things we do (All that we do) If your mother knew, she'd keep me so far from you If your mother knew (Oh) all the things we do Next time that she sees me She gon' act like she don't know me 'Cause she knows all of the story Now your daddy wants to kill me (Ah) Next time that she sees me She gon' act like she don't know me 'Cause she knows all of the story Now your daddy wants to kill me (Yeah, yeah) If your mother only knew (Ooh) The moment she walks out that door I'm not pretending anymore If your mother knew all of the things that we do If your mother knew all the things we do (We do) If your mother knew, she'd keep me so far from you If your mother knew all the things we do (From you, oh) Next time that she sees me (Hey) She gon' act like she don't know me (Does she know me?) 'Cause she knows all of the story Now your daddy wants to kill me (Yeah) Next time that she sees me She gon' act like she don't know me 'Cause she knows all of the story Now your daddy wants to kill me (Yeah) If your mother knew all the things we do If your mother knew all the things we do If your mother knew all of the things that we do\n"
     ]
    },
    {
     "name": "stderr",
     "output_type": "stream",
     "text": [
      "The attention mask and the pad token id were not set. As a consequence, you may observe unexpected behavior. Please pass your input's `attention_mask` to obtain reliable results.\n",
      "Setting `pad_token_id` to `eos_token_id`:50256 for open-end generation.\n"
     ]
    },
    {
     "name": "stdout",
     "output_type": "stream",
     "text": [
      "Look into my eyes Can you see they're open wide? Would I lie to you? Would I lietoyou? Don't you knowit's true? That it's no one elsebut you Would I lie to you? Would I lie to you baby? It's hard for me to demonstrate That I might work, wanna stay up late Club girls call, want a serenade So I hop, hop on just to feel the need Lie, there ain't no lie I'm just a man and I'll always want you It's hard for me to love you like I do When I'm always on the road Baby, you should know It's hard for me to love you just to prove I ain't jealous, let me go Yeah, oh, oh, oh Look into my eyes Can you see they're open wide? Would I lie to you? Would I lie to you baby? Don't you know it's true? That it's no one else but you Would I lie to you baby? Would I lie to you baby? Back of the car, you start to jump on me Like heaven, you are, just finally know me And I, I fell in love again And I, ain't looking for a friend It's hard for me to love you like I do When I'm always on the road Baby, you should know It's hard for me to love you just to prove I ain't jealous, let me go Yeah, oh, oh, oh Look into my eyes Can you see they're open wide? Would I lie to you? Would I lie to you baby? Don't you know it's true? That it's no one else but you Would I lie to you baby? Would I lie to you baby? Look into my eyes Can you see they're open wide? Would I lie to you? Would I lie to you baby? Don't you know it's true? That it's no one else but you Would I lie to you baby? Would I lie to you baby? Look into my eyes Can you see they're open wide? Would I lie to you? Would I lie to you baby? Don't you know it's true? That it's no one else but you Would I lie to you baby? Would I lie to you baby?\n"
     ]
    },
    {
     "name": "stderr",
     "output_type": "stream",
     "text": [
      "The attention mask and the pad token id were not set. As a consequence, you may observe unexpected behavior. Please pass your input's `attention_mask` to obtain reliable results.\n",
      "Setting `pad_token_id` to `eos_token_id`:50256 for open-end generation.\n"
     ]
    },
    {
     "name": "stdout",
     "output_type": "stream",
     "text": [
      "Let me tell you a story about a boy and a girl It's kinda short, kindaboring,but the endis a whirl They were just sixteenwhen the people were mean So they didn't love themselves, and now they're gone Headstones on a lawn And when I was younger, I knew a boy and a boy Best friends with each other, but always wished they were more'Cause they loved one another, but never discovered 'Cause they were too afraid of what they'd say Moved to different states Oh, and I'm afraid that's just the way the world works It ain't funny, it ain't pretty, it ain't sweet Oh, and I'm afraid that's just the way the world works But I think that it could work for you and me Just wait and see It's not the end of the story Now it's on to the sequel about me and my friend Both our parents were evil, so we both made a bet If we worked and we saved, we could both run away And we'd have a better life, and I was right I wonder if she's alright Oh, and I'm afraid that's just the way the world works It ain't funny, it ain't pretty, it ain't sweet Oh, and I'm afraid that's just the way the world works But I think that it could work for you and me Just wait and see It's not the end of the story Okay And the movie's always runnin' in my head All the people, all the lovers, all my friends And I hope that they all get their happy end In the end Oh, and I'm afraid that's just the way the world works It ain't funny, it ain't pretty, it ain't sweet Oh, and I'm afraid that's just the way the world works But I think that it could work for you and me Just wait and see It's not the end of the story, hmm, hmm\n"
     ]
    },
    {
     "name": "stderr",
     "output_type": "stream",
     "text": [
      "The attention mask and the pad token id were not set. As a consequence, you may observe unexpected behavior. Please pass your input's `attention_mask` to obtain reliable results.\n",
      "Setting `pad_token_id` to `eos_token_id`:50256 for open-end generation.\n"
     ]
    },
    {
     "name": "stdout",
     "output_type": "stream",
     "text": [
      "They say, \"Oh my God, I see the way you shine Take your hands, my dear, and place them both in mine\" You know you stopped me dead while I was passing by And now I beg to see you dance just one more time Ooh, I see you, see you, see you every time And oh my, I, I like your style You, you make me, make me, make me wanna cry And now I beg to see you dance just one more time So they say Dance for me, dance for me, dance for me, oh-oh-oh I've never seen anybody do the things you do before They say Move for me, move for me, move for me, ayy-ayy-ayy And when you're done, I'll make you do it all again I said, \"Oh my God, I see you walking by Take my hands, my dear, and look me in my eyes\"Just like a monkey, I've been dancin' my whole life But you just beg to see me dance just one more time Ooh, I see you, see you, see you every time And oh my, I, I like your style You, you make me, make me, make me wanna cry And now I beg to see you dance just one more time So they say Dance for me, dance for me, dance for me, oh-oh-oh I've never seen anybody do the things you do before They say Move for me, move for me, move for me, ayy-ayy-ayy And when you're done, I'll make you do it all again They say Dance for me, dance for me, dance for me, oh-oh-oh, oh-oh, oh-oh I've never seen anybody do the things you do before They say Move for me, move for me, move for me, ayy-ayy-ayy And when you're done, I'll make you do it all again Ooh, ooh, ooh, ooh, ooh Oh-oh, oh-oh, oh Ooh, ooh, ooh, ooh, ooh-ooh Ooh, ah-ah, ah-ah They say Dance for me, dance for me, dance for me, oh-oh-oh I've never seen anybody do the things you do before They say Move for me, move for me, move for me, ayy-ayy-ayy And when you're done, I'll make you do it all again They say Dance for me, dance for me, dance for me, oh-oh-oh, oh-oh, oh-oh I've never seen anybody do the things you do before They say Move for me, move for me, move for me, ayy-ayy-ayy And when you're done, I'll make you do it all again All again They say, \"Oh my God, I see the way you shine Take your hands, my dear, and place them both in mine\" You know you stopped me dead while I was passing by And now I beg to see you dance just one more time Ooh, I see you, see you, see you every time And oh my, I, I like your style You, you make me, make me, make me wanna cry And now I beg to see you dance just one more time So they say Dance for me, dance for me, dance for me, oh-oh-oh I've never seen anybody do the things you do before They say Move for me, move for me, move for me, ayy-ayy-ayy And when you're done, I'll make you do it all again I said, \"Oh my God, I see you walking by Take my hands, my dear, and look me in my eyes\"Just like a monkey, I've been dancin' my whole life But you just beg to see me dance just one more time Ooh, I see you, see you, see you every time And oh my, I, I like your style You, you make me, make me, make me wanna cry And now I beg to see you dance just one more time So they say Dance for me, dance for me, dance for me, oh-oh-oh I've never seen anybody do the things you do before They say Move for me, move for me, move for me, ayy-ayy-ayy And when you're done, I'll make you do it all again They say Dance for me, dance for me, dance for me, oh-oh-oh, oh-oh, oh-oh I've never seen anybody do the things you do before They say Move for me, move for me, move for me, ayy-ayy-ayy And when you're done, I'll make you do it all again Ooh, ooh, ooh, ooh, ooh Oh-oh, oh-oh, oh Ooh, ooh, ooh, ooh, ooh-ooh Ooh, ah-ah, ah-ah They say Dance for me, dance for me, dance for me, oh-oh-oh I've never seen anybody do the things you do before They say Move for me, move for me, move for me, ayy-ayy-ayy And when you're done, I'll make you do it all again They say Dance for me, dance for me, dance for me, oh-oh-oh, oh-oh, oh-oh I've never seen anybody do the things you do before They say Move for me, move for me, move for me, ayy-ayy-ayy And when you're done, I'll make you do it all again All again They say, \"Oh my God, I see the way you shine Take your hands, my dear, and place them both in mine\" You know you stopped me dead while I was passing by And now I beg to see you dance just one more time Ooh, I see you, see you, see you every time And oh my, I, I like your style You, you make me, make me, make me wanna cry And now I beg to see you dance just one more time So they say Dance for me, dance for me, dance for me, oh-oh-oh I've never seen anybody do the things you do before They say Move for me, move for me, move for me, ayy-ayy-ayy And when you're done, I'll make you do it all again I said, \"Oh my God, I see you walking by Take my hands, my dear, and look me in my eyes\"Just like a monkey, I've been dancin' my whole life But you just beg to see me dance just one more time Ooh, I see you, see you, see you every time And oh my, I, I like your style You, you make me, make me, make me wanna cry And now I beg to see you dance just one more time So they say Dance for me, dance for me, dance for me, oh-oh-oh I've never seen anybody do the things you do before They say Move for me, move for me, move for me, ayy-ayy-ayy And when you're done, I'll make you do it all again They say Dance for me, dance for me, dance for me, oh-oh-oh, oh-oh, oh-oh I've never seen anybody do the things you do before They say Move for me, move for me, move for me, ayy-ayy-ayy And when you're done, I'll make you do it all again Ooh, ooh, ooh, ooh, ooh Oh-oh, oh-oh, oh Ooh, ooh, ooh, ooh, ooh-ooh Ooh, ah-ah, ah-ah They say Dance for me, dance for me, dance for me, oh-oh-oh I've never seen anybody do the things you do before They say Move for me, move for me, move for me, ayy-ayy-ayy And when you're done, I'll make you do it all again They say Dance for me, dance for me, dance for me, oh-oh-oh, oh-oh, oh-oh I've never seen anybody do the things you do before They say Move for me, move for me, move for me, ayy-ayy-ayy And when you're done, I'll make you do it all again All again\n"
     ]
    },
    {
     "name": "stderr",
     "output_type": "stream",
     "text": [
      "The attention mask and the pad token id were not set. As a consequence, you may observe unexpected behavior. Please pass your input's `attention_mask` to obtain reliable results.\n",
      "Setting `pad_token_id` to `eos_token_id`:50256 for open-end generation.\n"
     ]
    },
    {
     "name": "stdout",
     "output_type": "stream",
     "text": [
      "The sun is going down for us Running away and cut those feelings We used to walk up solid cloud You gave my life a different meaning But like the sun, we're burning out And now it's getting dark Losing track of all that we are Can we reverse this far 'cause I can see the clouds in the dark The sun's gone down for us The sun's gone down for us The sun's gone down for us The sun's gone down for us Remember when I got those feelings They used to walk up solid cloud You gave my life a different meaning But like the sun, we're burning out And now it's getting dark Losing track of all that we are Can we reverse this far 'cause I can see the clouds in the dark The sun's gone down for us The sun's gone down for us The sun's gone down for us The sun's gone down for us\n"
     ]
    },
    {
     "name": "stderr",
     "output_type": "stream",
     "text": [
      "The attention mask and the pad token id were not set. As a consequence, you may observe unexpected behavior. Please pass your input's `attention_mask` to obtain reliable results.\n",
      "Setting `pad_token_id` to `eos_token_id`:50256 for open-end generation.\n"
     ]
    },
    {
     "name": "stdout",
     "output_type": "stream",
     "text": [
      "I'm gonna love ya until you hate me And I'm gonna show ya what's really crazy You should've known better than to mess with me harder I'm gonna love ya, I'm gonna love ya, gonna love ya, gonna love ya Like a black widow, baby This twisted cat and mouse game always starts the same First we're both down to play, then somehow you go astray We went from nothing to something, liking to loving It was us against the world, and now we just fucking? It's like I loved you so much, and now I just hate you Feeling stupid for all the time that I gave you I wanted all or nothing for us, ain't no place in between Might, might be me believing what you say that you'll never mean Like it'll last forever, but now forever ain't as long If it wasn't for you, I wouldn't be stuck singing this song You were different from my last, but now you got 'em mirrored And as it all plays out, I see it couldn't be clearer Now sing You used to be thirsty for me But now you wanna be set free This is the web, web that you weave So baby now rest in peace (It's all over with now) I'm gonna love ya until you hate me (Right) And I'm gonna show ya (Show 'em what, show 'em what?) What's really crazy You should've known better than to mess with me harder (It's all over with now) I'm gonna love ya, I'm gonna love ya, gonna love ya, gonna love ya Like a black widow, baby (Black, black widow, baby) I'm gonna l-l-l-love you until it hurts Just to get you, I'm doing whatever works You ain't never met nobody that will do ya how I do ya That'll bring you to your knees, praise Jesus, hallelujah I'ma make you beg for it, plead for it 'Til you feel like you breathe for it 'Til you'll do any and everything for it I want you to fiend for it, wake up and dream for it 'Til it's got you gasping for air and you lean forward'Til they have a CAT scan to check on your mind And it's nothing but me, on it (On it, on it) Now it's me time, believe that If it's yours and you want it, I want it, promise I need that 'Till I'm everywhere that you be at, I can't fall back or quit'Cause this here is fatal attraction, so I take it all or I don't want shhh You used to be thirsty for me (Right) But now you wanna be set free This is the web, web that you weave So baby now rest in peace (It's all over with now) I'm gonna love ya until you hate me (Right) And I'm gonna show ya (Show 'em what, show 'em what?) What's really crazy You should've known better than to mess with me harder I'm gonna love ya, I'm gonna love ya, gonna love ya, gonna love ya Like a black widow, baby Black, black, black, black widow, baby\n"
     ]
    },
    {
     "name": "stderr",
     "output_type": "stream",
     "text": [
      "The attention mask and the pad token id were not set. As a consequence, you may observe unexpected behavior. Please pass your input's `attention_mask` to obtain reliable results.\n",
      "Setting `pad_token_id` to `eos_token_id`:50256 for open-end generation.\n"
     ]
    },
    {
     "name": "stdout",
     "output_type": "stream",
     "text": [
      "What's the trick? I wish I knew I'm so done with thinking through all the things I could've been And I know you wonder too All it takes is that one look you do and I run right back to you You crossed the line and it's time to say \"F you\" What's the point in saying that when you know how I'll react? You think you can just take it back, but shit just don't work like that You're the drug that I'm addicted to, and I want you so bad Guess I'm stuck with you, and that's that 'Cause when it all falls down, then whatever When it don't work out for the better If it just ain't right, and it's time to say goodbye When it all falls down, when it all falls down I'll be fine, I'll be fine You're the drug that I'm addicted to And I want you so bad, but I'll be fine Why we fight? I don't know We say what hurts the most Oh, I try staying cold, but you take it personal All these firing shots and making ground It's way too hard to cope, but I still can't let you go 'Cause when it all falls down, then whatever When it don't work out for the better If it just ain't right, and it's time to say goodbye When it all falls down, when it all falls down I'll be fine, I'll be fine You're the drug that I'm addicted to and I want you so bad But I'll be fine I'll be fine-ine-fine, fine-ine-ine (All falls down, falling down) I'll be fine-ine-fine, fine-ine-ine (All falls down) I'll be fine-ine-fine, fine-ine-ine (All falls down, falling down) I'll be fine-ine-fine, fine (All falls down) 'Cause when it all falls down, then whatever (Then whatever, babe) When it don't work out for the better (For the better) If we just ain't right, and it's time to say goodbye When it all falls down (When it all, when it all) When it all falls down (When it all falls down) I'll be fine (Fine, fine, fine), I'll be fine (I'll be fine) You're the drug that I'm addicted to and I want you so bad But I'll be fine (I'll be fine), and that's that\n"
     ]
    },
    {
     "name": "stderr",
     "output_type": "stream",
     "text": [
      "The attention mask and the pad token id were not set. As a consequence, you may observe unexpected behavior. Please pass your input's `attention_mask` to obtain reliable results.\n",
      "Setting `pad_token_id` to `eos_token_id`:50256 for open-end generation.\n"
     ]
    },
    {
     "name": "stdout",
     "output_type": "stream",
     "text": [
      "I know I know I know I know I know I know I...I know you're tired of loving, of loving With nobody to love. Nobody, nobody! So just grab somebody, no leaving this party With nobody to love. Nobody, nobody! Ooh OohOoh I know you're tired of loving, of loving With nobody to love. nobody, nobody! So just grab somebody, no leaving this party With nobody to love. Nobody, nobody! I know you're tired of loving, of loving With nobody to love. nobody, nobody! So just grab somebody, no leaving this party With nobody to love. Nobody, nobody! I know you're tired of loving, of loving With nobody to love. nobody, nobody! So just grab somebody, no leaving this party With nobody to love. Nobody, nobody!\n"
     ]
    },
    {
     "name": "stderr",
     "output_type": "stream",
     "text": [
      "The attention mask and the pad token id were not set. As a consequence, you may observe unexpected behavior. Please pass your input's `attention_mask` to obtain reliable results.\n",
      "Setting `pad_token_id` to `eos_token_id`:50256 for open-end generation.\n"
     ]
    },
    {
     "name": "stdout",
     "output_type": "stream",
     "text": [
      "This room's so quiet I can hear the sound of silence Right here in your arms And I'm falling asleep to your heartbeat It's just you and IShadows in the passing headlights And I think for a moment You won't let go of me But suddenly that bright blue Is glowing in this dark room You turn away like I'm not here at all Why don't you put that fucking phone down? Darling, so we could be alone now Can't you just be here when the lights go out Why don't you ever put that phone down? What could be so goddamn important That it can't wait until the morning? You got me right here with my clothes off now Why don't you put that fucking phone down? Yeah, the first thing you do Is when I reach out my hand to touch you Are you hiding something from me? Cause you moved when I get close Oh, I hate that bright blue It's glowing in this dark room You turn away like I'm not here at all Why don't you put that fucking phone down? Darling, so we could be alone now Can't you just be here when the lights go out Why don't you ever put that phone down? What could be so goddamn important That it can't wait until the morning? You got me right here with my clothes off now Why don't you put that fucking phone down? You're killing the moment The window is closing It's only supposed to be two of us Put that phone down Please, put that phone down Now I'm feeling awkward It's actually torture You're making a fool of the both of us Put that phone down Please, put that phone down Why don't you put that fucking phone down? Darling, so we could be alone now Can't you just be here when the lights go out And just put that phone down? What could be so goddamn important That it can't wait until the morning? You got me right here with my clothes off now Why don't you put that fucking phone down?\n"
     ]
    },
    {
     "name": "stderr",
     "output_type": "stream",
     "text": [
      "The attention mask and the pad token id were not set. As a consequence, you may observe unexpected behavior. Please pass your input's `attention_mask` to obtain reliable results.\n",
      "Setting `pad_token_id` to `eos_token_id`:50256 for open-end generation.\n"
     ]
    },
    {
     "name": "stdout",
     "output_type": "stream",
     "text": [
      "I can't write one song that's not about you Can't drink without thinkin' about you Is it too late to tell you that Everything means nothing if I can't have you? I'm in Toronto and I got this view But I might as well be in a hotel room, yeah It doesn't matter 'cause I'm so consumed Spending all my nights reading texts from you Oh, I'm good at keeping my distance I know that you're the feeling I'm missing You know that I hate to admit it But everything means nothing if I can't have you I can't write one song that's not about you Can't drink without thinkin' about you Is it too late to tell you that Everything means nothing if I can't have you? I can't write one song that's not about you Can't drink without thinkin' about you Is it too late to tell you that Everything means nothing if I can't have you? I'm so sorry that my timing's off But I can't move on if we're still gonna talk Is it wrong for me to not want half? I want all of you, all the strings attached Oh, I'm good at keeping my distance I know that you're the feeling I'm missing You know that I hate to admit it But everything means nothing if I can't have you I can't write one song that's not about you Can't drink without thinkin' about you Is it too late to tell you that Everything means nothing if I can't have you? I can't write one song that's not about you Can't drink without thinking about you Is it too late to tell you that Everything means nothing if I can't have you? I'm trying to move on, forget you, but I hold on Everything means nothing, everything means nothing, babe I'm trying to move on, forget you, but I hold on Everything means nothing if I can't have you, no I can't write one song that's not about you Can't drink without thinkin' about you Is it too late to tell you that Everything means nothing if I can't have you? (Can't have you) I can't write one song that's not about you Can't drink without thinking about you Is it too late to tell you that Everything means nothing if I can't have you? I can't write one song that's not about you Can't drink without thinkin' about you Is it too late to tell you that Everything means nothing if I can't have you? I'm in Toronto and I got this view But I might as well be in a hotel room, yeah It doesn't matter 'cause I'm so consumed Spending all my nights reading texts from you Oh, I'm good at keeping my distance I know that you're the feeling I'm missing You know that I hate to admit it But everything means nothing if I can't have you I can't write one song that's not about you Can't drink without thinkin' about you Is it too late to tell you that Everything means nothing if I can't have you? I can't write one song that's not about you Can't drink without thinkin' about you Is it too late to tell you that Everything means nothing if I can't have you? I'm so sorry that my timing's off But I can't move on if we're still gonna talk Is it wrong for me to not want half? I want all of you, all the strings attached Oh, I'm good at keeping my distance I know that you're the feeling I'm missing You know that I hate to admit it But everything means nothing if I can't have you I can't write one song that's not about you Can't drink without thinkin' about you Is it too late to tell you that Everything means nothing if I can't have you? I can't write one song that's not about you Can't drink without thinking about you Is it too late to tell you that Everything means nothing if I can't have you? I'm trying to move on, forget you, but I hold on Everything means nothing, everything means nothing, babe I'm trying to move on, forget you, but I hold on Everything means nothing if I can't have you, no I can't write one song that's not about you Can't drink without thinkin' about you Is it too late to tell you that Everything means nothing if I can't have you? (Can't have you) I can't write one song that's not about you Can't drink without thinking about you Is it too late to tell you that Everything means nothing if I can't have you? I can't write one song that's not about you Can't drink without thinkin' about you Is it too late to tell you that Everything means nothing if I can't have you? I'm in Toronto and I got this view But I might as well be in a hotel room, yeah It doesn't matter 'cause I'm so consumed Spending all my nights reading texts from you Oh, I'm good at keeping my distance I know that you're the feeling I'm missing You know that I hate to admit it But everything means nothing if I can't have you I can't write one song that's not about you Can't drink without thinkin' about you Is it too late to tell you that Everything means nothing if I can't have you? I can't write one song that's not about you Can't drink without thinkin' about you Is it too late to tell you that Everything means nothing if I can't have you? I'm so sorry that my timing's off But I can't move on if we're still gonna talk Is it wrong for me to not want half? I want all of you, all the strings attached Oh, I'm good at keeping my distance I know that you're the feeling I'm missing You know that I hate to admit it But everything means nothing if I can't have you I can't write one song that's not about you Can't drink without thinkin' about you Is it too late to tell you that Everything means nothing if I can't have you? I can't write one song that's not about you Can't drink without thinking about you Is it too late to tell you that Everything means nothing if I can't have you? I'm trying to move on, forget you, but I hold on Everything means nothing, everything means nothing, babe I'm trying to move on, forget you, but I hold on Everything means nothing if I can't have you, no I can't write one song that's not about you Can't drink without thinkin' about you Is it too late to tell you that Everything means nothing if I can't have you? (Can't have you) I can't write one song that's not about you Can't drink without thinking about you Is it too late to tell you that Everything means nothing if I can't have you? I can't write one song that's not about you Can't drink without thinkin' about you Is it too late to tell you that Everything means nothing if I can't have you? I'm in Toronto and I got this view But I might as well be in a hotel room, yeah It doesn't matter 'cause I'm so consumed Spending all my nights reading texts from you Oh, I'm good at keeping my distance I know that you're the feeling I'm missing You know that I hate to admit it But everything means nothing if I can't have you I can't write one song that's not about you Can't drink without thinkin' about you Is it too late to tell you that Everything means nothing if I can't have you? I can't write one song that's not about you Can't drink without thinkin' about you Is it too late to tell you that Everything means nothing if I can't have you? I'm so sorry that my timing's off But I can't move on if we're still gonna talk Is it wrong for me to not want half? I want all of you, all the strings attached Oh, I'm good at keeping my distance I know that you're the feeling I'm missing You know that I hate to admit it But everything means nothing if I can't have you I can't write one song that's not about you Can't drink without thinkin' about you Is it too late to tell you that Everything means nothing if I can't have you? I can't write one song that's not about you Can't drink without thinking about you Is it too late to tell you that Everything means nothing if I can't have you? I'm trying to move on, forget you, but I hold on Everything means nothing, everything means nothing, babe I'm trying to move on, forget you, but I hold on Everything means nothing if I can't have you, no I can't write one song that's not about you Can't drink without thinkin' about you Is it too late to tell you that Everything means nothing if I can't have you? (Can't have you) I can't write one song that's not about you Can't drink without thinking about you Is it too late to tell you that Everything means nothing if I can't have you?\n"
     ]
    },
    {
     "name": "stderr",
     "output_type": "stream",
     "text": [
      "The attention mask and the pad token id were not set. As a consequence, you may observe unexpected behavior. Please pass your input's `attention_mask` to obtain reliable results.\n",
      "Setting `pad_token_id` to `eos_token_id`:50256 for open-end generation.\n"
     ]
    },
    {
     "name": "stdout",
     "output_type": "stream",
     "text": [
      "Hate me, feels like we're in a boxing ring And my money's on you to win Maybe I'm (ah-ah) Maybe you're bitter, maybe I am just too sweet Level with me, baby (Ah, hey) The taste of your love is more than I can handle The words that you say mean nothing by tomorrow And you don't, and you don't, no you don't know you're sugar When I say you're a sugar rush (Ooh-ooh-ooh-ooh-ooh-ooh, ooh-ooh, oo-oo-oo-oo-ooh) Save me, such a fool for your vanity And you're too fond of your face (face, face, face) Maybe I'm (ah-ah) Maybe you're different, maybe I don't have the cheek Level with me, baby How are you getting what you want? How can I know, how can I know? (Hey) The taste of your love is more than I can handle The words that you say mean nothing by tomorrow And you don't, and you don't, no you don't know you're sugar When I say you're a sugar rush (rush, rush, rush) (Ooh-ooh-ooh-ooh-ooh-ooh, ooh-ooh, oo-oo-oo-oo-ooh) I am one with your agony You do love like you're on TV Leave me out like your family When was the last time that you were happy? I am one with your agony You do love like you're on TV Leave me out like your family When was the last time that you were happy? (Ah, hey) The taste of your love is more than I can handle The words that you say mean nothing by tomorrow And you don't, and you don't know, you don't know you're sugar When I say you're a sugar rush (Ooh-ooh-ooh-ooh-ooh-ooh, ooh-ooh, oo-oo-oo-oo-ooh) Sugar rush (Ooh-ooh-ooh-ooh-ooh-ooh, ooh-ooh, oo-oo-oo-oo-ooh)\n"
     ]
    },
    {
     "name": "stderr",
     "output_type": "stream",
     "text": [
      "The attention mask and the pad token id were not set. As a consequence, you may observe unexpected behavior. Please pass your input's `attention_mask` to obtain reliable results.\n",
      "Setting `pad_token_id` to `eos_token_id`:50256 for open-end generation.\n"
     ]
    },
    {
     "name": "stdout",
     "output_type": "stream",
     "text": [
      "I never go back, no, no, no I never go, I never go back I never go back, no, no, no I never go, I never go back It's not my baby, not the girl I knew then Not the girl I know now, anymore I wanna leave you, \"Baby don't you leave me Baby don't you love me? Mi amor\" Always look around girl, try to see the good things Why you always say that you've never done wrong? \"Why you never hold me? Tell me that you love me Why you always say that you'd never let go?\" I never go back, no, no, no I never go, I never go back I never go back, no, no, no I never go, I never go back I wanna do this, \"I don't wanna do this\" Girl, we shouldn't do this anymore\"\"Quiero dejarte, no me necesitas? Por que siempre dices, eso mi amor?\" Always look around girl, try to see the good things Why you always say that you've never done wrong? \"Why you never hold me? Tell me that you love me Why you always say that you'd never let go?\" I never go back, no, no, no I never go, I never go back I never go back, no, no, no I never go, I never go back (I never go back) I wanna leave you, wanna leave you But I can't let go (I can't do it) I wanna leave you, wanna leave you But I can't let go (I can't do it) I wanna leave you, wanna leave you But I can't let go (I can't do it) I wanna leave you, wanna leave you But I can't let go (I can't do it) Always look around girl, try to see the good things (I wanna leave you, wanna leave you) Why you always say that you never done wrong? (But I can't let go) \"Why you never hold me? Tell me that you love me (I wanna leave you, wanna leave you) Why you always say that you'd never let go?\" (But I can't let go) I never go back, no, no, no I never go, I never go back I never go back, no, no, no I never go, I never go back NA Always look around girl, try to see the good things Why you always say that you've never done wrong? \"Why you never hold me? Tell me that you love me Why you always say that you'd never let go?\" I never go back, no, no, no I never go, I never go back I never go back, no, no, no I never go, I never go back I never go back, no, no, no I never go, I never go back I never go back, no, no, no I never go, I never go back It's not my baby, not the girl I knew then Not the girl I know now, anymore I wanna leave you, \"Baby don't you leave me Baby don't you love me? Mi amor\" Always look around girl, try to see the good things Why you always say that you've never done wrong? \"Why you never hold me? Tell me that you love me Why you always say that you'd never let go?\" I never go back, no, no, no I never go, I never go back I never go back, no, no, no I never go, I never go back I wanna do this, \"I don't wanna do this\" Girl, we shouldn't do this anymore\"\"Quiero dejarte, no me necesitas? Por que siempre dices, eso mi amor?\" Always look around girl, try to see the good things Why you always say that you've never done wrong? \"Why you never hold me? Tell me that you love me Why you always say that you'd never let go?\" I never go back, no, no, no I never go, I never go back I never go back, no, no, no I never go, I never go back (I never go back) I wanna leave you, wanna leave you But I can't let go (I can't do it) I wanna leave you, wanna leave you But I can't let go (I can't do it) I wanna leave you, wanna leave you But I can't let go (I can't do it) I wanna leave you, wanna leave you But I can't let go (I can't do it) Always look around girl, try to see the good things (I wanna leave you, wanna leave you) Why you always say that you never done wrong? (But I can't let go) \"Why you never hold me? Tell me that you love me (I wanna leave you, wanna leave you) Why you always say that you'd never let go?\" (But I can't let go) I never go back, no, no, no I never go, I never go back I never go back, no, no, no I never go, I never go back NA Always look around girl, try to see the good things Why you always say that you've never done wrong? \"Why you never hold me? Tell me that you love me Why you always say that you'd never let go?\" I never go back, no, no, no I never go, I never go back I never go back, no, no, no I never go, I never go back\n"
     ]
    },
    {
     "name": "stderr",
     "output_type": "stream",
     "text": [
      "The attention mask and the pad token id were not set. As a consequence, you may observe unexpected behavior. Please pass your input's `attention_mask` to obtain reliable results.\n",
      "Setting `pad_token_id` to `eos_token_id`:50256 for open-end generation.\n"
     ]
    },
    {
     "name": "stdout",
     "output_type": "stream",
     "text": [
      "I come home in the morning light My mother says, \"When you gonna live your life right?\"Oh momma dear, we're not the fortunate ones And girls, they wanna have fun Oh, girls just wanna have fun The phone rings in the middle of the night My father yells, \"What you gonna do with your life?\"Oh daddy dear, you know you're still number one But girls, they wanna have fun Oh, girls just wanna have— That's all they really want Some fun When the working day is done Oh, girls, they wanna have fun Oh, girls just wanna have fun Girls, they want, wanna have fun Girls, wanna have— Some boys take a beautiful girl And hide her away from the rest of the world I wanna be the one to walk in the sun Oh, girls, they wanna have fun Oh, girls just wanna have— That's all they really want Some fun When the working day is done Oh, girls, they wanna have fun Oh, girls just wanna have fun Girls, they want, wanna have fun Girls, wanna have— They just wanna, they just wanna (Girls…) They just wanna, they just wanna (Girls just wanna have fun) (Girls just wanna have fun) Girls just wanna have fun They just wanna, they just wanna They just wanna, they just wanna (Girls…) They just wanna, they just wanna (Girls just wanna have fun) Girls, girls just wanna have fun When the working When the working day is done Oh, when the working day is done Oh, girls, girls just wanna have fun... They just wanna, they just wanna (Girls…) They just wanna, they just wanna (Girls just wanna have fun) Girls, girls just wanna have fun They just wanna, they just wanna When the working When the working day is done They just wanna, they just wanna (Girls…) Oh, when the working day is done Oh, girls, girls just wanna have fun Girls just wanna have fun They just wanna, they just wanna They just wanna NA I come home in the morning light My mother says, \"When you gonna live your life right?\"Oh momma dear, we're not the fortunate ones And girls, they wanna have fun Oh, girls just wanna have fun The phone rings in the middle of the night My father yells, \"What you gonna do with your life?\"Oh daddy dear, you know you're still number one But girls, they wanna have fun Oh, girls just wanna have— That's all they really want Some fun When the working day is done Oh, girls, they wanna have fun Oh, girls just wanna have fun Girls, they want, wanna have fun Girls, wanna have— Some boys take a beautiful girl And hide her away from the rest of the world I wanna be the one to walk in the sun Oh, girls, they wanna have fun Oh, girls just wanna have— That's all they really want Some fun When the working day is done Oh, girls, they wanna have fun Oh, girls just wanna have fun Girls, they want, wanna have fun Girls, wanna have— They just wanna, they just wanna (Girls…) They just wanna, they just wanna (Girls just wanna have fun) (Girls just wanna have fun) Girls just wanna have fun They just wanna, they just wanna They just wanna, they just wanna (Girls…) They just wanna, they just wanna (Girls just wanna have fun) Girls, girls just wanna have fun When the working When the working day is done Oh, when the working day is done Oh, girls, girls just wanna have fun... They just wanna, they just wanna (Girls…) They just wanna, they just wanna (Girls just wanna have fun) Girls, girls just wanna have fun They just wanna, they just wanna When the working When the working day is done They just wanna, they just wanna (Girls…) Oh, when the working day is done Oh, girls, girls just wanna have fun Girls just wanna have fun They just wanna, they just wanna They just wanna NA\n"
     ]
    },
    {
     "name": "stderr",
     "output_type": "stream",
     "text": [
      "The attention mask and the pad token id were not set. As a consequence, you may observe unexpected behavior. Please pass your input's `attention_mask` to obtain reliable results.\n",
      "Setting `pad_token_id` to `eos_token_id`:50256 for open-end generation.\n"
     ]
    },
    {
     "name": "stdout",
     "output_type": "stream",
     "text": [
      "Some boys kiss me, some boys hug me I think they're okay If they don't give me proper credit, I just walk away They can beg and they can plead But they can't see the light (That's right) 'Cause the boy with the cold hard cash is always Mister Right 'Cause we are living in a material world And I am a material girl You know that we are living in a material world And I am a material girl Some boys romance, some boys slow dance That's all right with me If they can't raise my interest, then I have to let them be Some boys try, and some boys lie But I don't let them play, no way Only boys that save their pennies make my rainy day 'Cause we are living in a material world And I am a material girl You know that we are living in a material world And I am a material girl Living in a material world And I am a material girl You know that we are living in a material world And I am a material girl Living in a material world (-Terial) Living in a material world Living in a material world (-Terial) Living in a material world Boys may come, and boys may go And that's all right, you see Experience has made me rich, and now they're after me 'Cause everybody's living in a material world And I am a material girl You know that we are living in a material world And I am a material girl Living in a material world And I am a material girl You know that we are living in a material world And I am a material girl A material, a material, a material, a material world Living in a material world (-Terial) Living in a material world Living in a material world (-Terial) Living in a material world Living in a material world (-Terial) Living in a material world Living in a material world (-Terial) Living in a material world\n"
     ]
    },
    {
     "name": "stderr",
     "output_type": "stream",
     "text": [
      "The attention mask and the pad token id were not set. As a consequence, you may observe unexpected behavior. Please pass your input's `attention_mask` to obtain reliable results.\n",
      "Setting `pad_token_id` to `eos_token_id`:50256 for open-end generation.\n"
     ]
    },
    {
     "name": "stdout",
     "output_type": "stream",
     "text": [
      "You like to drink and to smoke to take away the pain And I don't remember all of my mistakes And every high got low with no one to blame You're not alright, I'm not alright XO When I'm high in the shade and I'm feelin' a way Baby, hello I just wanted to see if your plans ever change You're my XO Gotta fight for the love What a rush and I don't want to let go So don't let me go Got no patience, conversation drivin' you up the wall I'm imperfect, you're a goddess, no sarcasm at all You say you're sorry, but don't know what you're sorry for, no No point in keeping the score You like to drink and to smoke to take away the pain And I don't remember all of my mistakes And every high got low with no one to blame You're not alright, I'm not alright You're not alright, I'm not alright I like to drink and to smoke to take away the pain And you don't remember all of your mistakes And when our hearts aren't broke, they're out of place You're not alright, I'm not alright Let's roll You and I don't belong in a place like this Baby, let's roll We don't need to believe everything they think When it's all so, uh Headed down that road and you don't gotta go down solo No, don't let me go Got no patience, conversation drivin' you up the wall I've been perfect, you're a goddess, no sarcasm at all You say you're sorry, but don't know what you're sorry for, no No point in keeping the score You like to drink and to smoke to take away the pain And I don't remember all of my mistakes And every high got low with no one to blame You're not alright, I'm not alright You're not alright, I'm not alright I like to drink and to smoke to take away the pain And you don't remember all of your mistakes And when our hearts aren't broken, they're out of place You're not alright, I'm not alright\n"
     ]
    },
    {
     "name": "stderr",
     "output_type": "stream",
     "text": [
      "The attention mask and the pad token id were not set. As a consequence, you may observe unexpected behavior. Please pass your input's `attention_mask` to obtain reliable results.\n",
      "Setting `pad_token_id` to `eos_token_id`:50256 for open-end generation.\n"
     ]
    },
    {
     "name": "stdout",
     "output_type": "stream",
     "text": [
      "She may contain the urge to run away But hold her down with soggy clothes and breezeblocks Cetirizine, your fever's gripped me again Never kisses, all you ever send are fullstops (La la la la) Do you know where the wild things go? They go along to take your honey (La la la la) Break down, now weep, build up breakfast Now let's eat, my love, my love, love, love (La la la la) Muscle to muscle and toe to toe The fear has gripped me but here I go My heart sinks as I jump up Your hand grips hand as my eyes shut Do you know where the wild things go? They go along to take your honey (La la la la) Break down, now sleep, build up breakfast Now let's eat, my love, my love, love, love (La la la la) She bruises, coughs, she splutters pistol shots Hold her down with soggy clothes and breezeblocks She's morphine, queen of my vaccine My love, my love, love, love (La la la la) Muscle to muscle and toe to toe The fear has gripped me but here I go My heart sinks as I jump up Your hand grips hand as my eyes shut She may contain the urge to run away But hold her down with soggy clothes and breezeblocks Germolene, disinfect the scene, my love, my love, love, love Please don't go, I love you so, my lovely Please don't go, please don't go I love you so, I love you so Please don't go, please don't go I love you so, I love you so Please break my heart... Please don't go, please don't go I love you so, I love you so Please don't go, please don't go I love you so, I love you so Please break my heart... Please don't go, I'll eat you whole I love you so, I love you so, I love you so Please don't go, I'll eat you whole I love you so, I love you so Please don't go, I'll eat you whole I love you so, I love you so, I love you so Please don't go, I'll eat you whole I love you so, I love you so Please don't go, I'll eat you whole I love you so, I love you so, I love you so Please don't go, I'll eat you whole I love you so, I love you so Please don't go, I'll eat you whole I love you so, I love you so, I love you so Please don't go, I'll eat you whole I love you so, I love you so She may contain the urge to run away But hold her down with soggy clothes and breezeblocks Cetirizine, your fever's gripped me again Never kisses, all you ever send are fullstops (La la la la) Do you know where the wild things go? They go along to take your honey (La la la la) Break down, now weep, build up breakfast Now let's eat, my love, my love, love, love (La la la la) Muscle to muscle and toe to toe The fear has gripped me but here I go My heart sinks as I jump up Your hand grips hand as my eyes shut Do you know where the wild things go? They go along to take your honey (La la la la) Break down, now sleep, build up breakfast Now let's eat, my love, my love, love, love (La la la la) She bruises, coughs, she splutters pistol shots Hold her down with soggy clothes and breezeblocks She's morphine, queen of my vaccine My love, my love, love, love (La la la la) Muscle to muscle and toe to toe The fear has gripped me but here I go My heart sinks as I jump up Your hand grips hand as my eyes shut She may contain the urge to run away But hold her down with soggy clothes and breezeblocks Germolene, disinfect the scene, my love, my love, love, love Please don't go, I love you so, my lovely Please don't go, please don't go I love you so, I love you so Please don't go, please don't go I love you so, I love you so Please break my heart... Please don't go, please don't go I love you so, I love you so Please don't go, please don't go I love you so, I love you so Please break my heart... Please don't go, I'll eat you whole I love you so, I love you so, I love you so Please don't go, I'll eat you whole I love you so, I love you so Please don't go, I'll eat you whole I love you so, I love you so, I love you so Please don't go, I'll eat you whole I love you so, I love you so Please don't go, I'll eat you whole I love you so, I love you so, I love you so Please don't go, I'll eat you whole I love you so, I love you so Please don't go, I'll eat you whole I love you so, I love you so, I love you so Please don't go, I'll eat you whole I love you so, I love you so\n"
     ]
    },
    {
     "name": "stderr",
     "output_type": "stream",
     "text": [
      "The attention mask and the pad token id were not set. As a consequence, you may observe unexpected behavior. Please pass your input's `attention_mask` to obtain reliable results.\n",
      "Setting `pad_token_id` to `eos_token_id`:50256 for open-end generation.\n"
     ]
    },
    {
     "name": "stdout",
     "output_type": "stream",
     "text": [
      "What is love? Baby, don't hurt me Don't hurt, me no more Baby, don't hurt me Don't hurt, me no more What is love? Yeah No, I don't know why you're not there I give you my love but you don't care So what is right and what is wrong? Give me a sign What is love? Oh, baby, don't hurt me Don't hurt me no more What is love? Oh, baby, don't hurt me Don't hurt me no more Whoa, whoa, whoa, whoa, whoa, whoa, uh, uh Whoa, whoa, whoa, whoa, whoa, whoa, uh, uh No, I don't know – what can I do? What else can I say? It's up to you I know we're one, just me and you I can't go on What is love? Oh, baby, don't hurt me Don't hurt me no more What is love? Oh, baby, don't hurt me Don't hurt me no more Whoa, whoa, whoa, whoa, whoa, whoa, uh, uh Whoa, whoa, whoa, whoa, whoa, whoa, uh, uh What is love? What is love? What is love? Oh, baby, don't hurt me Don't hurt me no more Don't hurt me Don't hurt me I want no other, no other lover This is our life, our time We are together, I need you forever Is it love? What is love? Oh, baby, don't hurt me Don't hurt me no more What is love? Oh, baby, don't hurt me Don't hurt me no more (Whoa, whoa) Oh, baby, don't hurt me Don't hurt me no more (whoa, whoa) Oh, baby, don't hurt me Don't hurt me no more What is love?\n"
     ]
    },
    {
     "name": "stderr",
     "output_type": "stream",
     "text": [
      "The attention mask and the pad token id were not set. As a consequence, you may observe unexpected behavior. Please pass your input's `attention_mask` to obtain reliable results.\n",
      "Setting `pad_token_id` to `eos_token_id`:50256 for open-end generation.\n"
     ]
    },
    {
     "name": "stdout",
     "output_type": "stream",
     "text": [
      "It's me and you, now I've been waiting Baby, tell me if you like it (Tell me if you like it) It's me and you, now As long as you're cool Right here is where you wanna be As long as you're cool Baby tell me how you like it As long as you're cool Here is where you wanna be As long as you're cool Baby tell me how you like it Now it's me and you, now I've been waiting Think I wanna make that move, now Baby, tell me if you like it (Tell me if you like it, now) It's me and you, now I've been waiting Think I wanna make that move, now Baby, tell me how you like it As long as you're cool Right here is where you wanna be Baby, tell me Baby, tell me Right here is where you wanna be Baby, tell me Baby, tell me To me and you To me and you, now (Baby, it's me and you) I've been waiting Think I wanna make that move, now (I'm making that move) Baby, tell me if you like it (Tell me if you like it uh huh) It's me and you, now I've been waiting (Hey!) Think I wanna make that move, now (Gonna make a move) Baby, tell me how you like it Now it's me and you, now Now it's me and you, now Think I wanna make that move, now As long as you're cool Right here's where you wanna be As long as you're cool Baby, tell me how you like it As long as you're cool Right here's where you wanna be As long as you're cool Baby, tell me how you like it As long as you're cool Right here's where you wanna be As long as you're cool Baby, tell me how you like it As long as you're cool Right here's where you wanna be As long as you're cool Baby, tell me how you like it I've been waiting\n"
     ]
    },
    {
     "name": "stderr",
     "output_type": "stream",
     "text": [
      "The attention mask and the pad token id were not set. As a consequence, you may observe unexpected behavior. Please pass your input's `attention_mask` to obtain reliable results.\n",
      "Setting `pad_token_id` to `eos_token_id`:50256 for open-end generation.\n"
     ]
    },
    {
     "name": "stdout",
     "output_type": "stream",
     "text": [
      "All around me are familiar faces Worn-out places, worn-out faces Bright and early for their daily races Going nowhere, going nowhere Their tears are filling up their glasses No expression, no expression Hide my head, I wanna drown my sorrow No tomorrow, no tomorrow And I find it kind of funny I find it kind of sad The dreams in which I'm dying Are the best I've ever had I find it hard to tell you I find it hard to take When people run in circles It's a very, very Mad world, mad world Children waiting for the day they feel good Happy birthday, happy birthday And to feel the way that every child should Sit and listen, sit and listen Went to school and I was very nervous No one knew me, no one knew me Hello, teacher, tell me what's my lesson Look right through me, look right through me And I find it kind of funny I find it kind of sad The dreams in which I'm dying Are the best I've ever had I find it hard to tell you I find it hard to take When people run in circles It's a very very Mad world, mad world Enlarging your world, mad world\n"
     ]
    },
    {
     "name": "stderr",
     "output_type": "stream",
     "text": [
      "The attention mask and the pad token id were not set. As a consequence, you may observe unexpected behavior. Please pass your input's `attention_mask` to obtain reliable results.\n",
      "Setting `pad_token_id` to `eos_token_id`:50256 for open-end generation.\n"
     ]
    },
    {
     "name": "stdout",
     "output_type": "stream",
     "text": [
      "Hey, I hear the voice of a preacher from the back room Calling my name and I follow just to find you I trace the faith to a broken down television, and put on the weather And I've trained myself to give up on the past 'cause I froze in time between hearses and caskets Lost control when I panicked at the acid test I wanna get better While my friends were getting high and chasing girls down parkway lines I was losing my mind because the love, the love, the love, the love, the love That I gave wasted on a nice face In a blaze of fear I put a helmet on a helmet Counting seconds through the night and got carried away So now I'm standing on the overpass screaming at the cars \"Hey, I wanna get better!\" I didn't know I was lonely 'til I saw your face I wanna get better, better, better, better I wanna get better I didn't know I was broken 'til I wanted to change I wanna get better, better, better, better I wanna get better I go up to my room and there's girls on the ceiling Cut out their pictures and I chase that feeling Of an eighteen year old who didn't know what loss was Now I'm a stranger And I miss the days of a life still permanent Mourn the years before I got carried away So now I'm staring at the interstate screaming at myself \"Hey, I wanna get better!\" I didn't know I was lonely 'til I saw your face I wanna get better, better, better, better I wanna get better I didn't know I was broken 'til i wanted to change I wanna get better, better, better, better I wanna get better 'Cause I'm sleeping in the back of a taxi I'm screaming from my bedroom window Even if it's gonna kill me Woke up this morning early before my family From this dream where she was trying to show me How a life can move from the darkness She said to get better So I put a bullet where I shoulda put a helmet And I crash my car 'cause I wanna get carried away That's why I'm standing on the overpass screaming at myself \"Hey, I wanna get better!\" I didn't know I was lonely 'til I saw your face I wanna get better, better, better, better I wanna get better I didn't know I was broken 'til I wanted to change I wanna get better, better, better, better I wanna get better\n"
     ]
    },
    {
     "name": "stderr",
     "output_type": "stream",
     "text": [
      "The attention mask and the pad token id were not set. As a consequence, you may observe unexpected behavior. Please pass your input's `attention_mask` to obtain reliable results.\n",
      "Setting `pad_token_id` to `eos_token_id`:50256 for open-end generation.\n"
     ]
    },
    {
     "name": "stdout",
     "output_type": "stream",
     "text": [
      "Cool it down before you hit the ground Started out, before you, twisted out (mhmm) Sick and tired of messing around (doo doo doo) Money really ain't no good to me Money really ain't no good to me (Oo yeah) Money really ain't no good to me Money ain't no good to me (Oo yeah) Hold it down, before you, breath it out Stack it up before you, lose your touch  (mhmm) Sick and tired of messing around (doo doo doo) Sick and tired of messing around (doo doo doo) Sick and tired of messing around (doo doo doo) Money ain't no good to me Money ain't no good to me Money ain't no good to me (Ooo yeah) Money, ain't no good to me Money, ain't no good to me (Ooo yeah) Money, ain't no good to me Money, money, no good to me Money, money, no good to me Money, money, no good to me Money, money, no good to me Money ain't no good to me Money ain't no good to me Money ain't no good to me (Ooo yeah) Money, ain't no good to me Money, ain't no good to me (Ooo yeah) Money, ain't no good to me\n"
     ]
    },
    {
     "name": "stderr",
     "output_type": "stream",
     "text": [
      "The attention mask and the pad token id were not set. As a consequence, you may observe unexpected behavior. Please pass your input's `attention_mask` to obtain reliable results.\n",
      "Setting `pad_token_id` to `eos_token_id`:50256 for open-end generation.\n"
     ]
    },
    {
     "name": "stdout",
     "output_type": "stream",
     "text": [
      "Every night, every day Ten times outta nine, I'm a hand grenade I don't wanna push you away, but I'm warning you, babe This ain't a green light, no serenade It's a red flag before the mayday Check all of my signs, keep away, I'm warning you, babe Afraid to light the fuse again; start a fire, lose a friend But when your heart opens, it's like I'm ready to fall again Who tripped the red wire out of the blue? Swept off my feet, said, \"God save me now\"How many people dance in a dark room? Swept off my feet, said, \"God save me now\" Is it real love? Is it real love? Ti-ti-ti-ticking like a time-bomb I can feel your, I can feel your heart Ti-ti-ti-ticking like a time-bomb Heads up, look alive The more that I stare into your eyes The more I get lost in your face; I'm warning you, babe A red line, danger zone Point of no return coming real close Pulling me in, I'm afraid, I'm warning you, babe Afraid to light the fuse again; start a fire, lose a friend But when your heart opens, it's like I'm ready to fall again Who tripped the red wire out of the blue? Swept off my feet, said, \"God save me now\" How many people dance in a dark room? Swept off my feet, said, \"God save me now\" Is it real love? Is it real love? Ti-ti-ti-ticking like a time-bomb I can feel your, I can feel your heart Ti-ti-ti-ticking like a time-bomb Ti-ti-ti-ticking like a time-bomb Afraid to light the fuse again; start a fire, lose a friend But when your heart opens, it's like I'm ready to fall again Who tripped the red wire out of the blue? Swept off my feet, said, \"God save me now\" How many people dance in a dark room? Swept off my feet, said, \"God save me now\" Is it real love? Is it real love? Ti-ti-ti-ticking like a time-bomb I can feel your, I can feel your heart Ti-ti-ti-ticking like a time-bomb I can feel your heart ti-ti-ti-ticking like a time-bomb I can feel your heart ti-ti-ti-ticking like a time-bomb\n"
     ]
    },
    {
     "name": "stderr",
     "output_type": "stream",
     "text": [
      "The attention mask and the pad token id were not set. As a consequence, you may observe unexpected behavior. Please pass your input's `attention_mask` to obtain reliable results.\n",
      "Setting `pad_token_id` to `eos_token_id`:50256 for open-end generation.\n"
     ]
    },
    {
     "name": "stdout",
     "output_type": "stream",
     "text": [
      "NA She's been my queen since we were sixteen We want the same things, we dream the same dreams, alright, alright I got it all 'cause she is the one Her mum calls me love, her dad calls me son, alright, alright I know, I know, I know for sure Everybody wanna steal my girl Everybody wanna take her heart away Couple billion in the whole wide world Find another one 'cause she belongs to me Everybody wanna steal my girl Everybody wanna take her heart away Couple billion in the whole wide world Find another one 'cause she belongs to me Na na na na na na na Oh yeah Na na na na na na na Alright Na na na na na na na, na na na na na na na She belongs to me Kisses like cream, her walk is so mean And every jaw drops when she's in those jeans, alright, alright I don't exist, if I don't have her The sun doesn't shine, the world doesn't turn, alright, alright But I know, I know, I know for sure Everybody wanna steal my girl Everybody wanna take her heart away Couple billion in the whole wide world Find another one 'cause she belongs to me Everybody wanna steal my girl Everybody wanna take her heart away Couple billion in the whole wide world Find another one 'cause she belongs to me Na na na na na na na Oh yeah Na na na na na na na Alright Na na na na na na na, na na na na na na na She know, she knows That I never let her down before Oh, she know, she knows That I'm never gonna let another take her love from me now Everybody wanna steal my girl Everybody wanna take her heart away Everybody wanna take her love away Couple billion in the whole wide world Find another one 'cause she belongs to me Well, find another one 'cause she belongs to me Everybody wanna steal my girl Everybody wanna take her heart away Couple billion in the whole wide world Find another one 'cause she belongs to me Na na na na na na na, oh yeah Oh yeah, alright yeah Na na na na na na na Alright Na na na na na na na, na na na na na na na She belongs to me Na na na na na na na She belongs to me Oh yeah Na na na na na na na Alright Na na na na na na na She belongs to me\n"
     ]
    },
    {
     "name": "stderr",
     "output_type": "stream",
     "text": [
      "The attention mask and the pad token id were not set. As a consequence, you may observe unexpected behavior. Please pass your input's `attention_mask` to obtain reliable results.\n",
      "Setting `pad_token_id` to `eos_token_id`:50256 for open-end generation.\n"
     ]
    },
    {
     "name": "stdout",
     "output_type": "stream",
     "text": [
      "It feels so real More than love I've felt before And I know there is love I willtryto keep yousatisfied Don't wanna be sad again With you,this feels like the first time Why do I always push away The things that I, I wanna say? I can't stop when you're with me I just can't stop all your loving I can't stop, you're playing with me I just can't stop all your loving I can't stop when you're with me I just can't stop all your loving I can't stop, you're playing with me I just can't stop all your loving Can't stop your loving I can't stop your loving Oh, can't stop your loving I just can't stop all your loving History, keeps ourselves from moving on (Yeah, yeah, yeah) Don't wanna be lost boys And never reach the finish line (Never each the finish line) Why do I always, push away The things that I, I wanna say? And can you believe me when I say I don't deserve you, I don't deserve you? I can't stop when you're with me I just can't stop all your loving I can't stop, you're playing with me I just can't stop all your loving I can't stop when you're with me I just can't stop all your loving I can't stop, you're playing with me I just can't stop all your loving (Can't stop, can't stop, can't stop, can't stop) (Can't stop, I just can't stop all your loving) (Can't stop, I just can't stop all your loving) Can't stop when you're with me I just can't stop all your loving I can't stop, you're playing with me I just can't stop all your loving I can't stop when you're with me I just can't stop all your loving I can't stop, you're playing with me I just can't stop all your loving I can't stop your loving I can't stop your loving I can't stop your loving I just can't stop all your loving I can't stop your loving I can't stop your loving I can't stop your loving I just can't stop all your loving I can't stop your loving I can't stop your loving (I can't stop it) I can't stop your loving I just can't stop all your loving\n"
     ]
    },
    {
     "name": "stderr",
     "output_type": "stream",
     "text": [
      "The attention mask and the pad token id were not set. As a consequence, you may observe unexpected behavior. Please pass your input's `attention_mask` to obtain reliable results.\n",
      "Setting `pad_token_id` to `eos_token_id`:50256 for open-end generation.\n"
     ]
    },
    {
     "name": "stdout",
     "output_type": "stream",
     "text": [
      "Am I the only one who's been mistaken? 'Cause you're the only one who keeps me waiting Do you know how much time I would be saving If I didn't let you into my head, let you into my bed? Oh, no, I've done it again Haven't I been here before, here before? Oh, Lord, my hand on my head Haven't I been here before, here before? So stop, stop saying that you're mine I'ma need a better reason to be spending all my time with you You leave me, I'll be fine I'ma need a better reason to be wasting my time with you Wasting, wasting my time with you Wasting, wasting my time with you Wasting, wasting my time with you Time with you Baby, I know you've been misbehaving I've been cleaning up the mess that you've been making Do you know how much time I would be saving If I didn't let you into my head, let you into my bed? No, no, I've done it again Haven't I been here before, here before? Oh, Lord, my hand on my head Haven't I been here before, here before? So stop, stop saying that you're mine I'ma need a better reason to be spending all my time with you You leave me, I'll be fine I'ma need a better reason to be wasting my time with you Wasting, wasting my time with you Wasting, I'll be wasting my time with you Wasting, I'll be wasting my time with you Time with you Oh, stop, stop saying that you're mine I'ma need a better reason to be spending all my time with you If you leave me, I'll be fine I'ma need a better reason to be wasting my time with you Wasting, wasting my time with you Wasting, I'll be wasting my time with you, babe Wasting, wasting my time with you Wasting my time with you, babe, mmm\n"
     ]
    },
    {
     "name": "stderr",
     "output_type": "stream",
     "text": [
      "The attention mask and the pad token id were not set. As a consequence, you may observe unexpected behavior. Please pass your input's `attention_mask` to obtain reliable results.\n",
      "Setting `pad_token_id` to `eos_token_id`:50256 for open-end generation.\n"
     ]
    },
    {
     "name": "stdout",
     "output_type": "stream",
     "text": [
      "Oh—I—oh—I—oh—I—oh—I The club isn't the best place to find a lover So the bar is where I go Me and my friends at the table doing shots Drinking fast and then we talk slow Come over and start up a conversation with just me And trust me I'll give it a chance now Take my hand, stop, put Van the Man on the jukebox And then we start to dance Boy, you know I want your love Your love was handmade for somebody like me Come on now, follow my lead I may be crazy, don't mind me Say, boy, let's not talk too much Grab on my waist and put that body on me Come on now, follow my lead Come on now, follow my lead Cause I'm in love with the shape of you We push and pull like a magnet do Although my heart is falling too I'm in love with your body And last night you were in my room And now my bedsheets smell like you Every day discovering something brand new I'm in love with your body Oh—I—oh—I—oh—I—oh—I I'm in love with your body Oh—I—oh—I—oh—I—oh—I One week in we let the story begin We're going out on our first date You and me are thrifty, so go all you can eat Fill up your bag and I fill up a plate We talk for hours and hours about the sweet and the sour And how your family is doing okay Leave and get in a taxi, then kiss in the backseat Tell the driver make the radio play Boy, you know I want your love Your love was handmade for somebody like me Come on now, follow my lead I may be crazy, don't mind me Say, boy, let's not talk too much Grab on my waist and put that body on me Come on now, follow my lead Come on now, follow my lead Cause I'm in love with the shape of you We push and pull like a magnet do Although my heart is falling too I'm in love with your body And last night you were in my room And now my bedsheets smell like you Every day discovering something brand new I'm in love with your body Oh—I—oh—I—oh—I—oh—I I'm in love with your body Oh—I—oh—I—oh—I—oh—I Be my baby, come on Be my baby, come on Be my baby, come on Be my baby, come on Be my baby, come on Be my baby, come on Be my baby, come on Be my baby, come on Cause I'm in love with the shape of you We push and pull like a magnet do Although my heart is falling too I'm in love with your body Last night you were in my room And now my bedsheets smell like you Every day discovering something brand new I'm in love with your body Oh—I—oh—I—oh—I—oh—I Be my baby, come on Oh—I—oh—I—oh—I—oh—I Be my baby, come on (I'm in love with your body) Oh—I—oh—I—oh—I—oh—I Be my baby, come on (I'm in love with your body) Oh—I—oh—I—oh—I—oh—I Be my baby, come on\n"
     ]
    },
    {
     "name": "stderr",
     "output_type": "stream",
     "text": [
      "The attention mask and the pad token id were not set. As a consequence, you may observe unexpected behavior. Please pass your input's `attention_mask` to obtain reliable results.\n",
      "Setting `pad_token_id` to `eos_token_id`:50256 for open-end generation.\n"
     ]
    },
    {
     "name": "stdout",
     "output_type": "stream",
     "text": [
      "I say why does it feel so good? So good to be bad Getting what I want, boy Why does that make you so mad? You see, why does it feel so good? So good to be bad Cause if it's trouble that you're looking for Oh baby, here I am Oh baby, here I am So why does it feel so good? So good to be bad Bad I say why does it feel so good? So good to be bad Getting what I want, boy Why does that make you so mad? You see, why does it feel so good? So good to be bad Cause if it's trouble that you're looking for Oh baby, here I am Oh baby, here I am So why does it feel so good? So good to be bad\n"
     ]
    },
    {
     "name": "stderr",
     "output_type": "stream",
     "text": [
      "The attention mask and the pad token id were not set. As a consequence, you may observe unexpected behavior. Please pass your input's `attention_mask` to obtain reliable results.\n",
      "Setting `pad_token_id` to `eos_token_id`:50256 for open-end generation.\n"
     ]
    },
    {
     "name": "stdout",
     "output_type": "stream",
     "text": [
      "I was sat up on the train Staring out the window at the rain (aye) I heard this little lady must've felt the pain ask her mum if the blazing sun'll ever shine again I felt ashamed feel the same not her mother though Nah, started to laugh got her son involved (aye) Mention the past like a running joke And told her 'without all the rain there's no stunning growth' Close, ah To everything and nothing Picture past the honeymoon and bluffing Where the wooden spoon is only cuffing Shorter the discussion but the roots can't manoeuvre out of nothing I've been suffering these dreamy days (ah) Remedy and lust don't hold any memories of us Rather hold you everyday until the memories are dust Yo we only caught the train cause you know I hate the bus Never get enough Born and raised Made attempts to crawl away Find a way to exist and hide your face some relate Leave everything in yesterday (Aye) They ask about the bible I was reading Told them that the title was misleading labelled it Jerusalem but really its for cooking Middle-Eastern I could see your mind was changing with the seasons shady for a reason (ah) They will start decreasing, leaving like the orange in the evening It was creeping through the clouds but now I'm proud to see the images releasing I just wish the little lady could've seen it but she was dreaming (ah) Reckon she's standing with her mum saying to her 'look, mother here's the sun' rooted in the moment til the memories are done So I sit and start to wonder on the woman she'll become Wonder if I'll have a son or a daughter, ones that I brought up never strong never telling me to run Never tried to find a sum, tryna get it done yo I wonder if she'll ever be as clever as her mum, one Born and raised Made attempts to crawl away Find a way to exist and hide your face some relate Leave everything in yesterday Born and raised Made attempts to crawl away Find a way to exist and hide your face some relate Leave everything in yesterday Life can be bad, it can turn bad in a second So remember what I'm tryna show you this life can be good one minute and next minute it can turn bad So don't look down on nobody coz that's how life can turn for everybody So remember its love everybody and I'm gonna look for that for my babe Thank you I was sat up on the train Staring out the window at the rain (aye) I heard this little lady must've felt the pain ask her mum if the blazing sun'll ever shine again I felt ashamed feel the same not her mother though Nah, started to laugh got her son involved (aye) Mention the past like a running joke And told her 'without all the rain there's no stunning growth' Close, ah To everything and nothing Picture past the honeymoon and bluffing Where the wooden spoon is only cuffing Shorter the discussion but the roots can't manoeuvre out of nothing I've been suffering these dreamy days (ah) Remedy and lust don't hold any memories of us Rather hold you everyday until the memories are dust Yo we only caught the train cause you know I hate the bus Never get enough Born and raised Made attempts to crawl away Find a way to exist and hide your face some relate Leave everything in yesterday (Aye) They ask about the bible I was reading Told them that the title was misleading labelled it Jerusalem but really its for cooking Middle-Eastern I could see your mind was changing with the seasons shady for a reason (ah) They will start decreasing, leaving like the orange in the evening It was creeping through the clouds but now I'm proud to see the images releasing I just wish the little lady could've seen it but she was dreaming (ah) Reckon she's standing with her mum saying to her 'look, mother here's the sun' rooted in the moment til the memories are done So I sit and start to wonder on the woman she'll become Wonder if I'll have a son or a daughter, ones that I brought up never strong never telling me to run Never tried to find a sum, tryna get it done yo I wonder if she'll ever be as clever as her mum, one Born and raised Made attempts to crawl away Find a way to exist and hide your face some relate Leave everything in yesterday Born and raised Made attempts to crawl away Find a way to exist and hide your face some relate Leave everything in yesterday Life can be bad, it can turn bad in a second So remember what I'm tryna show you this life can be good one minute and next minute it can turn bad So don't look down on nobody coz that's how life can turn for everybody So remember its love everybody and I'm gonna look for that for my babe Thank you\n"
     ]
    },
    {
     "name": "stderr",
     "output_type": "stream",
     "text": [
      "The attention mask and the pad token id were not set. As a consequence, you may observe unexpected behavior. Please pass your input's `attention_mask` to obtain reliable results.\n",
      "Setting `pad_token_id` to `eos_token_id`:50256 for open-end generation.\n"
     ]
    },
    {
     "name": "stdout",
     "output_type": "stream",
     "text": [
      "She says she blame you for running in and taking her heart away I say Iblameher for makingme believe her lies Don't understand howyou go wake up one day and just walk away You didn't even try to call to apologize And we're building up these walls Just to watch them fall You don't care at all You don't care at all (At all) And I don't know what to say Maybe I'm too late You were my everything 'til I lost it all At least you're free At least you're free At least you're free At least you're free She says she blame you for running in and taking her heart away (Heart away, heart away) I say I blame her for making me believe her lies (Hm) Don't understand how you go wake up one day and just walk away (Walk away) You didn't even try to call to apologize And we're building up these walls (Up these walls) Just to watch them fall (Just to watch them fall) You don't care at all You don't care at all (You don't care at all) At least you're free At least you're free At least you're free At least you're free At least you're free At least you're At least you're free At least you're free At least you're free\n"
     ]
    },
    {
     "name": "stderr",
     "output_type": "stream",
     "text": [
      "The attention mask and the pad token id were not set. As a consequence, you may observe unexpected behavior. Please pass your input's `attention_mask` to obtain reliable results.\n",
      "Setting `pad_token_id` to `eos_token_id`:50256 for open-end generation.\n"
     ]
    },
    {
     "name": "stdout",
     "output_type": "stream",
     "text": [
      "Warm nights, slow hands, you let me sleep In your arms with your heart in front of me Sweet words, small clouds You said to me, you'd be loving me forever We got lost in the night Now we're stumbling through the dark And sometimes I wonder why we have to work this hard But here we are I remember nobody loves me like you do (I remember, I remember) I remember I don't want perfect, I want you (I remember, yes, I remember) You know you're the only one How could I forget this love? I remember, no matter what, it's me and you (I remember, yes, I remember) Long nights that month you went away Phone calls, your voice, it's not the same So you drove all night just to say You'd be loving me forever We got lost in the night Now we're stumbling through the dark (Yeah, yeah) And sometimes I wonder why we have to work this hard But here we are I remember nobody loves me like you do (I remember, I remember) I remember I don't want perfect, I want you (I remember, yes, I remember) You know you're the only one How could I forget this love? (Yeah, yeah, yeah) I remember, no matter what, it's me and you (I remember, yes, I remember) Dancing under the stars Kissing you in the dark I remember your love, oh Never giving you up, giving you up, oh Dancing under the stars (Yeah) Kissing you in the dark I remember your love, oh Never giving you up, giving you up (Oh) I remember nobody loves me like you do (I remember, I remember) I remember I don't want perfect, I want you (I want you) (I remember, yes, I remember) You know you're the only one How could I forget this love? (Yeah, yeah, oh) I remember, no matter what, it's me and you (I remember, yes, I remember) No matter what, no matter what Dancing under the stars (Oh, yeah) Kissing you in the dark I remember your love, oh Never giving you up, giving you up, oh\n"
     ]
    },
    {
     "name": "stderr",
     "output_type": "stream",
     "text": [
      "The attention mask and the pad token id were not set. As a consequence, you may observe unexpected behavior. Please pass your input's `attention_mask` to obtain reliable results.\n",
      "Setting `pad_token_id` to `eos_token_id`:50256 for open-end generation.\n"
     ]
    },
    {
     "name": "stdout",
     "output_type": "stream",
     "text": [
      "Make me an offer One heart for true love Cards on the table Are you ready for this one? Cause this heart's protected And it's hanging on I wanna give in But I can't do it on my own Oh my, I don't really know if this is alright But we can take a stab at it If you steal my love, you have to keep it Oh my, maybe we were destined for these late nights Where we can work out all of it Til you have my heart and all Don't you wanna run right to our get away Don't you wanna fly out to our get away Don't you wanna, don't you wanna get away? Don't you wanna run right to our get away Don't you wanna fly out to our get away Don't you wanna, don't you wanna get away? Call off the search light We'll find a home You'll hold my heart tight In the pocket of your coat This weights been lifted But I feel whole, we had to risk it To break into the unknown Oh my, I don't really know if this is alright But we can take a stab at it If you steal my love, you have to keep it Oh my, maybe we were destined for these late nights Where we can work out all of it Til you have my heart and all Don't you wanna run right to our get away Don't you wanna fly out to our get away Don't you wanna, don't you wanna get away? Don't you wanna run right to our get away Don't you wanna fly out to our get away Don't you wanna, don't you wanna get away? Get away Get away Don't you wanna run right to our get away Don't you wanna fly out to our get away Don't you wanna, don't you wanna get away? Don't you wanna run right to our get away Don't you wanna fly out to our get away Don't you wanna, don't you wanna get away? Don't you wanna run right to our get away Don't you wanna fly out to our get away Don't you wanna, don't you wanna get away? Don't you wanna run right to our get away Don't you wanna fly out to our get away Don't you wanna, don't you wanna get away?\n"
     ]
    },
    {
     "name": "stderr",
     "output_type": "stream",
     "text": [
      "The attention mask and the pad token id were not set. As a consequence, you may observe unexpected behavior. Please pass your input's `attention_mask` to obtain reliable results.\n",
      "Setting `pad_token_id` to `eos_token_id`:50256 for open-end generation.\n"
     ]
    },
    {
     "name": "stdout",
     "output_type": "stream",
     "text": [
      "Oh, oh One foot in front of the other babe One breath leads to another, yeah Just keep moving, oh Look within for the strength today Listen out for the voice to say Just keep moving, oh Go, go, go Figure it out, figure it out, but don't stop moving Go, go, go Figure it out, figure it out, you can do this So my love, keep on running You gotta get through today There my love, keep on running Gotta keep those tears at bay Oh, my love, don't stop burning Gonna send them up in flames In flames Don't stop, tomorrow's another day Don't stop, tomorrow you'll feel no pain Just keep moving Don't stop the past'll trip you up You know, right now's gotta be enough Just keep moving Go, go, go Figure it out, figure it out, but don't stop moving Go, go, go Figure it out, figure it out, you can do this So my love, keep on running You gotta get through today There my love, keep on running Gotta keep those tears at bay Oh, my love, don't stop burning Gonna send them up in flames In flames In flames In flames Go, go, go Figure it out, figure it out, but don't stop moving Go, go, go Figure it out, figure it out, you can do this So my love, keep on running You gotta get through today Then my love, keep on running Gotta keep those tears at bay Oh, my love, don't stop burning Gonna send them up in flames In flames\n"
     ]
    },
    {
     "name": "stderr",
     "output_type": "stream",
     "text": [
      "The attention mask and the pad token id were not set. As a consequence, you may observe unexpected behavior. Please pass your input's `attention_mask` to obtain reliable results.\n",
      "Setting `pad_token_id` to `eos_token_id`:50256 for open-end generation.\n"
     ]
    },
    {
     "name": "stdout",
     "output_type": "stream",
     "text": [
      "So far, so drab Can't call it no towers on quest (So) (So) So worn unclear If I knew, then I wouldn't be stressed (So) (So) Get a child, fill your heart Bust down with the popcorn Cheap moto with some miles and a memoir Had a dream, re-emerge at the drug store Teenage love songs Score scenes worth Sundance, oh (Oh yeah) Surely I'll accept, oh (Oh) My choices breed regrets, oh (Oh) Hope soon soon there's none left, oh (Oh) Few folks seen me when my fingers fit the Cheerios Puffy Ami Yumi on the stereo 'Posed to be maestro for Juventus But events lead to venting for the check pen Please, unmarked barriers plenty Wish a nigga would try to press me Money on the raps like 'Bron We shouldn't be less than they see Oh, oh, ooh yeah Ooh (Ooh) Mhm, oh, mmm I love you, I love you, I love you, I love you I love you, I love you, I love you, I love you I love, yeah, you, yeah, you I get by, I get through I get over, I get moved Try my luck, don't try my trust I get by, I get through I get over, I get moved Try my luck, don't try my trust Cater to no wrong oft implausible Mission Hill how my top, blue Lucario Fourth grade, wishin' I could be Kim Possible I see obstacles, I see ways I ought to go Didn't mean nothin' by it but it's stinging though I've heard that before, learned it throwing stones Ooh, ooh God bless you (God bless you) God bless you (God bless you) If you tryin' (If you tryin') Don't miss 'em (Don't miss 'em) Ooh, ooh, who are you to say? Ooh-ahh, ooh-ahh, ooh-ahh, oh-ahh I get by, I get through I get over, I get moved Try my luck, don't try my trust I get by, I get through I get over, I get moved Try my luck, don't try my trust So far, so drab Can't call it no towers on quest (So) (So) So worn unclear If I knew, then I wouldn't be stressed (So) (So) Get a child, fill your heart Bust down with the popcorn Cheap moto with some miles and a memoir Had a dream, re-emerge at the drug store Teenage love songs Score scenes worth Sundance, oh (Oh yeah) Surely I'll accept, oh (Oh) My choices breed regrets, oh (Oh) Hope soon soon there's none left, oh (Oh) Few folks seen me when my fingers fit the Cheerios Puffy Ami Yumi on the stereo 'Posed to be maestro for Juventus But events lead to venting for the check pen Please, unmarked barriers plenty Wish a nigga would try to press me Money on the raps like 'Bron We shouldn't be less than they see Oh, oh, ooh yeah Ooh (Ooh) Mhm, oh, mmm I love you, I love you, I love you, I love you I love you, I love you, I love you, I love you I love, yeah, you, yeah, you I get by, I get through I get over, I get moved Try my luck, don't try my trust I get by, I get through I get over, I get moved Try my luck, don't try my trust Cater to no wrong oft implausible Mission Hill how my top, blue Lucario Fourth grade, wishin' I could be Kim Possible I see obstacles, I see ways I ought to go Didn't mean nothin' by it but it's stinging though I've heard that before, learned it throwing stones Ooh, ooh God bless you (God bless you) God bless you (God bless you) If you tryin' (If you tryin') Don't miss 'em (Don't miss 'em) Ooh, ooh, who are you to say? Ooh-ahh, ooh-ahh, ooh-ahh, oh-ahh I get by, I get through I get over, I get moved Try my luck, don't try my trust I get by, I get through I get over, I get moved Try my luck, don't try my trust\n"
     ]
    },
    {
     "name": "stderr",
     "output_type": "stream",
     "text": [
      "The attention mask and the pad token id were not set. As a consequence, you may observe unexpected behavior. Please pass your input's `attention_mask` to obtain reliable results.\n",
      "Setting `pad_token_id` to `eos_token_id`:50256 for open-end generation.\n"
     ]
    },
    {
     "name": "stdout",
     "output_type": "stream",
     "text": [
      "I just called me a taxi Cause I ran into my ex here And I ain't down for that I'm way too old for that I passed a round in rotation I got a forty as my chaser You know I'm down for that And it got me thinking Is this really real? You know, I'm about it everyday Is this really real? You know, it gets cloudy everyday I've been touched by an angel I've been loved by a devil Got my panties around my ankles I've been touched by an angel That's the only thing I know Got my panties around my ankles I've been touched by an angel I've been loved by a devil Got my panties around my ankles I've been touched by an angel That's the only thing I know Got my panties around my ankles I've been touched by an angel\n"
     ]
    },
    {
     "name": "stderr",
     "output_type": "stream",
     "text": [
      "The attention mask and the pad token id were not set. As a consequence, you may observe unexpected behavior. Please pass your input's `attention_mask` to obtain reliable results.\n",
      "Setting `pad_token_id` to `eos_token_id`:50256 for open-end generation.\n"
     ]
    },
    {
     "name": "stdout",
     "output_type": "stream",
     "text": [
      "Don't you know that my time's like a million dollars I could spend it anywhere Ridin' throughthenight in an'85, next to you Dancing through thelights and they flicker high, red and blue Everything is wrong, everything is right next to you Don't you know that my time's like a million dollars I could spend it anywhere I wanna waste, wanna waste my youth on you, you I wanna waste, wanna waste my youth on you, you Oh, the sounds running through the glass You can take the moment that I have, 'cause I wanna waste, wanna waste my youth on you, you Scared of growing up, looking out for love, breaks our hearts Staring at the sky, could we freeze the time? Crash this car No, I won't regret every seconds spend with you, ah Don't you know that my time's like a million dollars I could spend it anywhere I wanna waste, wanna waste my youth on you, you I wanna waste, wanna waste my youth on you, you Oh, the sounds running through the glass You can take the moment that I have, 'cause I wanna waste, wanna waste my youth on you, you Oh-oh-oh, oh-oh-oh-oh-oh Oh-oh-oh, oh-oh-oh-oh-oh Oh-oh-oh, oh-oh-oh-oh-oh Oh-oh-oh, oh-oh-oh-oh-oh I wanna waste, wanna waste my youth on you, you I wanna waste, wanna waste my youth on you, you Oh, the sounds running through the glass (No, no) You can take the moment that I have. 'cause I wanna waste, wanna waste my youth on you, you (On you, on you) Oh-oh-oh, oh-oh-oh-oh-oh Oh-oh-oh, oh-oh-oh-oh-oh Oh-oh-oh, oh-oh-oh-oh-oh Oh-oh-oh, oh-oh-oh-oh-oh Wanna waste, wanna waste my youth, ah I wanna waste, wanna waste my youth I wanna waste, wanna waste my youth on I wanna waste, wanna waste my youth My time's like a million dollars I could spend it anywhere\n",
      "Trying to forget you I'm all alone in a ghost town There's a beautiful madness Inside my soul and I can't stop Thinking of you Walking on a lonely avenue Are you? Are you? Are you? My love is so wild Please give me a sign My love is so wild Please give me, baby My love is so wild Please give me a sign My love is so wild Please give me a sign (A sign) Please give me a sign Fading in the dark All the lights go down I'm feeling high and drunk Close my eyes and I can't stop Thinking of you Walking on a lonely avenue Are you? Are you? Are you? My love is so wild Please give me a sign My love is so wild Please give me, baby My love is so wild Please give me a sign My love is so wild Please give me a sign (Baby) Please give me a sign (baby) (Are you? Baby, baby) Please give me a sign My love is so wild Please give me a sign My love is so wild Please give me, baby My love is so wild Please give me a sign My love is so wild Please give me a sign Please give me a sign (Give me a sign, sign, sign, sign baby) (Give me, give me, baby) (Give me a sign, sign, sign, sign baby) (Give me, give me, a sign) My love is so wild Please give me a sign My love is so wild Please give me, baby My love is so wild Please give me a sign My love is so wild Please give me a sign -\n",
      "I can't wait I've been longing to be dancing around again I can't wait I've been longing to be dancing around again I wish for the madness I live a bit lavish But you don't care besides And I'll be Living this freely And governing sadness With a watchful eye I'll deal with restraint He wanted me dead Wish somebody Told me it's all in my head I can't wait I've been longing to be dancing around again I can't wait I've been longing to be dancing around again I'll take it out in me What cages ambition That reaches out far I'll deal with restraint He wanted me dead Wish somebody Told me it's all in my head I can't wait I've been longing to be dancing around again I can't wait I've been longing to be dancing around again Dancing around again I'll deal with restraint He wanted me dead Wish somebody Told me it's all in my head I can't wait I've been longing to be dancing around again I can't wait I've been longing to be dancing around again\n",
      "Yeah (straight up) Ooh Wrist lookin' like it been dipped Dipped in that, dipped in that, dipped in that Script lookin' like it been flipped Flippin' that, flippin' that, flippin' that (yah) Pull up in that foreign, my God (skrrt, skrrt) Whole squad get in that, get in that Please say it ain't true, I had to go and cop two Hell nah, we can't fit in that Wild ones, like we fresh out the cage Showtime, baby, fresh off the stage (yah) Bad lil' mama, fresh off the page (yah, yah) Front like you love it But you know that you hate it (yeah, you hate it) Yeah, you know no better Yeah, you know no better (yah, yah) Yeah, you know no better Ooh Yeah, you know no better Say you different, who you kidding? Yeah, you know no better Ooh, save that talk for the ones Who don't know no better (know no better) 'Cause, baby, I know you better ('cause, baby, I know no better) Baby, I know you better (baby, I know...) Baby, I know you better Baby, I know you better Straight up Baby, I know you better Baby, I know, I know no better Top dropped off on my whip Wippin' that, wippin' that, wippin' that Yellow and that purple on mix Mixin' that, mixin' that, mixin' that (yeah) Copped my bitch from the tropics (yeah) You know where she sittin' at Takin' shots, pourin' bottle after bottle after bottle No, we ain't sippin' that (yah) Wild ones, like we fresh out the cage Showtime, baby, fresh off the stage (yah) Bad lil' mama, fresh off the page (yah, yah) Front like you love it, but you know that you hate it Yeah, you know no better (straight up) Yeah, you know no better (yah, yah) Yeah, you know no better Ooh Yeah, you know no better Say you different, who you kidding? Yeah, you know no better Ooh, save that talk for the ones Who don't know no better (no better) 'Cause, baby, I know you better ('cause, baby, I know no better) Baby, I know you better (baby, I know...) Baby, I know you better Baby, I know you better (baby, baby) Baby, I know you better Baby, I know, I know no better (Quavo) Drop top on the whip (drop top) Dab of ranch on the chips (dab) Ice cream gave her chills (ice cream) Too much cash, pay the bills I make her ride Mercedes (skrrt, skrrt) I can afford the latest (ayy) Baby, ignore the ratings (ignore 'em) Just pull up, we pop out, we ragin' We know no better (no) Stack my bread up (stack) Don't get fed up (nope) Ain't gon' let up (yeah) You told me to shut up (shut up) But I'ma do better (huh?) It's not my race (ooh) Get out my face (get out) Drop my case (drop it) Which way? (where?) Dat way (hey) Yeah, you know no better Say you different, who you kidding? Yeah, you know no better Ooh, save that talk for the ones who don't know no better 'Cause, baby, I know you better Maybe I know you better (straight up) Maybe I know you better Maybe I know you better (straight up, maybe I know you better) Maybe I know you better Baby, I know, I know no better\n",
      "I've been trying to win you over from the start But I haven't gotten very far AllalongI've been tryingto be someone else Been too afraidto be myself 'Cause you got that one in a million look in your eyes You make the stars wanna fall out of the sky I've been going crazy Can't stop thinking 'bout you baby All I wanna do is get close to you Before I run out of time I'll be your everything If you can love me for me Give you whatever you need If you can love me for me A promise I'll never leave you baby Where you are is where I'll be If you can love me for me Love me, love me Love me for me Love me, love me Love me for me All I need is a little bit of your touch (Of your touch) Your fingertips, they light me up (Light me up, up, up) If you give me a taste of your kiss (Just a taste of your kiss) I won't ever be able to resist 'Cause you got that one in a million look in your eyes You make the stars wanna fall out of the sky I've been going crazy Can't stop thinking 'bout you baby All I wanna do is get close to you Before I run out of time I'll be your everything If you can love me for me Give you whatever you need If you can love me for me A promise I'll never leave you baby Where you are is where I'll be If you can love me for me Love me, love me Love me for me Love me, love me Love me for me I'll be your everything, darling Give you whatever you need, you know I will A promise I'll never leave you baby Where you are is where I'll be If you can love me... Love me for me (Yeah) Love me, love me Love me for me Love me, love me (Love me, love me, love me) Love me for me\n",
      "It's more than I can take Just slowly coming down Spinning figure-eights But I'm in it And I'm barely half-awake Just waiting on the ground For the hourglass to break Any minute We're living an American life Keeping busy, wasting time Running on a chemical high And it never felt so good We're infinite high We're infinite falling Infinite high And it never felt so good We're infinite high We're infinite falling Infinite high And we never had it so good And it's getting all too much Your life is getting hard Living month-to-month On a credit card And it's never quite enough Just being who we are And searching for a rush Until we've gone too far We're living an American life Keeping busy, wasting time Running on a chemical high And it never felt so good We're infinite high We're infinite falling Infinite high And it never felt so good We're infinite high We're infinite falling Infinite high And we never had it so good Infinite, infinite high Infinite, infinite high Infinite, infinite high We're infinite high We're infinite falling Infinite high And it never felt so good We're infinite high We're infinite falling Infinite high And we never had it so good We're infinite high We're infinite falling We're infinite high And it never felt so good We're infinite high We're infinite falling We're infinite high And it never felt so good\n",
      "Speak, speak easy to me Got a lot on your mind This time tonight Speak, speak easy to me Don't let this go down tonight, tonight Speak, speak easy to me My victory sleeps, and holds defeat Speak, and may the world come undone We are out on our own tonight, tonight And oh god this is the last time And oh god this is the last time Can we keep the dialogue Will it ever be enough Can we keep the dialogue For now Speak, speak easy to me I pick at the seams and see release Seek and look through your teeth You're lying to me And oh god this is the last time And oh God this is the last time Can we keep the dialogue We are falling out of touch Can we keep the dialogue For now So speak easy to me So speak easy to me So speak easy to me So speak easy to me So speak easy to me So speak easy to me And oh God this is the last time And oh God this is the last time Can we keep the dialogue We are falling out of touch Can we keep the dialogue For now Can we keep the dialogue Will it ever be enough Can we keep the dialogue For now Speak, speak easy to me\n",
      "Oh-oh-oh-oh-oh-oh-oh-oh-oh-oh-oh-oh Caught in a bad romance Oh-oh-oh-oh-oh-oh-oh-oh-oh-oh-oh-oh Caught in a bad romance Ra-ra-ah-ah-ah Roma Roma-ma Gaga, \"Oh la-la\" Want your bad romance Ra-ra-ah-ah-ah Roma, Roma-ma Gaga, \"Oh la-la\" Want your bad romance I want your ugly, I want your disease I want your everything as long as it's free I want your love Love, love, love, I want your love, hey! I want your drama, the touch of your hand, (Hey!) I want your leather-studded kiss in the sand I want your love Love, love, love, I want your love (Love, love, love, I want your love) You know that I want you And you know that I need you I want it bad Your bad romance I want your love, and I want your revenge You and me could write a bad romance Oh-oh-oh-oh-oh I want your love, and all your lover's revenge You and me could write a bad romance Oh-oh-oh-oh-oh-oh-oh-oh-oh-oh-oh-oh Caught in a bad romance Oh-oh-oh-oh-oh-oh-oh-oh-oh-oh-oh-oh Caught in a bad romance Ra-ra-ah-ah-ah Roma-roma-ma Gaga, \"Oh la-la\" Want your bad romance I want your horror, I want your design ‘Cause you're a criminal as long as you're mine I want your love Love, love, love, I want your love, huh I want your psycho, your vertigo shtick (Hey, hey!) Want you in my rear window, baby, you're sick I want your love Love, love, love, I want your love (Love, love, love, I want your love) You know that I want you And you know that I need you ('cause I'm a free bitch, baby) I want it bad Your bad romance I want your love, and I want your revenge You and me could write a bad romance Oh-oh-oh-oh-oh I want your love, and all your lover's revenge You and me could write a bad romance Oh-oh-oh-oh-oh-oh-oh-oh-oh-oh-oh-oh Caught in a bad romance Oh-oh-oh-oh-oh-oh-oh-oh-oh-oh-oh-oh Caught in a bad romance Ra-ra-ah-ah-ah Roma-roma-ma Gaga, \"Oh la-la\" Want your bad romance Ra-ra-ah-ah-ah Roma-roma-ma Gaga, \"Oh la-la\" Want your bad romance Walk, walk, fashion, baby Work it, move that bitch crazy Walk, walk, fashion, baby Work it, move that bitch crazy Walk, walk, fashion, baby Work it, move that bitch crazy Walk, walk, passion, baby Work it, I'm a free bitch, baby I want your love, and I want your revenge I want your love, I don't wanna be friends Je veux ton amour et je veux ta revanche Je veux ton amour, I don't wanna be friends (Oh-oh-oh-oh-oh-oh-oh-oh-oh-oh-oh-oh) No, I don't wanna be friends (Want your bad romance) I don't wanna be friends Want your bad romance Want your bad romance I want your love, and I want your revenge You and me could write a bad romance Oh-oh-oh-oh-oh I want your love, and all your lover's revenge You and me could write a bad romance Oh-oh-oh-oh-oh-oh-oh-oh-oh-oh-oh-oh (Want your bad romance) Caught in a bad romance (Want your bad romance) Oh-oh-oh-oh-oh-oh-oh-oh-oh-oh-oh-oh (Want your bad romance) Caught in a bad romance Ra-ra-ah-ah-ah Roma, Roma-ma Gaga, \"Oh la-la\" Want your bad romance Oh-oh-oh-oh-oh-oh-oh-oh-oh-oh-oh-oh Caught in a bad romance Oh-oh-oh-oh-oh-oh-oh-oh-oh-oh-oh-oh Caught in a bad romance Ra-ra-ah-ah-ah Roma Roma-ma Gaga, \"Oh la-la\" Want your bad romance Ra-ra-ah-ah-ah Roma, Roma-ma Gaga, \"Oh la-la\" Want your bad romance I want your ugly, I want your disease I want your everything as long as it's free I want your love Love, love, love, I want your love, hey! I want your drama, the touch of your hand, (Hey!) I want your leather-studded kiss in the sand I want your love Love, love, love, I want your love (Love, love, love, I want your love) You know that I want you And you know that I need you I want it bad Your bad romance I want your love, and I want your revenge You and me could write a bad romance Oh-oh-oh-oh-oh I want your love, and all your lover's revenge You and me could write a bad romance Oh-oh-oh-oh-oh-oh-oh-oh-oh-oh-oh-oh Caught in a bad romance Oh-oh-oh-oh-oh-oh-oh-oh-oh-oh-oh-oh Caught in a bad romance Ra-ra-ah-ah-ah Roma-roma-ma Gaga, \"Oh la-la\" Want your bad romance I want your horror, I want your design ‘Cause you're a criminal as long as you're mine I want your love Love, love, love, I want your love, huh I want your psycho, your vertigo shtick (Hey, hey!) Want you in my rear window, baby, you're sick I want your love Love, love, love, I want your love (Love, love, love, I want your love) You know that I want you And you know that I need you ('cause I'm a free bitch, baby) I want it bad Your bad romance I want your love, and I want your revenge You and me could write a bad romance Oh-oh-oh-oh-oh I want your love, and all your lover's revenge You and me could write a bad romance Oh-oh-oh-oh-oh-oh-oh-oh-oh-oh-oh-oh Caught in a bad romance Oh-oh-oh-oh-oh-oh-oh-oh-oh-oh-oh-oh Caught in a bad romance Ra-ra-ah-ah-ah Roma-roma-ma Gaga, \"Oh la-la\" Want your bad romance Ra-ra-ah-ah-ah Roma-roma-ma Gaga, \"Oh la-la\" Want your bad romance Walk, walk, fashion, baby Work it, move that bitch crazy Walk, walk, fashion, baby Work it, move that bitch crazy Walk, walk, fashion, baby Work it, move that bitch crazy Walk, walk, passion, baby Work it, I'm a free bitch, baby I want your love, and I want your revenge I want your love, I don't wanna be friends Je veux ton amour et je veux ta revanche Je veux ton amour, I don't wanna be friends (Oh-oh-oh-oh-oh-oh-oh-oh-oh-oh-oh-oh) No, I don't wanna be friends (Want your bad romance) I don't wanna be friends Want your bad romance Want your bad romance I want your love, and I want your revenge You and me could write a bad romance Oh-oh-oh-oh-oh I want your love, and all your lover's revenge You and me could write a bad romance Oh-oh-oh-oh-oh-oh-oh-oh-oh-oh-oh-oh (Want your bad romance) Caught in a bad romance (Want your bad romance) Oh-oh-oh-oh-oh-oh-oh-oh-oh-oh-oh-oh (Want your bad romance) Caught in a bad romance Ra-ra-ah-ah-ah Roma, Roma-ma Gaga, \"Oh la-la\" Want your bad romance Oh-oh-oh-oh-oh-oh-oh-oh-oh-oh-oh-oh Caught in a bad romance Oh-oh-oh-oh-oh-oh-oh-oh-oh-oh-oh-oh Caught in a bad romance Ra-ra-ah-ah-ah Roma Roma-ma Gaga, \"Oh la-la\" Want your bad romance Ra-ra-ah-ah-ah Roma, Roma-ma Gaga, \"Oh la-la\" Want your bad romance I want your ugly, I want your disease I want your everything as long as it's free I want your love Love, love, love, I want your love, hey! I want your drama, the touch of your hand, (Hey!) I want your leather-studded kiss in the sand I want your love Love, love, love, I want your love (Love, love, love, I want your love) You know that I want you And you know that I need you I want it bad Your bad romance I want your love, and I want your revenge You and me could write a bad romance Oh-oh-oh-oh-oh I want your love, and all your lover's revenge You and me could write a bad romance Oh-oh-oh-oh-oh-oh-oh-oh-oh-oh-oh-oh Caught in a bad romance Oh-oh-oh-oh-oh-oh-oh-oh-oh-oh-oh-oh Caught in a bad romance Ra-ra-ah-ah-ah Roma-roma-ma Gaga, \"Oh la-la\" Want your bad romance I want your horror, I want your design ‘Cause you're a criminal as long as you're mine I want your love Love, love, love, I want your love, huh I want your psycho, your vertigo shtick (Hey, hey!) Want you in my rear window, baby, you're sick I want your love Love, love, love, I want your love (Love, love, love, I want your love) You know that I want you And you know that I need you ('cause I'm a free bitch, baby) I want it bad Your bad romance I want your love, and I want your revenge You and me could write a bad romance Oh-oh-oh-oh-oh I want your love, and all your lover's revenge You and me could write a bad romance Oh-oh-oh-oh-oh-oh-oh-oh-oh-oh-oh-oh Caught in a bad romance Oh-oh-oh-oh-oh-oh-oh-oh-oh-oh-oh-oh Caught in a bad romance Ra-ra-ah-ah-ah Roma-roma-ma Gaga, \"Oh la-la\" Want your bad romance Ra-ra-ah-ah-ah Roma-roma-ma Gaga, \"Oh la-la\" Want your bad romance Walk, walk, fashion, baby Work it, move that bitch crazy Walk, walk, fashion, baby Work it, move that bitch crazy Walk, walk, fashion, baby Work it, move that bitch crazy Walk, walk, passion, baby Work it, I'm a free bitch, baby I want your love, and I want your revenge I want your love, I don't wanna be friends Je veux ton amour et je veux ta revanche Je veux ton amour, I don't wanna be friends (Oh-oh-oh-oh-oh-oh-oh-oh-oh-oh-oh-oh) No, I don't wanna be friends (Want your bad romance) I don't wanna be friends Want your bad romance Want your bad romance I want your love, and I want your revenge You and me could write a bad romance Oh-oh-oh-oh-oh I want your love, and all your lover's revenge You and me could write a bad romance Oh-oh-oh-oh-oh-oh-oh-oh-oh-oh-oh-oh (Want your bad romance) Caught in a bad romance (Want your bad romance) Oh-oh-oh-oh-oh-oh-oh-oh-oh-oh-oh-oh (Want your bad romance) Caught in a bad romance Ra-ra-ah-ah-ah Roma, Roma-ma Gaga, \"Oh la-la\" Want your bad romance\n",
      "It was great at the very start Hands on each other Couldn't stand to be far apart Closer the better Now we're picking fights and slamming doors Magnifying all our flaws And I wonder why, wonder what for Why we keep coming back for more Is it just our bodies? Are we both losing our minds? Is the only reason you're holding me tonight 'Cause we're scared to be lonely? Do we need somebody just to feel like we're alright? Is the only reason you're holding me tonight 'Cause we're scared to be lonely? Too much time, losing track of us Where was the real? Undefined, spiraling out of touch Forgot how it feels All the messed up fights and slamming doors Magnifying all our flaws And I wonder why, wonder what for It's like we keep coming back for more Is it just our bodies? Are we both losing our minds? Is the only reason you're holding me tonight 'Cause we're scared to be lonely? Do we need somebody just to feel like we're alright? Is the only reason you're holding me tonight 'Cause we're scared to be lonely? Scared to be lonely Even when we know it's wrong Been somebody better for us all along Tell me, how can we keep holding on? Holding on tonight 'cause we're scared to be lonely Even when we know it's wrong Been somebody better for us all along Tell me, how can we keep holding on? Holding on tonight 'cause we're scared to be lonely Is it just our bodies? Are we both losing our minds? Is the only reason you're holding me tonight 'Cause we're scared to be lonely? Scared to be lonely Scared to be lonely Scared to be lonely Eh, eh, scared to be lonely It was great at the very start Hands on each other Couldn't stand to be far apart Closer the better Now we're picking fights and slamming doors Magnifying all our flaws And I wonder why, wonder what for Why we keep coming back for more Is it just our bodies? Are we both losing our minds? Is the only reason you're holding me tonight 'Cause we're scared to be lonely? Do we need somebody just to feel like we're alright? Is the only reason you're holding me tonight 'Cause we're scared to be lonely? Too much time, losing track of us Where was the real? Undefined, spiraling out of touch Forgot how it feels All the messed up fights and slamming doors Magnifying all our flaws And I wonder why, wonder what for It's like we keep coming back for more Is it just our bodies? Are we both losing our minds? Is the only reason you're holding me tonight 'Cause we're scared to be lonely? Do we need somebody just to feel like we're alright? Is the only reason you're holding me tonight 'Cause we're scared to be lonely? Scared to be lonely Even when we know it's wrong Been somebody better for us all along Tell me, how can we keep holding on? Holding on tonight 'cause we're scared to be lonely Even when we know it's wrong Been somebody better for us all along Tell me, how can we keep holding on? Holding on tonight 'cause we're scared to be lonely Is it just our bodies? Are we both losing our minds? Is the only reason you're holding me tonight 'Cause we're scared to be lonely? Scared to be lonely Scared to be lonely Scared to be lonely Eh, eh, scared to be lonely It was great at the very start Hands on each other Couldn't stand to be far apart Closer the better Now we're picking fights and slamming doors Magnifying all our flaws And I wonder why, wonder what for Why we keep coming back for more Is it just our bodies? Are we both losing our minds? Is the only reason you're holding me tonight 'Cause we're scared to be lonely? Do we need somebody just to feel like we're alright? Is the only reason you're holding me tonight 'Cause we're scared to be lonely? Too much time, losing track of us Where was the real? Undefined, spiraling out of touch Forgot how it feels All the messed up fights and slamming doors Magnifying all our flaws And I wonder why, wonder what for It's like we keep coming back for more Is it just our bodies? Are we both losing our minds? Is the only reason you're holding me tonight 'Cause we're scared to be lonely? Do we need somebody just to feel like we're alright? Is the only reason you're holding me tonight 'Cause we're scared to be lonely? Scared to be lonely Even when we know it's wrong Been somebody better for us all along Tell me, how can we keep holding on? Holding on tonight 'cause we're scared to be lonely Even when we know it's wrong Been somebody better for us all along Tell me, how can we keep holding on? Holding on tonight 'cause we're scared to be lonely Is it just our bodies? Are we both losing our minds? Is the only reason you're holding me tonight 'Cause we're scared to be lonely? Scared to be lonely Scared to be lonely Scared to be lonely Eh, eh, scared to be lonely\n",
      "My Lucifer is lonely Standing there, killing time Can't commit to anything but a crime Peter's on vacation, an open invitation Animals, evidence Pearly Gates look more like a picket fence Once you get inside 'em Got friends but can't invite them Hills burn in California My turn to ignore ya Don't say I didn't warn ya All the good girls go to Hell 'Cause even God herself has enemies And once the water starts to rise And Heaven's out of sight She'll want the Devil on her team My Lucifer is lonely Look at you needing me You know I'm not your friend without some greenery Walk in wearin' fetters Peter should know better Your cover up is caving in Man is such a fool, why are we saving him? Poisoning themselves now Begging for our help, wow Hills burn in California My turn to ignore ya Don't say I didn't warn ya All the good girls go to Hell (All the good girls go to Hell) 'Cause even God herself (God herself) has enemies And once the water starts to rise (Water starts to rise) And Heaven's out of sight She'll want the Devil on her team My Lucifer is lonely There's nothing left to save now My god is gonna owe me There's nothing left to save now Haha! I cannot do the snowflake\n",
      "Hey, we've been going through some changes Tell me that we'll make it Tell me that we'll make it Oh, I don't wanna be alone Tell me that you'll hold on Tell me that you'll hold on Without you, these walls get to feeling like they ain't a home We're already halfway there Are we gonna finish what we started Or just leave it here?'Cause the fight ain't fair If we're hanging onto something Only halfway there Can't wait forever We know better than to let it go We're already halfway there We're already halfway there Hey, I don't wanna be that story Where the ending goes missing 'Cause we couldn't go the distance Say, let me hear you say you understand We'll do all we can And this ain't the end And this ain't the end With you is not just a feeling, it's body and soul We're already halfway there Are we gonna finish what we started Or just leave it here?'Cause the fight ain't fair If we're hanging onto something Only halfway there Can't wait forever We know better than to let it go We're already halfway there We're already halfway there Hey, we've been going through some changes Tell me that we'll make it Tell me that we'll make it Halfway there Fight ain't fair We're already halfway there Are we gonna finish what we started Or just leave it here?'Cause the fight ain't fair If we're hanging onto something Only halfway there Can't wait forever We know better than to let it go We're already halfway there We're already halfway there\n",
      "Some nights, I stay up cashing in my bad luck Some nights, I call it a draw Some nights, I wish that my lips could build a castle Some nights, I wish they'd just fall off But I still wake up, I still see your ghost Oh, Lord, I'm still not sure what I stand for, oh What do I stand for? What do I stand for? Most nights, I don't know anymore This is it, boys, this is war What are we waiting for? Why don't we break the rules already? I was never one to believe the hype Save that for the black and white Try twice as hard and I'm half as liked But here they come again to jack my style And that's alright (That's Alright) I found a martyr in my bed tonight She stops my bones from wondering Just who I, who, I, who I am Oh, who am I? Well, some nights, I wish that this all would end 'Cause I could use some friends for a change And some nights, I'm scared you'll forget me again Some nights, I always win (I always win) But I still wake up, I still see your ghost Oh Lord, I'm still not sure what I stand for, oh What do I stand for? What do I stand for? Most nights, I don't know (Oh, come on) So this is it? I sold my soul for this? Washed my hands of that for this? I miss my mom and dad for this?(Oh, come on) No When I see stars, when I see stars, that's all they are When I hear songs, they sound like a swan So, come on Oh, come on Oh, come on Oh, come on Well, that is it, guys, that is all Five minutes in and I'm bored again Ten years of this, I'm not sure if anybody understands This one is not for the folks back home Sorry to leave, Mom, I had to go Who the fuck wants to die alone All dried up in the desert sun? My heart is breaking for my sister And the con that she called \"love\" And then I look into my nephew's eyes Man, you wouldn't believe the most amazing things That can come from Some terrible nights The other night, you wouldn't believe The dream I just had about you and me I called you up, but we'd both agree It's for the best you didn't listen It's for the best we get our distance, oh For the best you didn't listen It's for the best we get our distance, oh Some nights, I stay up cashing in my bad luck Some nights, I call it a draw Some nights, I wish that my lips could build a castle Some nights, I wish they'd just fall off But I still wake up, I still see your ghost Oh, Lord, I'm still not sure what I stand for, oh What do I stand for? What do I stand for? Most nights, I don't know anymore This is it, boys, this is war What are we waiting for? Why don't we break the rules already? I was never one to believe the hype Save that for the black and white Try twice as hard and I'm half as liked But here they come again to jack my style And that's alright (That's Alright) I found a martyr in my bed tonight She stops my bones from wondering Just who I, who, I, who I am Oh, who am I? Well, some nights, I wish that this all would end 'Cause I could use some friends for a change And some nights, I'm scared you'll forget me again Some nights, I always win (I always win) But I still wake up, I still see your ghost Oh Lord, I'm still not sure what I stand for, oh What do I stand for? What do I stand for? Most nights, I don't know (Oh, come on) So this is it? I sold my soul for this? Washed my hands of that for this? I miss my mom and dad for this?(Oh, come on) No When I see stars, when I see stars, that's all they are When I hear songs, they sound like a swan So, come on Oh, come on Oh, come on Oh, come on Well, that is it, guys, that is all Five minutes in and I'm bored again Ten years of this, I'm not sure if anybody understands This one is not for the folks back home Sorry to leave, Mom, I had to go Who the fuck wants to die alone All dried up in the desert sun? My heart is breaking for my sister And the con that she called \"love\" And then I look into my nephew's eyes Man, you wouldn't believe the most amazing things That can come from Some terrible nights The other night, you wouldn't believe The dream I just had about you and me I called you up, but we'd both agree It's for the best you didn't listen It's for the best we get our distance, oh For the best you didn't listen It's for the best we get our distance, oh\n",
      "I met her on a Monday evening She was standing outside of the park and ride AndIsaid, \"Hey ma,where you been?\" \"Been looking for awoman like you for all my life\" And she said, \"Hola, talk to me, before I have to leave\" And one day we could be Maybe more than two lost souls just passing by Knew I was falling when I looked inside your eyes She said, \"I know you are, but what am I?\" Tell me, have you seen a sunset Turn into a sunrise? Kiss right through the night? 'Cause we should try that sometime Hold you 'til the mornin'And if I said I'm fallin', would you just reply \"I know you are, but what am I?\" (Ah-ooh, ah-ooh) What am I?(Ah-ooh) What am I?(Ah-ooh) Open the door to my apartment, when we get in Kissin' on my neck and throw my jacket to the side And I know your heart is beating quick And if you put your head on my chest, hear the same in mine, yeah And we'll be making love Until the sun comes up But one day maybe II could put a ring on your finger before you change your mind, yeah Knew I was falling when I looked inside your eyes She said, \"I know you are, but what am I?\" Tell me, have you seen a sunset Turn into a sunrise? Kiss right through the night? 'Cause we should try that sometime Hold you 'til the mornin'And if I said I'm fallin', would you just reply \"I know you are, but what am I?\" (Ah-ooh, ah-ooh) What am I?(Ah-ooh) What am I?(Ah-ooh) What am I?(Ah-ooh) Tell me, have you seen a sunset Turn into a sunrise? Kiss right through the night? 'Cause we should try that sometime Hold you 'til the mornin'And if I said I'm fallin', would you just reply? \"I know you are, but what am I?\" Tell me, have you seen a sunset (Yeah) Turn into a sunrise? Kiss right through the night? (Through the night) 'Cause we should try that sometime Hold you 'til the mornin' (Hold you 'til the morning) And if I said I'm fallin', would you just reply \"I know you are, but what am I?\"\n",
      "There's a couple of lights To see me home Born to fight Broken bones There's nothing to see But a man on the gun Struggle to keep My head on the ground Here I stand Nothing to win, nothing to lose Here I am Nothing to win, nothing to lose Here I stand Nothing to win, nothing to lose Here I am Nothing to win, nothing to lose Fall onto the glass Cut open the scars Got nothing to pass But a wet cigar I struggle to keep The holes in the wall There's nothing to see But I struggle to keep (Be gone with the luck) Here I stand I got nothing to win, I got nothing to lose Here I am I got nothing to win, I got nothing to lose (Buckle and cuffs on)\n",
      "I never came to the beach or stood by the ocean I never sat by the shore under the sun with my feet in the sand But you brought me here, and I'm happy that you did'Cause now I'm as free, as birds catchin' the wind I always thought I would sink, so I never swam I never went boatin', don't get how they are floatin' And sometimes I get so scared of what I can't understand But here I am, next to you The sky's more blue in Malibu Next to you in Malibu Next to you We watched the sun go down as we were walkin' I'd spent the rest of my life just standing here talkin'You would explain the current, as I just smile Hoping that you'll stay the same and nothing will change And it'll be us, just for a while Do they even exist? That's when I make a wish, to swim away with the fish Cause it's supposed to be this hot all summer long I never would've believed you if three years ago you told me I'd be here writing this song But here I am, next to you The sky's so blue in Malibu Next to you in Malibu Next to you Next to you The sky's so blue in Malibu Next to you We are just like the waves that flow back and forth Sometimes I feel like I'm drowning And you're there to save me And I wanna thank you with all of my heart It's a brand new start A dream come true in Malibu I never came to the beach or stood by the ocean I never sat by the shore under the sun with my feet in the sand But you brought me here, and I'm happy that you did'Cause now I'm as free, as birds catchin' the wind I always thought I would sink, so I never swam I never went boatin', don't get how they are floatin' And sometimes I get so scared of what I can't understand But here I am, next to you The sky's more blue in Malibu Next to you in Malibu Next to you We watched the sun go down as we were walkin' I'd spent the rest of my life just standing here talkin'You would explain the current, as I just smile Hoping that you'll stay the same and nothing will change And it'll be us, just for a while Do they even exist? That's when I make a wish, to swim away with the fish Cause it's supposed to be this hot all summer long I never would've believed you if three years ago you told me I'd be here writing this song But here I am, next to you The sky's so blue in Malibu Next to you in Malibu Next to you Next to you The sky's so blue in Malibu Next to you We are just like the waves that flow back and forth Sometimes I feel like I'm drowning And you're there to save me And I wanna thank you with all of my heart It's a brand new start A dream come true in Malibu\n",
      "Fuck you, and you, and you I hate your friends and they hate me too I'm through, I'm through, I'm through This that hot girl bummer anthem Turn it up and throw a tantrum This that hot girl bummer anthem Turn it up and throw a tantrum This that throw up in your Birkin bag Hook up with someone random This that social awkward suicide That buy your lips and buy your likes I swear she had a man But shit hit different when it's Thursday night That college dropout music Every day leg day, she be too thick And my friends are all annoying But we go dumb, yeah, we go stupid This that 10 K on the table Just so we can be secluded And the vodka came diluted One more line, I'm superhuman Fuck you, and you, and you I hate your friends and they hate me too I'm through, I'm through, I'm through This that hot girl bummer anthem Turn it up and throw a tantrum Fuck you, and you, and you I hate your friends and they hate me too Fuck you, and you, and you This that hot girl bummer anthem Turn it up and throw a tantrum This that hot girl bummer two-step They can't box me in, I'm too left This that drip, it's more like oceans They can't fit me in a Trojan Out of pocket, but I'm always in my bag Yeah, that's the slogan This that, \"Who's all there?\"I'm pullin' up wit' a emo chick that's broken This that college dropout music Every day leg day, she be too thick And my friends are all annoying But we go dumb, yeah, we go stupid This that 10 K on the table Just so we can be secluded And the vodka came diluted One more line, I'm superhuman Fuck you, and you, and you I hate your friends and they hate me too I'm through, I'm through, I'm through This that hot girl bummer anthem Turn it up and throw a tantrum Fuck you, and you, and you I hate your friends and they hate me too Fuck you, and you, and you This that hot girl bummer anthem Turn it up and throw a tantrum This that college dropout music Every day leg day, she be too thick And my friends are all annoying But we go dumb, yeah, we go stupid This that college dropout music Every day leg day, she be too thick And my friends are all annoying But we go dumb, yeah, we go stupid We go stupid, we go stupid, we go—And you want me to change? Fuck you! Fuck you, and you, and you I hate your friends and they hate me too I'm through, I'm through, I'm through This that hot girl bummer anthem Turn it up and throw a tantrum Fuck you, and you, and you I hate your friends and they hate me too Fuck you, and you, and you This that hot girl bummer anthem Turn it up and throw a tantrum Fuck you, and you, and you I hate your friends and they hate me too I'm through, I'm through, I'm through This that hot girl bummer anthem Turn it up and throw a tantrum This that hot girl bummer anthem Turn it up and throw a tantrum This that throw up in your Birkin bag Hook up with someone random This that social awkward suicide That buy your lips and buy your likes I swear she had a man But shit hit different when it's Thursday night That college dropout music Every day leg day, she be too thick And my friends are all annoying But we go dumb, yeah, we go stupid This that 10 K on the table Just so we can be secluded And the vodka came diluted One more line, I'm superhuman Fuck you, and you, and you I hate your friends and they hate me too I'm through, I'm through, I'm through This that hot girl bummer anthem Turn it up and throw a tantrum Fuck you, and you, and you I hate your friends and they hate me too Fuck you, and you, and you This that hot girl bummer anthem Turn it up and throw a tantrum This that hot girl bummer two-step They can't box me in, I'm too left This that drip, it's more like oceans They can't fit me in a Trojan Out of pocket, but I'm always in my bag Yeah, that's the slogan This that, \"Who's all there?\"I'm pullin' up wit' a emo chick that's broken This that college dropout music Every day leg day, she be too thick And my friends are all annoying But we go dumb, yeah, we go stupid This that 10 K on the table Just so we can be secluded And the vodka came diluted One more line, I'm superhuman Fuck you, and you, and you I hate your friends and they hate me too I'm through, I'm through, I'm through This that hot girl bummer anthem Turn it up and throw a tantrum Fuck you, and you, and you I hate your friends and they hate me too Fuck you, and you, and you This that hot girl bummer anthem Turn it up and throw a tantrum This that college dropout music Every day leg day, she be too thick And my friends are all annoying But we go dumb, yeah, we go stupid This that college dropout music Every day leg day, she be too thick And my friends are all annoying But we go dumb, yeah, we go stupid We go stupid, we go stupid, we go—And you want me to change? Fuck you! Fuck you, and you, and you I hate your friends and they hate me too I'm through, I'm through, I'm through This that hot girl bummer anthem Turn it up and throw a tantrum Fuck you, and you, and you I hate your friends and they hate me too Fuck you, and you, and you This that hot girl bummer anthem Turn it up and throw a tantrum Fuck you, and you, and you I hate your friends and they hate me too I'm through, I'm through, I'm through This that hot girl bummer anthem Turn it up and throw a tantrum This that hot girl bummer anthem Turn it up and throw a tantrum This that throw up in your Birkin bag Hook up with someone random This that social awkward suicide That buy your lips and buy your likes I swear she had a man But shit hit different when it's Thursday night That college dropout music Every day leg day, she be too thick And my friends are all annoying But we go dumb, yeah, we go stupid This that 10 K on the table Just so we can be secluded And the vodka came diluted One more line, I'm superhuman Fuck you, and you, and you I hate your friends and they hate me too I'm through, I'm through, I'm through This that hot girl bummer anthem Turn it up and throw a tantrum Fuck you, and you, and you I hate your friends and they hate me too Fuck you, and you, and you This that hot girl bummer anthem Turn it up and throw a tantrum This that hot girl bummer two-step They can't box me in, I'm too left This that drip, it's more like oceans They can't fit me in a Trojan Out of pocket, but I'm always in my bag Yeah, that's the slogan This that, \"Who's all there?\"I'm pullin' up wit' a emo chick that's broken This that college dropout music Every day leg day, she be too thick And my friends are all annoying But we go dumb, yeah, we go stupid This that 10 K on the table Just so we can be secluded And the vodka came diluted One more line, I'm superhuman Fuck you, and you, and you I hate your friends and they hate me too I'm through, I'm through, I'm through This that hot girl bummer anthem Turn it up and throw a tantrum Fuck you, and you, and you I hate your friends and they hate me too Fuck you, and you, and you This that hot girl bummer anthem Turn it up and throw a tantrum This that college dropout music Every day leg day, she be too thick And my friends are all annoying But we go dumb, yeah, we go stupid This that college dropout music Every day leg day, she be too thick And my friends are all annoying But we go dumb, yeah, we go stupid We go stupid, we go stupid, we go—And you want me to change? Fuck you! Fuck you, and you, and you I hate your friends and they hate me too I'm through, I'm through, I'm through This that hot girl bummer anthem Turn it up and throw a tantrum Fuck you, and you, and you I hate your friends and they hate me too Fuck you, and you, and you This that hot girl bummer anthem Turn it up and throw a tantrum Fuck you, and you, and you I hate your friends and they hate me too I'm through, I'm through, I'm through This that hot girl bummer anthem Turn it up and throw a tantrum This that hot girl bummer anthem Turn it up and throw a tantrum This that throw up in your Birkin bag Hook up with someone random This that social awkward suicide That buy your lips and buy your likes I swear she had a man But shit hit different when it's Thursday night That college dropout music Every day leg day, she be too thick And my friends are all annoying But we go dumb, yeah, we go stupid This that 10 K on the table Just so we can be secluded And the vodka came diluted One more line, I'm superhuman Fuck you, and you, and you I hate your friends and they hate me too I'm through, I'm through, I'm through This that hot girl bummer anthem Turn it up and throw a tantrum Fuck you, and you, and you I hate your friends and they hate me too Fuck you, and you, and you This that hot girl bummer anthem Turn it up and throw a tantrum This that hot girl bummer two-step They can't box me in, I'm too left This that drip, it's more like oceans They can't fit me in a Trojan Out of pocket, but I'm always in my bag Yeah, that's the slogan This that, \"Who's all there?\"I'm pullin' up wit' a emo chick that's broken This that college dropout music Every day leg day, she be too thick And my friends are all annoying But we go dumb, yeah, we go stupid This that 10 K on the table Just so we can be secluded And the vodka came diluted One more line, I'm superhuman Fuck you, and you, and you I hate your friends and they hate me too I'm through, I'm through, I'm through This that hot girl bummer anthem Turn it up and throw a tantrum Fuck you, and you, and you I hate your friends and they hate me too Fuck you, and you, and you This that hot girl bummer anthem Turn it up and throw a tantrum This that college dropout music Every day leg day, she be too thick And my friends are all annoying But we go dumb, yeah, we go stupid This that college dropout music Every day leg day, she be too thick And my friends are all annoying But we go dumb, yeah, we go stupid We go stupid, we go stupid, we go—And you want me to change? Fuck you! Fuck you, and you, and you I hate your friends and they hate me too I'm through, I'm through, I'm through This that hot girl bummer anthem Turn it up and throw a tantrum Fuck you, and you, and you I hate your friends and they hate me too Fuck you, and you, and you This that hot girl bummer anthem Turn it up and throw a tantrum Fuck you, and you, and you I hate your friends and they hate me too I'm through, I'm through, I'm through This that hot girl bummer anthem Turn it up and throw a tantrum This that hot girl bummer anthem Turn it up and throw a tantrum This that throw up in your Birkin bag Hook up with someone random This that social awkward suicide That buy your lips and buy your likes I swear she had a man But shit hit different when it's Thursday night That college dropout music Every day leg day, she be too thick And my friends are all annoying But we go dumb, yeah, we go stupid This that 10 K on the table Just so we can be secluded And the vodka came diluted One more line, I'm superhuman Fuck you, and you, and you I hate your friends and they hate me too I'm through, I'm through, I'm through This that hot girl bummer anthem Turn it up and throw a tantrum Fuck you, and you, and you I hate your friends and they hate me too Fuck you, and you, and you This that hot girl bummer anthem Turn it up and throw a tantrum This that hot girl bummer two-step They can't box me in, I'm too left This that drip, it's more like oceans They can't fit me in a Trojan Out of pocket, but I'm always in my bag Yeah, that's the slogan This that, \"Who's all there?\"I'm pullin' up wit' a emo chick that's broken This that college dropout music Every day leg day, she be too thick And my friends are all annoying But we go dumb, yeah, we go stupid This that 10 K on the table Just so we can be secluded And the vodka came diluted One more line, I'm superhuman Fuck you, and you, and you I hate your friends and they hate me too I'm through, I'm through, I'm through This that hot girl bummer anthem Turn it up and throw a tantrum Fuck you, and you, and you I hate your friends and they hate me too Fuck you, and you, and you This that hot girl bummer anthem Turn it up and throw a tantrum This that college dropout music Every day leg day, she be too thick And my friends are all annoying But we go dumb, yeah, we go stupid This that college dropout music Every day leg day, she be too thick And my friends are all annoying But we go dumb, yeah, we go stupid We go stupid, we go stupid, we go—And you want me to change? Fuck you! Fuck you, and you, and you I hate your friends and they hate me too I'm through, I'm through, I'm through This that hot girl bummer anthem Turn it up and throw a tantrum Fuck you, and you, and you I hate your friends and they hate me too Fuck you, and you, and you This that hot girl bummer anthem Turn it up and throw a tantrum Fuck you, and you, and you I hate your friends and they hate me too I'm through, I'm through, I'm through This that hot girl bummer anthem Turn it up and throw a tantrum This that hot girl bummer anthem Turn it up and throw a tantrum This that throw up in your Birkin bag Hook up with someone random This that social awkward suicide That buy your lips and buy your likes I swear she had a man But shit hit different when it's Thursday night That college dropout music Every day leg day, she be too thick And my friends are all annoying But we go dumb, yeah, we go stupid This that 10 K on the table Just so we can be secluded And the vodka came diluted One more line, I'm superhuman Fuck you, and you, and you I hate your friends and they hate me too I'm through, I'm through, I'm through This that hot girl bummer anthem Turn it up and throw a tantrum Fuck you, and you, and you I hate your friends and they hate me too Fuck you, and you, and you This that hot girl bummer anthem Turn it up and throw a tantrum This that hot girl bummer two-step They can't box me in, I'm too left This that drip, it's more like oceans They can't fit me in a Trojan Out of pocket, but I'm always in my bag Yeah, that's the slogan This that, \"Who's all there?\"I'm pullin' up wit' a emo chick that's broken This that college dropout music Every day leg day, she be too thick And my friends are all annoying But we go dumb, yeah, we go stupid This that 10 K on the table Just so we can be secluded And the vodka came diluted One more line, I'm superhuman Fuck you, and you, and you I hate your friends and they hate me too I'm through, I'm through, I'm through This that hot girl bummer anthem Turn it up and throw a tantrum Fuck you, and you, and you I hate your friends and they hate me too Fuck you, and you, and you This that hot girl bummer anthem Turn it up and throw a tantrum This that college dropout music Every day leg day, she be too thick And my friends are all annoying But we go dumb, yeah, we go stupid This that college dropout music Every day leg day, she be too thick And my friends are all annoying But we go dumb, yeah, we go stupid We go stupid, we go stupid, we go—And you want me to change? Fuck you! Fuck you, and you, and you I hate your friends and they hate me too I'm through, I'm through, I'm through This that hot girl bummer anthem Turn it up and throw a tantrum Fuck you, and you, and you I hate your friends and they hate me too Fuck you, and you, and you This that hot girl bummer anthem Turn it up and throw a tantrum Fuck you, and you, and you I hate your friends and they hate me too I'm through, I'm through, I'm through This that hot girl bummer anthem Turn it up and throw a tantrum This that hot girl bummer anthem Turn it up and throw a tantrum This that throw up in your Birkin bag Hook up with someone random This that social awkward suicide That buy your lips and buy your likes I swear she had a man But shit hit different when it's Thursday night That college dropout music Every day leg day, she be too thick And my friends are all annoying But we go dumb, yeah, we go stupid This that 10 K on the table Just so we can be secluded And the vodka came diluted One more line, I'm superhuman Fuck you, and you, and you I hate your friends and they hate me too I'm through, I'm through, I'm through This that hot girl bummer anthem Turn it up and throw a tantrum Fuck you, and you, and you I hate your friends and they hate me too Fuck you, and you, and you This that hot girl bummer anthem Turn it up and throw a tantrum This that hot girl bummer two-step They can't box me in, I'm too left This that drip, it's more like oceans They can't fit me in a Trojan Out of pocket, but I'm always in my bag Yeah, that's the slogan This that, \"Who's all there?\"I'm pullin' up wit' a emo chick that's broken This that college dropout music Every day leg day, she be too thick And my friends are all annoying But we go dumb, yeah, we go stupid This that 10 K on the table Just so we can be secluded And the vodka came diluted One more line, I'm superhuman Fuck you, and you, and you I hate your friends and they hate me too I'm through, I'm through, I'm through This that hot girl bummer anthem Turn it up and throw a tantrum Fuck you, and you, and you I hate your friends and they hate me too Fuck you, and you, and you This that hot girl bummer anthem Turn it up and throw a tantrum This that college dropout music Every day leg day, she be too thick And my friends are all annoying But we go dumb, yeah, we go stupid This that college dropout music Every day leg day, she be too thick And my friends are all annoying But we go dumb, yeah, we go stupid We go stupid, we go stupid, we go—And you want me to change? Fuck you! Fuck you, and you, and you I hate your friends and they hate me too I'm through, I'm through, I'm through This that hot girl bummer anthem Turn it up and throw a tantrum Fuck you, and you, and you I hate your friends and they hate me too Fuck you, and you, and you This that hot girl bummer anthem Turn it up and throw a tantrum\n",
      "Stand up like a soldier baby Yeah, I know you're built like that Gun it like a holster baby Show dem' seh' you wicked like that We live where the war is raging Chasing our crazy dreams Hoping that the bridge won't cave in Tonight we'll let it all go free Gimme di' thing and mek' me rock inna' di dance Gimme di' thing and mek' me rock inna' di' dance Mash it up, hot step inna' di' dance Gimme di' thing and mek' me rock Gimme di' thing and mek' me rock inna' di dance Gimme di' thing and mek' me rock inna' di' dance Mash it up, hot step inna' di' dance Gimme di' thing and mek' me rock Set it ablaze like a candle wick Hotter, hotter, hotter, hotter, hotter Yeah light it up, set it a Light it up, light it up Light it up Fire like a soldier baby No retreating we nuh' pree  that Never make them hold ya baby Heart nuh' feeble, we nuh take chat We live where the war is raging Chasing our crazy dreams Hoping that the bridge won't cave in Tonight we'll let it all go free Gimme di' thing and mek' me rock inna' di dance Gimme di' thing and mek' me rock inna' di' dance Mash it up, hot step inna' di' dance Gimme di' thing and mek' me rock Gimme di' thing and mek' me rock inna' di dance Gimme di' thing and mek' me rock inna' di' dance Mash it up, hot step inna' di' dance Gimme di' thing and mek' me Gimme di' thing and mek' me Set it ablaze like a candle wick Hotter, hotter, hotter, hotter, hotter Light it up, yeah light it up Set it ablaze like a candle wick Hotter, hotter, hotter, hotter, hotter Yeah light it up, light it up Light it up, light it up Light it up (Light it up) (Light it up) (Light it up) Mash it up, Mash, Mash it up (Light it up) (Light it up) (Light it up) Light it up, light it up Stand up like a soldier baby Yeah, I know you're built like that Gun it like a holster baby Show dem' seh' you wicked like that We live where the war is raging Chasing our crazy dreams Hoping that the bridge won't cave in Tonight we'll let it all go free Gimme di' thing and mek' me rock inna' di dance Gimme di' thing and mek' me rock inna' di' dance Mash it up, hot step inna' di' dance Gimme di' thing and mek' me rock Gimme di' thing and mek' me rock inna' di dance Gimme di' thing and mek' me rock inna' di' dance Mash it up, hot step inna' di' dance Gimme di' thing and mek' me rock Set it ablaze like a candle wick Hotter, hotter, hotter, hotter, hotter Yeah light it up, set it a Light it up, light it up Light it up Fire like a soldier baby No retreating we nuh' pree  that Never make them hold ya baby Heart nuh' feeble, we nuh take chat We live where the war is raging Chasing our crazy dreams Hoping that the bridge won't cave in Tonight we'll let it all go free Gimme di' thing and mek' me rock inna' di dance Gimme di' thing and mek' me rock inna' di' dance Mash it up, hot step inna' di' dance Gimme di' thing and mek' me rock Gimme di' thing and mek' me rock inna' di dance Gimme di' thing and mek' me rock inna' di' dance Mash it up, hot step inna' di' dance Gimme di' thing and mek' me Gimme di' thing and mek' me Set it ablaze like a candle wick Hotter, hotter, hotter, hotter, hotter Light it up, yeah light it up Set it ablaze like a candle wick Hotter, hotter, hotter, hotter, hotter Yeah light it up, light it up Light it up, light it up Light it up (Light it up) (Light it up) (Light it up) Mash it up, Mash, Mash it up (Light it up) (Light it up) (Light it up) Light it up, light it up\n",
      "All of my friends say, I'm in too deep But ain't nothing better, than you andme Allof the textsthat, I never got back Hitting mehard now, yeah I got it bad I've done all that I know It's out of my control I'm hoping that you know That I just want to get you close That I just want to get you close I love the way you put me through it I might just be the one for you yeah I analyze your every move yeah I just want you to love me too Love me too yeah All of your friends say, that I do you wrong But I can't help it, when I'm in my zone You know I get busy, you know that I care You know I still love you even when your not here I've done all that I know It's out of my control I'm hoping that you know That I just want to get you close That I just want to get you close I love the way you put me through it I might just be the one for you yeah I analyze your every move yeah I just want you to love me too I love the way you put me through it I might just be the one for you yeah I analyze your every move yeah I just want you to love me too Love me too yeah Yeah everything's gone be okay You and me can't quit no way I don't want nobody else Let's pick it up like we never left All the pain will go away Arguments might last for days Rain the shine girl either way I just want you here with me I love the way you put me through it I might just be the one for you yeah I analyze your every move yeah I just want you to love me too I love the way you put me through it I might just be the one for you yeah I analyze your every move yeah I just want you to love me too Love me too yeah\n",
      "Oh, oh, oh Oh, oh, oh Oh, oh When I was young and stupid (Oh) My love left to be a rock and roll star (Oh) He told me, \"Please, don't worry\" (Oh) Wise little smile that spoke so safely (Oh) He booked a one-way ticket (Oh) Out west, that's where they make it (Oh) Six kids stuck in a bedsit (Oh) To sunswept poolside riches (Oh) (Oh, oh) He met a girl who wore Versace (Oh) Pink feather coats and jumbo jewelry (Oh) Gonna be a hoop phenomenon (Oh) He's gonna be Hakeem Olajuwon (Oh) He's got a gold Camaro (Oh) He said over the payphone (Oh) I try to keep my cool but (Oh) My life turns in slow motion (Oh) Bye-bye, baby blue I wish (Oh) you could see the wicked truth Caught up (Oh) in a rush, it's killing you Screaming (Oh) at the sun you blow into Curled up (Oh) in a grip when we were us Fingers (Oh) in a fist like you might run I settle (Oh) for a ghost I never knew Super (Oh) paradise I held on to But I settle for a ghost Where I was from in NOLA No one (Oh) left to be a rock and roll star (Oh) He'd stay and treat his lady (Oh) Give everything to his new baby (Oh) I miss him, don't you blame me? (Oh) That boy went stone cold crazy (Oh) Caught up in camera lust (Oh) He's chasing that pappy pipe dream (Oh) (Oh) (Oh) (Oh) I know you don't but I- I know you don't but I still try My thunder shook him down My thunder came and shook him down That girl is gone but I- That girl is gone but I still try I think it's over now The bullet hit but maybe (Oh) not I feel so fucking numb It hits my head and I feel (Oh) numb My body's looking wrong My body's looking wrong (Oh) My body's looking wrong (Oh) Bye-bye, baby blue I wish (Oh) you could see the wicked truth Caught up (Oh) in a rush, it's killing you Screaming (Oh) at the sun you blow into Curled up in a grip when we were us Fingers (Oh) in a fist like you might run I settle (Oh) for a ghost I never knew Super (Oh) paradise I held on to But I settle (Oh) for a ghost (Oh, oh, oh, oh) (Oh, oh, oh, oh) (Oh, oh, oh, oh)\n",
      "Go back, I want So bad to hold you back It's all I've said and done Fall in, be gone I will stand, as I've won again The reason for no more Overnight The minute I was thinking to hold you back The moment I was wishing, it's overnight The minute I was thinking to hold you back The moment I was wishing, it's overnight The minute I was thinking to hold you back The moment I was wishing, it's overnight The minute I was thinking to hold you back The moment I was wishing, it's overnight Slow down, never I know now, I know better I need it more than ever Go back under Hope that I fall on the track It's all I've said and done Overnight The minute I was thinking to hold you back The moment I was wishing, it's overnight The minute I was thinking to hold you back The moment I was wishing, it's overnight The minute I was thinking to hold you back The moment I was wishing, it's overnight The minute I was thinking to hold you back The moment I was wishing, it's overnight It's overnight The minute I was thinking to hold you back The moment I was wishing The minute I was thinking to hold you back The moment I was wishing, it's overnight\n",
      "Dancin is what to do Dancin's when I think of you Dancin's what clears my soul Dancin's what makes me whole Dancin' is what to do Dancin's when I think of you Dancin's what clears my soul Dancin's what makes me whole Dancin' is what to do Dancin's when I think of you Dancin's what clears my soul Dancin's what makes me whole Dancin' is what to do Dancin's when I think of you Dancin's what clears my soul Dancin's what makes me whole Dancin' is what to do Dancin's when I think of you Dancin's what clears my soul Dancin's what makes me whole Dancin' is what to do Dancin' is what to do\n",
      "Oh, the night is my world City light painted girl In the day nothing matters It's the night time that flatters In the night, no control Through the wall something's breaking Wearing white as you're walkin' Down the street of my soul You take my self, you take my self control You got me livin' only for the night Before the morning comes, the story's told You take my self, you take my self control Another night, another day goes by I never stop myself to wonder why You help me to forget to play my role You take my self, you take my self control I, I live among the creatures of the night I haven't got the will to try and fight Against a new tomorrow, so I guess I'll just believe it That tomorrow never comes A safe night, I'm living in the forest of my dream I know the night is not as it would seem I must believe in something, so I'll make myself believe it That this night will never go Oh-oh-oh, oh-oh-oh Oh-oh-oh, oh-oh-oh Oh-oh-oh, oh-oh-oh Oh-oh-oh, oh-oh-oh Oh, the night is my world City light painted girl In the day nothing matters It's the night time that flatters I, I live among the creatures of the night I haven't got the will to try and fight Against a new tomorrow, so I guess I'll just believe it That tomorrow never comes A safe night, I'm living in the forest of my dream I know the night is not as it would seem I must believe in something, so I'll make myself believe it That this night will never go Oh-oh-oh, oh-oh-oh Oh-oh-oh, oh-oh-oh Oh-oh-oh You take my self, you take my self control You take my self, you take my self control You take my self, you take my self control You take my self, you take my self control You take my self, you take my self control You take my self, you take my self control You take my self, you take my self control You take my self, you take my self control I, I live among the creatures of the night I haven't got the will to try and fight It's my world City light painted girl\n",
      "I thought I made it clear as crystal It doesn't have to be this hard But you ain't good at reading signals When they come straight from the heart You've been thinking, you've been thinking Overthinking, you've been thinking, babe Just a little too much I wish you knew what I want I been looking, I been looking I been looking in the mirror Making little touch ups And I hope you know that I want you I've been sitting here waiting I've been waiting for you I've sent out invitations It's getting frustrating waiting for you I think you know what I want I think you know what I want I think you know what I want I think you know, I'm waiting for you I'll take your hand and kiss your fingers So you don't have to break the ice No need for chill, just lose your filter I'm ready to dive in Melt the ice and just swim You've been thinking, you've been thinking Overthinking, you've been thinking, babe Just a little too much I wish you knew what I want We been drinking, we been drinking We been drinking, we been drinking, babe Just a little too much And I hope you know that I want you I've been sitting here waiting I've been waiting for you I've sent out invitations It's getting frustrating waiting for you I think you know what I want I think you know what I want I think you know what I want I think you know, I'm waiting for you I think you know what I want I think you know what I want I think you know what I want I think you know, I'm waiting for you I'm waiting for you I gotta have you I've been sitting here waiting I've been waiting for you I've sent out invitations It's getting frustrating waiting for you I think you know what I want I think you know what I want I think you know what I want I think you know, I'm waiting for you I think you know what I want I think you know what I want I think you know what I want I think you know, I'm waiting for you\n",
      "Clock strikes upon the hour And the sun begins to fade Still enough time to figure out How to chase my blues away I've done alright up to now It's the light of day that shows me how And when the night falls, loneliness calls Oh, I wanna dance with somebody I wanna feel the heat with somebody Yeah, I wanna dance with somebody With somebody who loves me Oh, I wanna dance with somebody I wanna feel the heat with somebody Yeah, I wanna dance with somebody With somebody who loves me I've been in love and lost my senses Spinning through the town Sooner or later, the fever ends And I wind up feeling down I need a man who'll take a chance On a love that burns hot enough to last So when the night falls My lonely heart calls Oh, I wanna dance with somebody I wanna feel the heat with somebody Yeah, I wanna dance with somebody With somebody who loves me Oh, I wanna dance with somebody I wanna feel the heat with somebody Yeah, I wanna dance with somebody With somebody who loves me Somebody ooo, somebody ooo Somebody who loves me yeah Somebody ooo, somebody ooo To hold me in his arms oh I need a man who'll take a chance On a love that burns hot enough to last So when the night falls My lonely heart calls Oh, I wanna dance with somebody I wanna feel the heat with somebody Yeah, I wanna dance with somebody With somebody who loves me Oh, I wanna dance with somebody I wanna feel the heat with somebody Yeah, I wanna dance with somebody With somebody who loves me Don't ya wanna dance with me baby Don't ya wanna dance with me boy Hey don't ya wanna dance with me baby With somebody who loves me Don't ya wanna dance, say you wanna dance, don't ya wanna dance Don't ya wanna dance, say you wanna dance, don't ya wanna dance Don't ya wanna dance, say you wanna dance With somebody who loves me Dance\n",
      "Baby come lay your head down I don't want to know what you did before Baby come lay your head down Every little thing that you're looking for Oh oh, the war you started Oh oh, the lines are forming Call me the doctor Make me the doctor Follow the lights down And I'll be the one, I'll be the one Operate, operate oh, operate, operate oh Baby don't let your head down I don't wanna hear what you say no more Baby don't let your head down Anything you want I could take you for Oh oh, but not the falling Oh oh, the love you wanted\" Heal in the tired sea Broken your lies set free Now that it's time to leave Don't say a prayer for me\n",
      "Ey, whoa, oh Ay ba-ba-baby,  baby All day day day day,  maybe           Oh whoa oh,       (yeah!) Oh whoa oh, but gonna be there         Let me love (love), love (love) Hello, this is Ruann (Ooh!) Yeah, this is Ruann (Oh whoa oh, oh, oh) (3, 2, 1)  beep beep beep beep           Oh beep beep beep I'll fall in love with you Oh maybe, oh maybe, uh   Oh my baby, oh my darling     (woo)    (uh)    (uh)        (woo) Oh whoa oh,       (yeah!) Oh whoa oh, but gonna be there         Let me love, love, love, love! Hello, this is Ruann (Ooh!) Yeah, this is Ruann (Oh whoa oh, oh, oh) (3, 2, 1)  beep beep beep beep           Oh beep beep beep I'll fall in love with you Bae, bae, baby Bae, bae, baby Bae, bae, baby    Boy, I love you Boy, I love you    , yeah Oh... Hello, this is Ruann (hey!) (Ooh!) Yeah, this is Ruann (oh this is Ruann) (Oh whoa oh, oh, oh) (oh whoa oh, oh)  beep beep beep beep           Oh beep beep beep I'll fall in love with you\n",
      "All these red lights I'll cover my eyes, baby, no surprises There's nowhere to hide from itlately It'sjust another deadend day that we're falling through I'llcover my eyes, baby, no surprises It's just another dead end day that we're falling through\n",
      "I remember when you slipped away Like, sand inside the pocket,  couldn't stop it once it started Babe, sex went from a blessing to a phase A formless expressive, plastic Slanted, broken, bent and fitted wrong A slo-mo incision, you're vicious I miss when you were my favorite song Now I don't know the lyrics anymore And I know we're both better off Even though it doesn't feel that way at all When a new one does come along I'm just hoping I'll be ready for the fall I'm just hoping I'll be ready for the fall Wicker from the candles you would burn I still smell your cigarettes in all my favorite shirts But, just another lesson I should learn A game for the reckless, Tetris Battleship is sunk, I'm drunk and high My head's desecrated My heart is still alive I wore out all my welcomes I'm done with being selfish And I know we're both better off Even though it doesn't feel that way at all When a new one does come along I'm just hoping I'll be ready for the fall I'm just hoping I'll be ready for the fall NA And I know we're both better off Even though it doesn't feel that way at all When a new one does come along I'm just hoping I'll be ready for the fall I'm just hoping I'll be ready for the fall\n",
      "See the stone set in your eyes See the thorn twist in your side I'll wait for you Sleight of hand and twist of fate On a bed of nails she makes me wait And I wait without you With or without you With or without you Through the storm, we reach the shore You give it all but I want more And I'm waiting for you With or without you With or without you, ah-ah I can't live with or without you And you give yourself away And you give yourself away And you give, and you give And you give yourself away My hands are tied, my body bruised She got me with nothing to win And nothing left to lose And you give yourself away And you give yourself away And you give, and you give And you give yourself away With or without you With or without you, ohh I can't live with or without you With or without you With or without you, ohh I can't live with or without you With or without you See the stone set in your eyes See the thorn twist in your side I'll wait for you Sleight of hand and twist of fate On a bed of nails she makes me wait And I wait without you With or without you With or without you Through the storm, we reach the shore You give it all but I want more And I'm waiting for you With or without you With or without you, ah-ah I can't live with or without you And you give yourself away And you give yourself away And you give, and you give And you give yourself away My hands are tied, my body bruised She got me with nothing to win And nothing left to lose And you give yourself away And you give yourself away And you give, and you give And you give yourself away With or without you With or without you, ohh I can't live with or without you With or without you With or without you, ohh I can't live with or without you With or without you See the stone set in your eyes See the thorn twist in your side I'll wait for you Sleight of hand and twist of fate On a bed of nails she makes me wait And I wait without you With or without you With or without you Through the storm, we reach the shore You give it all but I want more And I'm waiting for you With or without you With or without you, ah-ah I can't live with or without you And you give yourself away And you give yourself away And you give, and you give And you give yourself away My hands are tied, my body bruised She got me with nothing to win And nothing left to lose And you give yourself away And you give yourself away And you give, and you give And you give yourself away With or without you With or without you, ohh I can't live with or without you With or without you With or without you, ohh I can't live with or without you With or without you\n",
      "Lately, I've been reeling, watching the nightly news Don't seem to find the rhythm, just wanna sing the blues Feels like a song that never stops Feels like it's never gonna Gotta get that fire, fire, back in my bones Before my heart, heart, turns into stone So somebody please pass the megaphone I'll shout it on the count of three One, two, three Oh, hear my prayer tonight, I'm singing to the sky Give me strength to raise my voice, let me testify Oh, hear my prayer tonight, 'cause this is do or die The time has come to make a choice And I choose joy Let it move you, let it move, let it move you Yeah, I choose joy Let it move you, let it move, let it move you Yeah, back when I was younger, my eyes were full of life But now that I am older, I live at the speed of light Feels like the cycle never stops Feels like it's never gonna Gotta get that fire, fire, back in my bones Before my heart, heart, turns into stone So somebody please pass the megaphone I'll shout it on the count of three One, two, three Oh, hear my prayer tonight, I'm singing to the sky Give me strength to raise my voice, let me testify Oh, hear my prayer tonight, 'cause this is do or die The time has come to make a choice And I choose joy Let it move you, let it move, let it move you Yeah, I choose joy Let it move you, let it move, let it move you Though I walk through the valley in the shadow of night Oh, with You by my side, I'm stepping into the light I choose joy Let it move you, let it move, let it move you I need that joy, joy, joy, joy Down in my heart, down in my heart to stay I need that joy, joy, joy, joy Down in my heart, down in my heart to stay But I choose joy Let it move you, when you let it move, oh, let it move you Oh, I choose joy Let it move you, oh, let it move, let it move you Though I walk through the valley in the shadow of night Oh, with You by my side, I'm stepping into the light I choose joy Go let it move you, go let it move, go let it move you Oh, I choose joy I need that joy, joy, joy, joy Down in my heart, down in my heart to stay I need that joy, joy, joy, joy Down in my heart, down in my heart to stay\n",
      "You're a world away Somewhere in the crowd In a foreign place Are you happy now? There's nothing left to say So I shut my mouth So won't you tell me, babe Are you happy now? You're the only one who can up and run Leave me just as empty as the day you came And you hold all the cards, all the broken hearts Strung over your shoulder till it's all in vain And only you know the strength of your teeth The wash in the weight of your pockets, so deep And lonely You're a world away Somewhere in the crowd In a foreign place Are you happy now? There's nothing left to say So I shut my mouth So won't you tell me, babe Are you happy now? Are you happy now? You're the only one who can In the palm of your hands you can make me dance Spin me around in circles till I'm wrapped in string You keep on talking sweet till your fingers bleed But don't you dare ask me how I've been Now only you know the strength of your teeth The wash in the weight of your pockets, so deep And lonely You're a world away Somewhere in the crowd In a foreign place Are you happy now? There's nothing left to say So I shut my mouth So won't you tell me, babe Are you happy now? Are you happy now? You're the only one who can You're the only, you're the only You're the only one who can You're the only, you're the only World away Somewhere in the crowd In a foreign place Are you happy now? There's nothing left to say So I shut my mouth So won't you tell me, babe Are you happy now? You're a world away Somewhere in the crowd In a foreign place Are you happy now? There's nothing left to say So I shut my mouth So won't you tell me, babe Are you happy now? You're the only one who can up and run Leave me just as empty as the day you came And you hold all the cards, all the broken hearts Strung over your shoulder till it's all in vain And only you know the strength of your teeth The wash in the weight of your pockets, so deep And lonely You're a world away Somewhere in the crowd In a foreign place Are you happy now? There's nothing left to say So I shut my mouth So won't you tell me, babe Are you happy now? Are you happy now? You're the only one who can In the palm of your hands you can make me dance Spin me around in circles till I'm wrapped in string You keep on talking sweet till your fingers bleed But don't you dare ask me how I've been Now only you know the strength of your teeth The wash in the weight of your pockets, so deep And lonely You're a world away Somewhere in the crowd In a foreign place Are you happy now? There's nothing left to say So I shut my mouth So won't you tell me, babe Are you happy now? Are you happy now? You're the only one who can You're the only, you're the only You're the only one who can You're the only, you're the only World away Somewhere in the crowd In a foreign place Are you happy now? There's nothing left to say So I shut my mouth So won't you tell me, babe Are you happy now? You're a world away Somewhere in the crowd In a foreign place Are you happy now? There's nothing left to say So I shut my mouth So won't you tell me, babe Are you happy now? You're the only one who can up and run Leave me just as empty as the day you came And you hold all the cards, all the broken hearts Strung over your shoulder till it's all in vain And only you know the strength of your teeth The wash in the weight of your pockets, so deep And lonely You're a world away Somewhere in the crowd In a foreign place Are you happy now? There's nothing left to say So I shut my mouth So won't you tell me, babe Are you happy now? Are you happy now? You're the only one who can In the palm of your hands you can make me dance Spin me around in circles till I'm wrapped in string You keep on talking sweet till your fingers bleed But don't you dare ask me how I've been Now only you know the strength of your teeth The wash in the weight of your pockets, so deep And lonely You're a world away Somewhere in the crowd In a foreign place Are you happy now? There's nothing left to say So I shut my mouth So won't you tell me, babe Are you happy now? Are you happy now? You're the only one who can You're the only, you're the only You're the only one who can You're the only, you're the only World away Somewhere in the crowd In a foreign place Are you happy now? There's nothing left to say So I shut my mouth So won't you tell me, babe Are you happy now?\n",
      "I'm burned out like a bright light, I wasn't ready for this You're adorable as hell, but I'm glancing at your wrist Oh please have faith, I can be so cavalier And when they start to ask questions, I'll make sure to be clear When you see my friends, tell them hi for me Tell them what you think about the way you handled everything You turned and all you left me with was this broken key So tell me what you think Give it up for the long nights and all those terrible fights Were you honest with yourself, every version of yourself? Did you get lost on the side of the road? If you keep acting this way, I swear I'll never come home When you see my friends, tell them hi for me Tell them what you think about the way you handled everything We walk alone on this broken road for eternity So give me company and help me sing this lonely melody You turned and all you left me with was this broken key So tell me what you think Sign me up, no regrets Make a man out of me And I won't say a word and I'll give all the things That you want and I need just to give me some peace At the bottom of the ocean there's a place for you and me Lead the way, straight ahead You gave me the time of my life and cut like a knife to the bone When you see my friends, tell them hi for me Tell them what you think about the way you handled everything So neat and clean, well the world is full of such pretty things So do you ask for me? So do your best for me\n",
      "Baby, I like your style Grips on your waist, front way, back way You know that I don't play Streets not safe but I never run away Even when I'm away Oti, oti There's never much love when we go OT I pray to make it back in one piece I pray, I pray That's why I need a one dance Got a Hennessy in my hand One more time 'fore I go Higher powers taking a hold on me I need a one dance Got a Hennessy in my hand One more time 'fore I go Higher powers taking a hold on me Baby, I like your style Strength and guidance All that I'm wishing for my friends Nobody makes it from my ends I had to bust up the silence You know you gotta stick by me Soon as you see the text, reply me I don't wanna spend time fighting We've got no time And that's why I need a one dance Got a Hennessy in my hand One more time 'fore I go Higher powers taking a hold on me I need a one dance Got a Hennessy in my hand One more time 'fore I go Higher powers taking a hold on me Got a pretty girl and she love me long time Wine it, wine it, very long time Oh yeah, very long time Back up, back up, back up and wine it Back up, back up and wine it, girl Back up, back up, back up and wine it Oh yeah, very long time Back, up, back up and wine it, girl Tell me I need to know, where do you wanna go? Cause if you're down, I'll take it slow Make you lose control Where, where, where Where, where, where, where Oh yeah, very long time Where, where, where Back, up, back up and wine it, girl Where, where, where, where Cause if you're down Back up, back up and Cause if you're down Back up, back up and Cause if you're down Back up, back up and I need a one dance Got a Hennessy in my hand One more time 'fore I go Higher powers taking a hold on me I need a one dance Got a Hennessy in my hand One more time 'fore I go Higher powers taking a hold on me Baby, I like your style Grips on your waist, front way, back way You know that I don't play Streets not safe but I never run away Even when I'm away Oti, oti There's never much love when we go OT I pray to make it back in one piece I pray, I pray That's why I need a one dance Got a Hennessy in my hand One more time 'fore I go Higher powers taking a hold on me I need a one dance Got a Hennessy in my hand One more time 'fore I go Higher powers taking a hold on me Baby, I like your style Strength and guidance All that I'm wishing for my friends Nobody makes it from my ends I had to bust up the silence You know you gotta stick by me Soon as you see the text, reply me I don't wanna spend time fighting We've got no time And that's why I need a one dance Got a Hennessy in my hand One more time 'fore I go Higher powers taking a hold on me I need a one dance Got a Hennessy in my hand One more time 'fore I go Higher powers taking a hold on me Got a pretty girl and she love me long time Wine it, wine it, very long time Oh yeah, very long time Back up, back up, back up and wine it Back up, back up and wine it, girl Back up, back up, back up and wine it Oh yeah, very long time Back, up, back up and wine it, girl Tell me I need to know, where do you wanna go? Cause if you're down, I'll take it slow Make you lose control Where, where, where Where, where, where, where Oh yeah, very long time Where, where, where Back, up, back up and wine it, girl Where, where, where, where Cause if you're down Back up, back up and Cause if you're down Back up, back up and Cause if you're down Back up, back up and I need a one dance Got a Hennessy in my hand One more time 'fore I go Higher powers taking a hold on me I need a one dance Got a Hennessy in my hand One more time 'fore I go Higher powers taking a hold on me Baby, I like your style Grips on your waist, front way, back way You know that I don't play Streets not safe but I never run away Even when I'm away Oti, oti There's never much love when we go OT I pray to make it back in one piece I pray, I pray That's why I need a one dance Got a Hennessy in my hand One more time 'fore I go Higher powers taking a hold on me I need a one dance Got a Hennessy in my hand One more time 'fore I go Higher powers taking a hold on me Baby, I like your style Strength and guidance All that I'm wishing for my friends Nobody makes it from my ends I had to bust up the silence You know you gotta stick by me Soon as you see the text, reply me I don't wanna spend time fighting We've got no time And that's why I need a one dance Got a Hennessy in my hand One more time 'fore I go Higher powers taking a hold on me I need a one dance Got a Hennessy in my hand One more time 'fore I go Higher powers taking a hold on me Got a pretty girl and she love me long time Wine it, wine it, very long time Oh yeah, very long time Back up, back up, back up and wine it Back up, back up and wine it, girl Back up, back up, back up and wine it Oh yeah, very long time Back, up, back up and wine it, girl Tell me I need to know, where do you wanna go? Cause if you're down, I'll take it slow Make you lose control Where, where, where Where, where, where, where Oh yeah, very long time Where, where, where Back, up, back up and wine it, girl Where, where, where, where Cause if you're down Back up, back up and Cause if you're down Back up, back up and Cause if you're down Back up, back up and I need a one dance Got a Hennessy in my hand One more time 'fore I go Higher powers taking a hold on me I need a one dance Got a Hennessy in my hand One more time 'fore I go Higher powers taking a hold on me\n",
      "Whenever I'm down I call on you my friend A helping hand you lend In my time of need Whenever I'm down I call on you my friend A helping hand you lend In my time of need Whenever I'm down I call on you my friend A helping hand you lend In my time of need Whenever I'm down, down, down, down Down, down, down, down Down, down, down, down Down, down, down, down Down, down, down, down Down, down, down, down (My frie-frie-frie f-f-f-frie-frie) Whenever I'm down I call on you my friend A helping hand you lend In my time of need Whenever I'm down I call on you my friend (I call on you my friend) (I call on you my friend) Whenever I'm down, down, down, down Down, down, down, down Down, down, down, down Down, down, down, down Down, down, down, down Down, down, down, down (My frie-frie-frie f-f-f-frie-frie)\n",
      "Alright Ooh, yeah I'll admit, I was wrong, what else can I say, girl? Can't you blame my head and not my heart? I was drunk, I was gone, that don't make it right, but Promise there were no feelings involved, mmh She said, \"Boy, tell me honestly Was it real or just for show?\", yeah She said, \"Save your apologies” Baby, I just gotta know How long has this been goin' on? You've been creepin' 'round on me While you're callin' me \"baby\" How long has this been goin' on? You've been actin' so shady (shady) I've been feelin' it lately, baby\" Ooo-oh (yeah) Ooo-oh (encore) Oooh-ooh-oh I'll admit, it's my fault, but you gotta believe me When I say it only happened once, mmm I try, and I try, but you'll never see that You're the only one I wanna love, oh, yeah She said \"Boy, tell me honestly\" \"Was it real or just for show?\", yeah She said, \"Save your apologies\" \"Baby, I just gotta know How long has this been goin' on? You've been creepin' 'round on me While you're callin' me \"baby\" How long has this been goin' on? You've been actin' so shady I've been feelin' it lately, baby\" Ooo-oh (yeah) Ooo-oh (encore) Oooh-ooh-oh How long has it been goin' on, baby? Ooo-oh (yeah) Ooo-oh, you gotta go tell me now Oooh-ooh-oh She said, \"Boy, tell me honestly Was it real or just for show?\", yeah She said, \"Save your apologies Baby, I just gotta know How long has this been goin' on? And you' been creepin' 'round on me While you're callin' me \"baby\" How long has this been goin' on? You've been actin' so shady I've been feelin' it lately, baby\" (Ooo-oh, yeah) How long has this been goin' on? (Ooh, encore) You've been creepin' 'round on me (Oooh-ooh-oh) How long has it been goin' on, baby? Oh (Ooo-oh) How long has this been goin' on? (Ooh, encore) (You gotta go tell me now) (Oooh-ooh-oh) You've been actin' so shady I've been feelin' it lately, baby\n",
      "I'm at a party I don't wanna be at And I don't ever wear a suit and tie, yeah Wonderin' if I could sneak out the back Nobody's even lookin' me in my eyes Then you take my hand Finish my drink, say, \"Shall we dance?\" (Hell, yeah) You know I love ya, did I ever tell ya? You make it better like that Don't think I fit in at this party Everyone's got so much to say (Yeah) I always feel like I'm nobody, mmm Who wants to fit in anyway? 'Cause I don't care when I'm with my baby, yeah All the bad things disappear And you're making me feel like maybe I am somebody I can deal with the bad nights When I'm with my baby, yeah Ooh, ooh, ooh, ooh, ooh, ooh'Cause I don't care as long as you just hold me near You can take me anywhere And you're making me feel like I'm loved by somebody I can deal with the bad nights When I'm with my baby, yeah Ooh, ooh, ooh, ooh, ooh, ooh We at a party we don't wanna be at Tryna talk, but we can't hear ourselves Read your lips, I'd rather kiss 'em right back With all these people all around I'm crippled with anxiety But I'm told it's where I'm s'posed to be You know what? It's kinda crazy 'cause I really don't mind When you make it better like that Don't think we fit in at this party Everyone's got so much to say, oh yeah, yeah When we walked in, I said I'm sorry, mmm But now I think that we should stay 'Cause I don't care when I'm with my baby, yeah All the bad things disappear Yeah, you're making me feel like maybe I am somebody I can deal with the bad nights when I'm with my baby, yeah Ooh, ooh, ooh, ooh, ooh, ooh (Oh yeah, yeah, yeah)'Cause I don't care as long as you just hold me near You can take me anywhere And you're making me feel like I'm loved by somebody I can deal with the bad nights when I'm with my baby, yeah Ooh, ooh, ooh, ooh, ooh, ooh (No) I don't like nobody but you, it's like you're the only one here I don't like nobody but you, baby, I don't care I don't like nobody but you, I hate everyone here I don't like nobody but you, baby, yeah 'Cause I don't care (Don't care) When I'm with my baby, yeah (Oh yeah) All the bad things disappear (Disappear) And you're making me feel like maybe I am somebody (Maybe I'm somebody) I can deal with the bad nights (With the bad nights) When I'm with my baby, yeah Ooh, ooh, ooh, ooh, ooh, ooh (Oh yeah, yeah, yeah)'Cause I don't care as long as you just hold me near (Me near) You can take me anywhere (Anywhere, anywhere) And you're making me feel like I'm loved by somebody (I'm loved by somebody, yeah, yeah, yeah) I can deal with the bad nights When I'm with my baby, yeah Ooh, ooh, ooh, ooh, ooh, ooh I'm at a party I don't wanna be at And I don't ever wear a suit and tie, yeah Wonderin' if I could sneak out the back Nobody's even lookin' me in my eyes Then you take my hand Finish my drink, say, \"Shall we dance?\" (Hell, yeah) You know I love ya, did I ever tell ya? You make it better like that Don't think I fit in at this party Everyone's got so much to say (Yeah) I always feel like I'm nobody, mmm Who wants to fit in anyway? 'Cause I don't care when I'm with my baby, yeah All the bad things disappear And you're making me feel like maybe I am somebody I can deal with the bad nights When I'm with my baby, yeah Ooh, ooh, ooh, ooh, ooh, ooh'Cause I don't care as long as you just hold me near You can take me anywhere And you're making me feel like I'm loved by somebody I can deal with the bad nights When I'm with my baby, yeah Ooh, ooh, ooh, ooh, ooh, ooh We at a party we don't wanna be at Tryna talk, but we can't hear ourselves Read your lips, I'd rather kiss 'em right back With all these people all around I'm crippled with anxiety But I'm told it's where I'm s'posed to be You know what? It's kinda crazy 'cause I really don't mind When you make it better like that Don't think we fit in at this party Everyone's got so much to say, oh yeah, yeah When we walked in, I said I'm sorry, mmm But now I think that we should stay 'Cause I don't care when I'm with my baby, yeah All the bad things disappear Yeah, you're making me feel like maybe I am somebody I can deal with the bad nights when I'm with my baby, yeah Ooh, ooh, ooh, ooh, ooh, ooh (Oh yeah, yeah, yeah)'Cause I don't care as long as you just hold me near You can take me anywhere And you're making me feel like I'm loved by somebody I can deal with the bad nights when I'm with my baby, yeah Ooh, ooh, ooh, ooh, ooh, ooh (No) I don't like nobody but you, it's like you're the only one here I don't like nobody but you, baby, I don't care I don't like nobody but you, I hate everyone here I don't like nobody but you, baby, yeah 'Cause I don't care (Don't care) When I'm with my baby, yeah (Oh yeah) All the bad things disappear (Disappear) And you're making me feel like maybe I am somebody (Maybe I'm somebody) I can deal with the bad nights (With the bad nights) When I'm with my baby, yeah Ooh, ooh, ooh, ooh, ooh, ooh (Oh yeah, yeah, yeah)'Cause I don't care as long as you just hold me near (Me near) You can take me anywhere (Anywhere, anywhere) And you're making me feel like I'm loved by somebody (I'm loved by somebody, yeah, yeah, yeah) I can deal with the bad nights When I'm with my baby, yeah Ooh, ooh, ooh, ooh, ooh, ooh\n",
      "You were the shadow to my light Did you feel us? Another star, you fade away Afraid our aim is out of sight Wanna see us alight Where are you now? Where are you now? Where are you now? Was it all in my fantasy? Where are you now? Were you only imaginary? Where are you now? Atlantis, under the sea, under the sea Where are you now? Another dream The monster's running wild inside of me I'm faded, I'm faded So lost, I'm faded, I'm faded So lost, I'm faded These shallow waters never met what I needed I'm letting go, a deeper dive Eternal silence of the sea I'm breathing, alive Where are you now? Where are you now? Under the bright but faded lights You set my heart on fire Where are you now? Where are you now? Where are you now? Atlantis, under the sea, under the sea Where are you now? Another dream The monster's running wild inside of me I'm faded, I'm faded So lost, I'm faded, I'm faded So lost, I'm faded You were the shadow to my light Did you feel us? Another star, you fade away Afraid our aim is out of sight Wanna see us alight Where are you now? Where are you now? Where are you now? Was it all in my fantasy? Where are you now? Were you only imaginary? Where are you now? Atlantis, under the sea, under the sea Where are you now? Another dream The monster's running wild inside of me I'm faded, I'm faded So lost, I'm faded, I'm faded So lost, I'm faded These shallow waters never met what I needed I'm letting go, a deeper dive Eternal silence of the sea I'm breathing, alive Where are you now? Where are you now? Under the bright but faded lights You set my heart on fire Where are you now? Where are you now? Where are you now? Atlantis, under the sea, under the sea Where are you now? Another dream The monster's running wild inside of me I'm faded, I'm faded So lost, I'm faded, I'm faded So lost, I'm faded You were the shadow to my light Did you feel us? Another star, you fade away Afraid our aim is out of sight Wanna see us alight Where are you now? Where are you now? Where are you now? Was it all in my fantasy? Where are you now? Were you only imaginary? Where are you now? Atlantis, under the sea, under the sea Where are you now? Another dream The monster's running wild inside of me I'm faded, I'm faded So lost, I'm faded, I'm faded So lost, I'm faded These shallow waters never met what I needed I'm letting go, a deeper dive Eternal silence of the sea I'm breathing, alive Where are you now? Where are you now? Under the bright but faded lights You set my heart on fire Where are you now? Where are you now? Where are you now? Atlantis, under the sea, under the sea Where are you now? Another dream The monster's running wild inside of me I'm faded, I'm faded So lost, I'm faded, I'm faded So lost, I'm faded\n",
      "Text me when it's over, I won't be the shoulder You need to feel better, I'mfreefrom you (I'mfree from you, free from you) Yousay it has always been me but your actions don't say The same words your mouth speaks, oh (Your mouth speaks, your mouth speaks) Like- Last night, you call me up crazy Tell me that, to you I'm dangerous 'Cause I make you feel, the same way he does Why can't it be us? Forget, times that you came 'round To my house, staying for a lay down I'm done with these feels, I just can't deal I need something real Set me free (Free) Let me breathe (Breathe) So tonight, I'm going out drinking (Going out drinking, going out drinking) So I can just forget what I'm feeling (What I'm feeling, forget what I'm feeling) I know you think I am just losing my patience You should know that this is more than just frustration Last night, you call me up crazy Tell me that, to you I'm dangerous 'Cause I make you feel, the same way he does Why can't it be us? Forget, times that you came 'round To my house, staying for a lay down I'm done with these feels, I just can't deal I need something real Set me free (Free) Let me breathe (Breathe) Last night, you call me up crazy Tell me that, to you I'm dangerous 'Cause I make you feel, the same way he does Why can't it be us? Forget, times that you came 'round To my house, staying for a lay down I'm done with these feels, I just can't deal I need something real Can it be us? Forget, times that you came 'round To my house, staying for a lay down I'm done with these feels, I just can't deal I need something real\n",
      "Pull back the curtain, show me all you've been Hiding behind the magic of the light The blinding lights Walk down cobblestone streets with me hand in hand And get lost in the honesty of the light The darkest night Secrets, all I wanna do is know your secrets Tell me, tell me your secrets You're the mystery I'll never regret Tell me, tell me more Tell me, tell me more Tell me I will be patient, no need to rush I won't be the one who leaves you high and dry I am by your side Riddle me this, girl I want to uncover what's underneath Let me see your true colors now Tell me now, I wanna hear your Secrets, all I wanna do is know your secrets Tell me, tell me your secrets You're the mystery I'll never regret Tell me, tell me more Tell me, tell me more Tell me I would cross the seven seas To see what's buried underneath I would walk through desert sands Just to talk with you, talk with you I would cross the seven seas To see what's buried underneath I would walk through desert sands Just to talk with you and hear you tell me your Secrets, all I wanna do is know your secrets Tell me, tell me your secrets You're the mystery I'll never regret Tell me, tell me your Secrets, all I wanna do is know your secrets Tell me, tell me your secrets You're the mystery I'll never regret Tell me, tell me more Tell me, tell me more Tell me, tell me Tell me, tell me more Tell me, tell me more\n",
      "And I got way too many feels, way too much emotion I don't even know what's real I just say fuck it, keep on going And I get deeper, I get deeper, yeah, I feel I'm rolling I can see you, yeah, I see you I don't know, I think I'm rolling And yeah, it's way too many feels, way too much emotion I don't even know what's real I just say fuck it, keep on going I get deeper, I get deeper, yeah, I think I'm rolling I can see you, yeah, I see him I don't know, I just keep going And I got way too many feelings, way too much emotion All this Xans inside my body, I say fuck it keep on drowning Yeah, you can bring a juice, I'll match you Yeah, you mix it, pour the potion I don't know who you are, but I'd dive into your ocean And yeah, you say you smoking grams, I'm smoking into the Grammys Say you got them bars, but all I see is candy Still you came through so low-key, think you understand, I don't know me Still I get along with your best friends, even better with your family And I got way too many feels, way too much emotion I don't even know what's real I just say fuck it, keep on going And I get deeper, I get deeper, yeah, I think I'm rolling If I see him, yeah, I see him I don't know I just keep going Yeah, it's way too many feels, way too much emotion I don't even know what's real I just say fuck it, keep on going I got all I need, you don't know what I mean Yeah we pour up 'til we go up (go-go-up) And I got way too many feels, not enough to forfeit So many fuckin' bands, so you know we finna blow it We be faded when I'm sober, sober when I'm faded Overscrutinized by all your counterparts, there's no debating You say it's cause they jaded, yeah, they jealous that I made it Do you remember that first time I missed you in the basement? Back when we really didn't know it, we were searching for some Now they pay full advance, and there ain't no fucking discussion At the stage, yeah, they jumping because it's like that You see all these chicks and now your girl ain't even write back You drink all my Rose, and you know what to do Someone dropped up a dose, so we finna get screwed You know I got like way too many feels, way too much emotion Don't know how to make you feel But I'm sorry, bitch, I'm flowin' You know I just drop top in that coup, zoom Don't know where you been at, true Now I'm searchin' for who? You Yeah, I'm comin' right back And I got way too many feels, way too many feels\n",
      "Roaming the campground out by the lake where we swam We were hunting for snakes But we couldn't find them Surrounded by nothing But the nothing's surrounded by us But it's just me in my room With my eyes shut When I was seventeen My mother said to me \"Don't stop imagining. The day that you do is the day that you die.\"Now I pull a one-ton carriage Instead of the horses, grazing the lawn I was having fun We were all having fun My brain can think faster than I can I'm not fast enough Who is there to talk to That won't lock me up? At least God doesn't judge me by the thoughts that aren't mine The snakes I couldn't find I don't want to find When I was seventeen My mother said to me \"Don't stop imagining. The day that you do is the day that you die.\"Now I pull a one-ton carriage Instead of the horses, grazing the lawn I was having fun We were all having fun When I was seventeen My mother said to me \"Don't stop imagining. The day that you do is the day that you die.\" Now I pull a one-ton carriage Instead of the horses, grazing the lawn I was having fun We were all having fun Roaming the campground out by the lake where we swam We were hunting for snakes But we couldn't find them Surrounded by nothing But the nothing's surrounded by us But it's just me in my room With my eyes shut When I was seventeen My mother said to me \"Don't stop imagining. The day that you do is the day that you die.\"Now I pull a one-ton carriage Instead of the horses, grazing the lawn I was having fun We were all having fun My brain can think faster than I can I'm not fast enough Who is there to talk to That won't lock me up? At least God doesn't judge me by the thoughts that aren't mine The snakes I couldn't find I don't want to find When I was seventeen My mother said to me \"Don't stop imagining. The day that you do is the day that you die.\"Now I pull a one-ton carriage Instead of the horses, grazing the lawn I was having fun We were all having fun When I was seventeen My mother said to me \"Don't stop imagining. The day that you do is the day that you die.\" Now I pull a one-ton carriage Instead of the horses, grazing the lawn I was having fun We were all having fun\n",
      "One, two, three, four Hands on your body, I'm grabbin' your ass Enjoyin' the moment 'cause life move too fast I'm lookin' forward, ignorin' the past These are the times that we'll laugh lookin' back I'm gettin' lucky like coins in the well Goodbye to my haters, I'm wishin' you well This is my year, man, if you couldn't tell This is our life and we livin' it well Late nights in the city, causin' hell Burn this bitch into the ground, oh well If all we got tonight, let's do this right Let's do this right Let's go to (Paradise) This shit feel like Friday nights This shit make me feel alive I feel like we in paradise, paradise (Paradise) Don't know if it's the drink I poured But I swear I've never loved you more When you right here, I come alive One more hit and we can fly This shit feel like (Paradise) I'm feelin' it, my head's where the ceilin' is (Oh yeah) This energy turns nights into memories (Oh yeah) Count up the bands, you've been workin' all summer Ex didn't know what he had, what a bummer Insecure people turn to insecure lovers Well, my drink is almost out and I'm about to pour another Just let it out The night has just begun, we on a level now If I get too fucked up, promise you'll hold me down Yeah, this that shit you can't deny This that shit you feel inside This our life, our time, we livin' well Late nights in the city, causin' hell Burn this bitch into the ground, oh well If all we got tonight, let's do this right Let's do this right Let's go to (Paradise) This shit feel like Friday nights (Ooh, it do) This shit make me feel alive (Baby) I feel like we in paradise, paradise (Paradise, oh yeah) Don't know if it's the drink I poured (Poured) But I swear I've never loved you more (Loved you more) When you right here, I come alive One more hit and we can fly This shit feel like (Paradise)\n",
      "I'm fucking gone right now I'm fucking gone right now \"Listen, listen\" From the morning to the evening Complaints from the tenants Got the walls kicking like they six months pregnant Drinking Aliz with our cereal for breakfast Girls calling cabs at dawn quarter to seven Sky's getting cold, we're flying from the north Rockin with our city like a sold out show House full of pros that specialize in the ho'in Make that money rain as they taking off they clothes Order plane tickets Cali is the mission Visit every month like I'm split life living Let the world listen If a hater's caught slipping Then my niggas stay tight Got my back like Pippen Fast life gripping Yeah, we still tippin' Codeine cups paint a picture so vivid Fakes try to mimic Get girls timid But behind closed doors they get poles so rigid All that money, the money is the motive All that money, the money is the motive All that money, the money she be folding Girl put in work, girl, girl put in work Girl put in work, girl, girl put in work Girl put in work Push it to the limit Push it through the pain I push it for the pleasure like a virgin to the game A virgin to that money A virgin to the fame So this my only chance And when I'm over only pray That I flow from the bottom Closer to the top The higher that I climb The harder I'ma drop These pussy ass niggas tryna hold on to their credit So I tell them use a debit Watch they image start to lessen I warn them like discretion Why these niggas testing? Always fucking testing Why these niggas testing? Shit that I got them on straight bar hopping To the music of the ambiance Get shit popping Zombies of the night (zombies of the night) Niggas ain't talking if they hyping to the crew Get it in like pockets Downtown loving When the moon coming Only place to find bassheads and hot women All that money, the money is the motive All that money, the money is the motive All that money, the money she be folding Girl put in work, girl, girl put in work Girl put in work, girl, girl put in work Girl put in work Better slow down She'll feel it in the morning Ain't the kind of girl you'll be seeing in the morning Too damn raw ain't no nigga with her rollin Ain't no nigga that she holding Man, her love is too damn foreign Look at all that money The money is the motive (The money is the motive) All that money The money she be folding (The money she be folding) Girl put in work, girl, girl put in work Girl put in work, girl, girl put in work All that money, the money is the motive All that money, the money is the motive All that money, the money she be folding Girl put in work, girl, girl put in work Girl put in work, girl, girl put in work Girl put in work I'm fucking gone right now I'm fucking gone right now \"Listen, listen\" From the morning to the evening Complaints from the tenants Got the walls kicking like they six months pregnant Drinking Aliz with our cereal for breakfast Girls calling cabs at dawn quarter to seven Sky's getting cold, we're flying from the north Rockin with our city like a sold out show House full of pros that specialize in the ho'in Make that money rain as they taking off they clothes Order plane tickets Cali is the mission Visit every month like I'm split life living Let the world listen If a hater's caught slipping Then my niggas stay tight Got my back like Pippen Fast life gripping Yeah, we still tippin' Codeine cups paint a picture so vivid Fakes try to mimic Get girls timid But behind closed doors they get poles so rigid All that money, the money is the motive All that money, the money is the motive All that money, the money she be folding Girl put in work, girl, girl put in work Girl put in work, girl, girl put in work Girl put in work Push it to the limit Push it through the pain I push it for the pleasure like a virgin to the game A virgin to that money A virgin to the fame So this my only chance And when I'm over only pray That I flow from the bottom Closer to the top The higher that I climb The harder I'ma drop These pussy ass niggas tryna hold on to their credit So I tell them use a debit Watch they image start to lessen I warn them like discretion Why these niggas testing? Always fucking testing Why these niggas testing? Shit that I got them on straight bar hopping To the music of the ambiance Get shit popping Zombies of the night (zombies of the night) Niggas ain't talking if they hyping to the crew Get it in like pockets Downtown loving When the moon coming Only place to find bassheads and hot women All that money, the money is the motive All that money, the money is the motive All that money, the money she be folding Girl put in work, girl, girl put in work Girl put in work, girl, girl put in work Girl put in work Better slow down She'll feel it in the morning Ain't the kind of girl you'll be seeing in the morning Too damn raw ain't no nigga with her rollin Ain't no nigga that she holding Man, her love is too damn foreign Look at all that money The money is the motive (The money is the motive) All that money The money she be folding (The money she be folding) Girl put in work, girl, girl put in work Girl put in work, girl, girl put in work All that money, the money is the motive All that money, the money is the motive All that money, the money she be folding Girl put in work, girl, girl put in work Girl put in work, girl, girl put in work Girl put in work I'm fucking gone right now I'm fucking gone right now \"Listen, listen\" From the morning to the evening Complaints from the tenants Got the walls kicking like they six months pregnant Drinking Aliz with our cereal for breakfast Girls calling cabs at dawn quarter to seven Sky's getting cold, we're flying from the north Rockin with our city like a sold out show House full of pros that specialize in the ho'in Make that money rain as they taking off they clothes Order plane tickets Cali is the mission Visit every month like I'm split life living Let the world listen If a hater's caught slipping Then my niggas stay tight Got my back like Pippen Fast life gripping Yeah, we still tippin' Codeine cups paint a picture so vivid Fakes try to mimic Get girls timid But behind closed doors they get poles so rigid All that money, the money is the motive All that money, the money is the motive All that money, the money she be folding Girl put in work, girl, girl put in work Girl put in work, girl, girl put in work Girl put in work Push it to the limit Push it through the pain I push it for the pleasure like a virgin to the game A virgin to that money A virgin to the fame So this my only chance And when I'm over only pray That I flow from the bottom Closer to the top The higher that I climb The harder I'ma drop These pussy ass niggas tryna hold on to their credit So I tell them use a debit Watch they image start to lessen I warn them like discretion Why these niggas testing? Always fucking testing Why these niggas testing? Shit that I got them on straight bar hopping To the music of the ambiance Get shit popping Zombies of the night (zombies of the night) Niggas ain't talking if they hyping to the crew Get it in like pockets Downtown loving When the moon coming Only place to find bassheads and hot women All that money, the money is the motive All that money, the money is the motive All that money, the money she be folding Girl put in work, girl, girl put in work Girl put in work, girl, girl put in work Girl put in work Better slow down She'll feel it in the morning Ain't the kind of girl you'll be seeing in the morning Too damn raw ain't no nigga with her rollin Ain't no nigga that she holding Man, her love is too damn foreign Look at all that money The money is the motive (The money is the motive) All that money The money she be folding (The money she be folding) Girl put in work, girl, girl put in work Girl put in work, girl, girl put in work All that money, the money is the motive All that money, the money is the motive All that money, the money she be folding Girl put in work, girl, girl put in work Girl put in work, girl, girl put in work Girl put in work\n",
      "When the days are cold and the cards all fold And the saints we see are all made of gold When your dreams all fail and the ones we hail Are the worst of all, and the blood's run stale I wanna hide the truth, I wanna shelter you But with the beast inside, there's nowhere we can hide No matter what we breed, we still are made of greed This is my kingdom come, this is my kingdom come When you feel my heat, look into my eyes It's where my demons hide, it's where my demons hide Don't get too close; it's dark inside It's where my demons hide, it's where my demons hide At the curtain's call it's the last of all When the lights fade out, all the sinners crawl So they dug your grave and the masquerade Will come calling out at the mess you've made Don't wanna let you down, but I am hell-bound Though this is all for you, don't wanna hide the truth No matter what we breed, we still are made of greed This is my kingdom come, this is my kingdom come When you feel my heat, look into my eyes It's where my demons hide, it's where my demons hide Don't get too close; it's dark inside It's where my demons hide, it's where my demons hide They say it's what you make, I say it's up to fate It's woven in my soul, I need to let you go Your eyes, they shine so bright, I wanna save that light I can't escape this now, unless you show me how When you feel my heat, look into my eyes It's where my demons hide, it's where my demons hide Don't get too close; it's dark inside It's where my demons hide, it's where my demons hide\n",
      "You fight me off like a firefighter So tell me why you still get burned You say you're not, but you're still a liar 'Cause I'm the one that you run to first Every time, yeah, why do you try to deny it When you show up every night and Tell me that you want me, but it's complicated So complicated When it hurts, but it hurts so good Do you take it? Do you break it off? When it hurts, but it hurts so good Can you say it? Can you say it? Your love is like... (hey, na-na-na, na-na) Your love is like... (hey, na-na-na, na-na) It hurts so good (hey, na-na-na, na-na) Your love is like... (hey, na-na-na, na-na) It hurts so good Every time that I swear it's over It makes you want me even more You pull away and I come in closer And all we ever stay is torn Baby, I don't know why I try to deny it When you show up every night I tell you that I want you, but it's complicated So complicated When it hurts, but it hurts so good Do you take it? Do you break it off? When it hurts, but it hurts so good Can you say it? Can you say it? Your love is like... (hey, na-na-na, na-na) Your love is like... (hey, na-na-na, na-na) It hurts so good (hey, na-na-na, na-na) Your love is like... (hey, na-na-na, na-na) It hurts so good Wide awake through the daylight Would you hold me like we're running a yellow light? Reach for you with my hands tied Are we dancing like we're burning in paradise? When it hurts, but it hurts so good Do you take it? Do you break it off? When it hurts, but it hurts so good Can you say it? Can you say it? Your love is like... (hey, na-na-na, na-na) Your love is like... (hey, na-na-na, na-na) It hurts so good (hey, na-na-na, na-na) (Yeah-yeah, yeah-yeah) Your love is like... (hey, na-na-na, na-na) It hurts so good\n",
      "Here we go again I kinda wanna be more than friends So take it easy on me I'm afraid you're never satisfied Here we go again We're sick like animals We play pretend You're just a cannibal And I'm afraid I won't get out alive No, I won't sleep tonight Oh, oh I want some more Oh, oh What are you waiting for Take a bite of my heart tonight Oh, oh I want some more Oh, oh What are you waiting for What are you waiting for Say goodbye to my heart tonight Here we go again I feel the chemicals kickin' in It's getting heavy And I wanna run and hide I wanna run and hide I do it every time You're killin' me now And I won't be denied by you The animal inside of you Oh, oh I want some more Oh, oh What are you waiting for Take a bite of my heart tonight Oh, oh I want some more Oh, oh What are you waiting for What are you waiting for Say goodbye to my heart tonight Hush, hush the world is quiet Hush, hush we both can't fight it It's us that made this mess Why can't you understand? Whoa, I won't sleep tonight Here we go again Here we go again Here we go again Oh oh I want some more Oh oh What are you waiting for Take a bite of my heart tonight Oh oh I want some more Oh oh What are you waiting for What are you waiting for What are you waiting Here we go again Here we go again Here we go again Say goodbye to my heart tonight Oh oh I want some more Oh oh What are you waiting for What are you waiting for Say goodbye to my heart tonight Here we go again I kinda wanna be more than friends So take it easy on me I'm afraid you're never satisfied Here we go again We're sick like animals We play pretend You're just a cannibal And I'm afraid I won't get out alive No, I won't sleep tonight Oh, oh I want some more Oh, oh What are you waiting for Take a bite of my heart tonight Oh, oh I want some more Oh, oh What are you waiting for What are you waiting for Say goodbye to my heart tonight Here we go again I feel the chemicals kickin' in It's getting heavy And I wanna run and hide I wanna run and hide I do it every time You're killin' me now And I won't be denied by you The animal inside of you Oh, oh I want some more Oh, oh What are you waiting for Take a bite of my heart tonight Oh, oh I want some more Oh, oh What are you waiting for What are you waiting for Say goodbye to my heart tonight Hush, hush the world is quiet Hush, hush we both can't fight it It's us that made this mess Why can't you understand? Whoa, I won't sleep tonight Here we go again Here we go again Here we go again Oh oh I want some more Oh oh What are you waiting for Take a bite of my heart tonight Oh oh I want some more Oh oh What are you waiting for What are you waiting for What are you waiting Here we go again Here we go again Here we go again Say goodbye to my heart tonight Oh oh I want some more Oh oh What are you waiting for What are you waiting for Say goodbye to my heart tonight\n",
      "Plug in the mic, open the curtain Turn on the lights, I'm through rehearsing The feeling ignites, I'm in control The crowd's in the palm of my hands all my fans stand What is the truth? What's an illusion? You're searching for proof, but are you certain Whatever you see, it's what you get If words paint a picture then I betcha I can getcha yet I'll make you believe in me I can be what you want me to be Tonight is the night Where I make you see That I can be anything, anything, anything I'll make you believe in me I can be what you want me to be Tonight is the night (Night) Where I make you see (See) That I can be anything, anything, anything I got nothing to lose, I've been exposed I'm paying my dues, playing the role I'm breaking the rules, flowing the flow I got the whole world nodding yes like some bobble heads I'll bring the sweat, if you wanna Confess all your stress, you know you got 'em The room's in a spin, the fever's pitched I swear there's no doubt I'm legit, I'm no counterfeit I'll make you believe in me I can be what you want me to be Tonight is the night (Night) Where I make you see (See) That I can be anything, anything, anything I'll make you believe in me I can be what you want me to be Tonight is the night (Night) Where I make you see (See) That I can be anything, anything, anything you want from me I'm not shy, boy, I can be what you want Your bright shiny toy, you just have to respond The clock never stops, but baby it's time There's no doubt in my mind I'll make you believe in me I can be what you want me to be Tonight is the night Where I make you see That I can be anything, anything, anything I'll make you believe in me I can be what you want me to be Tonight is the night (Night) Where I make you see (See) That I can be anything, anything, anything I'll make you believe in me I can be what you want me to be Tonight is the night (Night) Where I make you see (See) That I can be anything, anything, anything I'll make you believe in me I can be what you want me to be Tonight is the night (Night) Where I make you see (See) That I can be anything, anything, anything you want from me\n",
      "What do you mean love? Do you mean you're leaving me? Well I thought that we had plans for the summer Well I guess not, guess not And I don't think That I can take it much longer Am I dumb to think I wasn't good enough? Well I guess not, guess not Everything's coming loose at the seams I'd be lying if I said that I was doing fine You make me so so sad I'm talkin' waterfalls You make me so so sad I'm talkin' waterfalls I'm in my room Thinking of you And you're somewhere at the bottom of a bottle On a Tuesday I think you've lost your mind I think I've lost mine too Givin' up, givin' up, givin up Givin' up on you You make me so so sad I'm talkin' waterfalls You make me so so sad I'm talkin' waterfalls And I am coming undone, coming undone Coming undone all at once I'm talkin' waterfalls 'Cause you make me so so sad I'm talkin' waterfalls I'm talkin' waterfalls (If you needed more time why didn't you make it? If you needed less love why did you fake it? If you needed more time why didn't you make it? If you needed less love why did you fake it? If you needed more time why didn't you make it? If you needed less love why did you fake it? If you needed more time why didn't you make it? If you needed less love why did you fake it?) You make me so so sad I'm talkin' waterfalls You make me so so sad I'm talkin' waterfalls And I am coming undone, coming undone Coming undone all at once I'm talkin' waterfalls 'Cause you make me so so sad I'm talkin' waterfalls I'm talkin' waterfalls I'm talkin' waterfalls\n",
      "When I was younger no one ever Could tell me how to live my life I started trouble, that's what young Kids do and I was young alright And my teacher said I'd be a failure They called my mama just to tell her \"Oh, your son is trouble, there's no doubt He's never gonna leave this town\" Well, mama look at me now Catch me waving from the sky in a brand new G-5 Mama look at me now They said that kid was on slide, but he's doing alright Mama look at me now (hey!) Mama look at me now (hey!) Mama look at me now (hey!) Mama look at me now (hey!) Mama look at me now When I was younger no one ever Could tell me how to live my life I told my mama not to worry 'cause She worried 'bout my world outside They gave me pills to make me better They called my mama just to tell her \"Oh, your son is trouble, good for nothing He ain't ever gonna leave this town\" Well, mama look at me now Catch me waving from the sky in a brand new G-5 Mama look at me now They said that kid was on slide, but he's doing alright Mama look at me now (hey!) Mama look at me now (hey!) Mama look at me now (hey!) Mama look at me now (hey!) Mama look at me now Mama look at me now Mama look at me now\n",
      "I go to loud places To search for someone To be quiet with Who will take me home You go to loud places To find someone who Will take you higher than I took you Didn't I take you to Higher places you can't reach without me?(I have never reached such heights) Reach without me (I feel music in your eyes I have never reached such heights) I go to those places Where we used to go They seem so quiet now I'm here, all alone You go to new places With I don't know who And I don't know how To follow you Higher I take you higher and I'll take you Didn't I take you higher? I take you higher I take you higher and I take you Didn't I take you higher? I take you Didn't I take you to Higher places you can't reach without me?(I have never reached such heights) Reach without me (I feel music in your eyes I have never reached such heights) (I feel music in your eyes I have never reached such heights I feel music in your eyes I have never reached such heights) You're in ecstasy without me When you come down I won't be around I go to loud places To search for someone To be quiet with Who will take me home You go to loud places To find someone who Will take you higher than I took you Didn't I take you to Higher places you can't reach without me?(I have never reached such heights) Reach without me (I feel music in your eyes I have never reached such heights) I go to those places Where we used to go They seem so quiet now I'm here, all alone You go to new places With I don't know who And I don't know how To follow you Higher I take you higher and I'll take you Didn't I take you higher? I take you higher I take you higher and I take you Didn't I take you higher? I take you Didn't I take you to Higher places you can't reach without me?(I have never reached such heights) Reach without me (I feel music in your eyes I have never reached such heights) (I feel music in your eyes I have never reached such heights I feel music in your eyes I have never reached such heights) You're in ecstasy without me When you come down I won't be around\n",
      "\"Good morning, Sodom and Gomorrah Good morning, sinners No, that wasn't your radio set on the blink again.\" Sodom and Gomorrah, let the DJ play 'Cause I'm only gone tomorrow and here today Lotta rockheads on the block Dougie died and Sue got frocked If the stove is hot, then I ain't lost And Rosa says my star is crossed Little Jamie writes 'V13 (V13) Comes in by the door, goes out by the screen He don't listen to me, he knows everything Girls on the avenue ask me to sing Sodom and Gomorrah, let the DJ play 'Cause I'm only gone tomorrow and here today The paper drags and folds me down Like a paper cup, I fly around I've been eating food that ain't been checked And the Russian rain is beating down my neck Screen blackout on the southern war Cue talk breakdown on point forty-four There must be a place the preachers say, \"I guess\" But a drifter will tell you no place is best Shout for all the people who have nothing to say 'Cause we're only gone tomorrow and here today Was a one-off dirt jam when England came good One night in a thousand, they've played 'Knock on Wood' We used to go roamin', go roamin' around You don't look for something, it's sure to be found Sodom and Gomorrah, let the DJ play 'Cause I'm only gone tomorrow and here today Shout for all the people who have nothing to say 'Cause we're only gone tomorrow and here today Sodom and Gomorrah, let the DJ play 'Cause I'm only gone tomorrow and here today Yes, I'm only gone tomorrow and here today \"Sodom and Gomorrah? This is London, gov.\"\n",
      "Where you wanna go When we're done here? 'Cause when these doors close Real ones open Ooh-ooh Ooh-ooh Ooh-ooh Ooh-ooh We're radical Want, want,want,where you want,we're radical Want, want, want, where youwant, we're radical Want, want, want, where you want, we're radical Want, want, want, where you want, we're radical Where you want, where you want, where you want, where you want Where you want, where you want, where you want, where you want Where you want, where you want, where you want, where you want Where you want, where you want, where you want, where you want, we're radical Where you, want, where you want, where you want (We're radical) Where you, want, where you want, where you want (We're radical) Where you, want, where you want, where you want (We're radical) Where you, want, where you want, where you want (We're radical) Where you, want, where you want, where you want (We're radical, ooh-ooh) Where you, want, where you want, where you want (We're radical, ooh-ooh) Where you, want, where you want, where you want (We're radical, ooh-ooh) Where you, want, where you want, where you want (We're radical, ooh-ooh) Where you wanna go When we're done here? 'Cause when these doors close Real ones open Ooh-ooh Ooh-ooh Ooh-ooh Ooh-ooh We're radical but burning We're radical but burning We're radical but burning We're radical but burning Ooh-ooh Ooh-ooh Ooh-ooh Ooh-ooh Want, want, want, where you want Want, want, want, where you want Where you want, where you want, where you want, where you want Where you want, where you want, where you want, where you want Where you want, where you want, where you want, where you want Where you want, where you want, where you want, where you want, we're radical Where you want, where you want, where you want, where you want Where you want, where you want, where you want, where you want Where you want, where you want, where you want, where you want Where you want, where you want, where you want, where you want, we're radical Where you, want, where you want, where you want (We're radical) Where you, want, where you want, where you want (We're radical) Where you, want, where you want, where you want (We're radical) Where you, want, where you want, where you want (We're radical) Where you, want, where you want, where you want (We're radical, ooh-ooh) Where you, want, where you want, where you want (We're radical, ooh-ooh) Where you, want, where you want, where you want (We're radical, ooh-ooh) Where you, want, where you want, where you want (We're radical, ooh-ooh) Where you wanna go When we're done here? 'Cause when these doors close Real ones open (We're radical) We're radical (Ooh-ooh) We're radical (Ooh-ooh) We're radical (Ooh-ooh) We're radical (Ooh-ooh) NA Where you wanna go When we're done here? 'Cause when these doors close Real ones open Ooh-ooh Ooh-ooh Ooh-ooh Ooh-ooh We're radical Want, want,want,where you want,we're radical Want, want, want, where youwant, we're radical Want, want, want, where you want, we're radical Want, want, want, where you want, we're radical Where you want, where you want, where you want, where you want Where you want, where you want, where you want, where you want Where you want, where you want, where you want, where you want Where you want, where you want, where you want, where you want, we're radical Where you, want, where you want, where you want (We're radical) Where you, want, where you want, where you want (We're radical) Where you, want, where you want, where you want (We're radical) Where you, want, where you want, where you want (We're radical) Where you, want, where you want, where you want (We're radical, ooh-ooh) Where you, want, where you want, where you want (We're radical, ooh-ooh) Where you, want, where you want, where you want (We're radical, ooh-ooh) Where you, want, where you want, where you want (We're radical, ooh-ooh) Where you wanna go When we're done here? 'Cause when these doors close Real ones open Ooh-ooh Ooh-ooh Ooh-ooh Ooh-ooh We're radical but burning We're radical but burning We're radical but burning We're radical but burning Ooh-ooh Ooh-ooh Ooh-ooh Ooh-ooh Want, want, want, where you want Want, want, want, where you want Where you want, where you want, where you want, where you want Where you want, where you want, where you want, where you want Where you want, where you want, where you want, where you want Where you want, where you want, where you want, where you want, we're radical Where you want, where you want, where you want, where you want Where you want, where you want, where you want, where you want Where you want, where you want, where you want, where you want Where you want, where you want, where you want, where you want, we're radical Where you, want, where you want, where you want (We're radical) Where you, want, where you want, where you want (We're radical) Where you, want, where you want, where you want (We're radical) Where you, want, where you want, where you want (We're radical) Where you, want, where you want, where you want (We're radical, ooh-ooh) Where you, want, where you want, where you want (We're radical, ooh-ooh) Where you, want, where you want, where you want (We're radical, ooh-ooh) Where you, want, where you want, where you want (We're radical, ooh-ooh) Where you wanna go When we're done here? 'Cause when these doors close Real ones open (We're radical) We're radical (Ooh-ooh) We're radical (Ooh-ooh) We're radical (Ooh-ooh) We're radical (Ooh-ooh) NA Where you wanna go When we're done here? 'Cause when these doors close Real ones open Ooh-ooh Ooh-ooh Ooh-ooh Ooh-ooh We're radical Want, want,want,where you want,we're radical Want, want, want, where youwant, we're radical Want, want, want, where you want, we're radical Want, want, want, where you want, we're radical Where you want, where you want, where you want, where you want Where you want, where you want, where you want, where you want Where you want, where you want, where you want, where you want Where you want, where you want, where you want, where you want, we're radical Where you, want, where you want, where you want (We're radical) Where you, want, where you want, where you want (We're radical) Where you, want, where you want, where you want (We're radical) Where you, want, where you want, where you want (We're radical) Where you, want, where you want, where you want (We're radical, ooh-ooh) Where you, want, where you want, where you want (We're radical, ooh-ooh) Where you, want, where you want, where you want (We're radical, ooh-ooh) Where you, want, where you want, where you want (We're radical, ooh-ooh) Where you wanna go When we're done here? 'Cause when these doors close Real ones open Ooh-ooh Ooh-ooh Ooh-ooh Ooh-ooh We're radical but burning We're radical but burning We're radical but burning We're radical but burning Ooh-ooh Ooh-ooh Ooh-ooh Ooh-ooh Want, want, want, where you want Want, want, want, where you want Where you want, where you want, where you want, where you want Where you want, where you want, where you want, where you want Where you want, where you want, where you want, where you want Where you want, where you want, where you want, where you want, we're radical Where you want, where you want, where you want, where you want Where you want, where you want, where you want, where you want Where you want, where you want, where you want, where you want Where you want, where you want, where you want, where you want, we're radical Where you, want, where you want, where you want (We're radical) Where you, want, where you want, where you want (We're radical) Where you, want, where you want, where you want (We're radical) Where you, want, where you want, where you want (We're radical) Where you, want, where you want, where you want (We're radical, ooh-ooh) Where you, want, where you want, where you want (We're radical, ooh-ooh) Where you, want, where you want, where you want (We're radical, ooh-ooh) Where you, want, where you want, where you want (We're radical, ooh-ooh) Where you wanna go When we're done here? 'Cause when these doors close Real ones open (We're radical) We're radical (Ooh-ooh) We're radical (Ooh-ooh) We're radical (Ooh-ooh) We're radical (Ooh-ooh) NA Where you wanna go When we're done here? 'Cause when these doors close Real ones open Ooh-ooh Ooh-ooh Ooh-ooh Ooh-ooh We're radical Want, want,want,where you want,we're radical Want, want, want, where youwant, we're radical Want, want, want, where you want, we're radical Want, want, want, where you want, we're radical Where you want, where you want, where you want, where you want Where you want, where you want, where you want, where you want Where you want, where you want, where you want, where you want Where you want, where you want, where you want, where you want, we're radical Where you, want, where you want, where you want (We're radical) Where you, want, where you want, where you want (We're radical) Where you, want, where you want, where you want (We're radical) Where you, want, where you want, where you want (We're radical) Where you, want, where you want, where you want (We're radical, ooh-ooh) Where you, want, where you want, where you want (We're radical, ooh-ooh) Where you, want, where you want, where you want (We're radical, ooh-ooh) Where you, want, where you want, where you want (We're radical, ooh-ooh) Where you wanna go When we're done here? 'Cause when these doors close Real ones open Ooh-ooh Ooh-ooh Ooh-ooh Ooh-ooh We're radical but burning We're radical but burning We're radical but burning We're radical but burning Ooh-ooh Ooh-ooh Ooh-ooh Ooh-ooh Want, want, want, where you want Want, want, want, where you want Where you want, where you want, where you want, where you want Where you want, where you want, where you want, where you want Where you want, where you want, where you want, where you want Where you want, where you want, where you want, where you want, we're radical Where you want, where you want, where you want, where you want Where you want, where you want, where you want, where you want Where you want, where you want, where you want, where you want Where you want, where you want, where you want, where you want, we're radical Where you, want, where you want, where you want (We're radical) Where you, want, where you want, where you want (We're radical) Where you, want, where you want, where you want (We're radical) Where you, want, where you want, where you want (We're radical) Where you, want, where you want, where you want (We're radical, ooh-ooh) Where you, want, where you want, where you want (We're radical, ooh-ooh) Where you, want, where you want, where you want (We're radical, ooh-ooh) Where you, want, where you want, where you want (We're radical, ooh-ooh) Where you wanna go When we're done here? 'Cause when these doors close Real ones open (We're radical) We're radical (Ooh-ooh) We're radical (Ooh-ooh) We're radical (Ooh-ooh) We're radical (Ooh-ooh) NA\n"
     ]
    }
   ],
   "source": [
    "fake = []\n",
    "real = []\n",
    "dict_results = {}\n",
    "\n",
    "count = 0\n",
    "\n",
    "for title in test_dataset:\n",
    "    print(title)\n",
    "    beginning = \" \".join(title.split()[0:5])\n",
    "    new_titles = {\n",
    "        'seed': beginning\n",
    "    }\n",
    "        \n",
    "    if 0 <= count < 50:\n",
    "        generated = tokenizer('<|startoftext|>' + beginning, return_tensors=\"pt\").input_ids.cuda()\n",
    "        sample_outputs = model.generate(generated,no_repeat_ngram_size = 1,num_beams=40, num_return_sequences=1,max_length=80,min_length=30)\n",
    "\n",
    "        new_titles['predictions'] = sample_outputs\n",
    "        fake.append(new_titles)\n",
    "        dict_results[title] = tokenizer.decode(sample_outputs[0], skip_special_tokens=True)\n",
    "    \n",
    "    elif 50 <= count < 100:\n",
    "        new_titles['predictions'] = title\n",
    "        real.append(new_titles)\n",
    "        \n",
    "    else:\n",
    "        break\n",
    "        \n",
    "    count += 1"
   ]
  },
  {
   "cell_type": "markdown",
   "id": "4ec93182",
   "metadata": {
    "papermill": {
     "duration": 0.016626,
     "end_time": "2022-12-23T21:47:57.682797",
     "exception": false,
     "start_time": "2022-12-23T21:47:57.666171",
     "status": "completed"
    },
    "tags": []
   },
   "source": []
  },
  {
   "cell_type": "code",
   "execution_count": 17,
   "id": "e65373b9",
   "metadata": {
    "execution": {
     "iopub.execute_input": "2022-12-23T21:47:57.718535Z",
     "iopub.status.busy": "2022-12-23T21:47:57.718214Z",
     "iopub.status.idle": "2022-12-23T21:47:57.827823Z",
     "shell.execute_reply": "2022-12-23T21:47:57.826950Z"
    },
    "papermill": {
     "duration": 0.130484,
     "end_time": "2022-12-23T21:47:57.830049",
     "exception": false,
     "start_time": "2022-12-23T21:47:57.699565",
     "status": "completed"
    },
    "tags": []
   },
   "outputs": [],
   "source": [
    "import csv # move up\n",
    "\n",
    "with open('/kaggle/working/genlyrics.csv', 'w+') as f:\n",
    "    writer = csv.writer(f)\n",
    "    \n",
    "    header = ['Prompt', 'Generation', 'Coherence', 'Musical Quality', 'Pop Style']\n",
    "    writer.writerow(header)\n",
    "\n",
    "    for new_title in fake:\n",
    "        res1 = new_title['seed']\n",
    "        res2 = tokenizer.decode(new_title['predictions'][0], skip_special_tokens=True)\n",
    "        writer.writerow([res1, res2])\n",
    "    \n",
    "    for new_title in real:\n",
    "        res1 = new_title['seed']\n",
    "        res2 = new_title['predictions']\n",
    "        writer.writerow([res1, res2])\n",
    "        \n",
    "with open('/kaggle/working/rougefile.txt', 'w+') as f:\n",
    "    for res1,res2 in dict_results.items():\n",
    "        f.write(res1)\n",
    "        f.write('\\n')\n",
    "        f.write(res2)\n",
    "        f.write('\\n')"
   ]
  },
  {
   "cell_type": "markdown",
   "id": "a5d7b4b2",
   "metadata": {
    "papermill": {
     "duration": 0.01668,
     "end_time": "2022-12-23T21:47:57.864132",
     "exception": false,
     "start_time": "2022-12-23T21:47:57.847452",
     "status": "completed"
    },
    "tags": []
   },
   "source": [
    "<a id=\"section-5\"></a>\n",
    "# <span>Work in progress</span>\n",
    "<hr style=\"border-bottom: solid;background-color:light;color:black;\">\n",
    "\n",
    "<p style=\"text-align:justify; padding:20px;\">\n",
    "    If you have any suggestions on how I could improve this notebook, please let me know :D\n",
    "</p>\n"
   ]
  }
 ],
 "metadata": {
  "kernelspec": {
   "display_name": "Python 3",
   "language": "python",
   "name": "python3"
  },
  "language_info": {
   "codemirror_mode": {
    "name": "ipython",
    "version": 3
   },
   "file_extension": ".py",
   "mimetype": "text/x-python",
   "name": "python",
   "nbconvert_exporter": "python",
   "pygments_lexer": "ipython3",
   "version": "3.7.12"
  },
  "papermill": {
   "default_parameters": {},
   "duration": 3531.713953,
   "end_time": "2022-12-23T21:48:01.075142",
   "environment_variables": {},
   "exception": null,
   "input_path": "__notebook__.ipynb",
   "output_path": "__notebook__.ipynb",
   "parameters": {},
   "start_time": "2022-12-23T20:49:09.361189",
   "version": "2.3.4"
  },
  "widgets": {
   "application/vnd.jupyter.widget-state+json": {
    "state": {
     "08e29bb5072344e3a2b1310e98cb781a": {
      "model_module": "@jupyter-widgets/controls",
      "model_module_version": "1.5.0",
      "model_name": "HBoxModel",
      "state": {
       "_dom_classes": [],
       "_model_module": "@jupyter-widgets/controls",
       "_model_module_version": "1.5.0",
       "_model_name": "HBoxModel",
       "_view_count": null,
       "_view_module": "@jupyter-widgets/controls",
       "_view_module_version": "1.5.0",
       "_view_name": "HBoxView",
       "box_style": "",
       "children": [
        "IPY_MODEL_81bf28cb2afe4eaf887980f057dcd245",
        "IPY_MODEL_e06d78b8405a4a00b99e3db655c24cde",
        "IPY_MODEL_ac379b080e214b8ab8902f00aef3c0f0"
       ],
       "layout": "IPY_MODEL_5156a4db5da141d1b87c4e98882e4b76"
      }
     },
     "0b62f29402b44953b2676d766cdc1dd9": {
      "model_module": "@jupyter-widgets/base",
      "model_module_version": "1.2.0",
      "model_name": "LayoutModel",
      "state": {
       "_model_module": "@jupyter-widgets/base",
       "_model_module_version": "1.2.0",
       "_model_name": "LayoutModel",
       "_view_count": null,
       "_view_module": "@jupyter-widgets/base",
       "_view_module_version": "1.2.0",
       "_view_name": "LayoutView",
       "align_content": null,
       "align_items": null,
       "align_self": null,
       "border": null,
       "bottom": null,
       "display": null,
       "flex": null,
       "flex_flow": null,
       "grid_area": null,
       "grid_auto_columns": null,
       "grid_auto_flow": null,
       "grid_auto_rows": null,
       "grid_column": null,
       "grid_gap": null,
       "grid_row": null,
       "grid_template_areas": null,
       "grid_template_columns": null,
       "grid_template_rows": null,
       "height": null,
       "justify_content": null,
       "justify_items": null,
       "left": null,
       "margin": null,
       "max_height": null,
       "max_width": null,
       "min_height": null,
       "min_width": null,
       "object_fit": null,
       "object_position": null,
       "order": null,
       "overflow": null,
       "overflow_x": null,
       "overflow_y": null,
       "padding": null,
       "right": null,
       "top": null,
       "visibility": null,
       "width": null
      }
     },
     "0bb1ebe2728f415baf80f70cf014362c": {
      "model_module": "@jupyter-widgets/base",
      "model_module_version": "1.2.0",
      "model_name": "LayoutModel",
      "state": {
       "_model_module": "@jupyter-widgets/base",
       "_model_module_version": "1.2.0",
       "_model_name": "LayoutModel",
       "_view_count": null,
       "_view_module": "@jupyter-widgets/base",
       "_view_module_version": "1.2.0",
       "_view_name": "LayoutView",
       "align_content": null,
       "align_items": null,
       "align_self": null,
       "border": null,
       "bottom": null,
       "display": null,
       "flex": null,
       "flex_flow": null,
       "grid_area": null,
       "grid_auto_columns": null,
       "grid_auto_flow": null,
       "grid_auto_rows": null,
       "grid_column": null,
       "grid_gap": null,
       "grid_row": null,
       "grid_template_areas": null,
       "grid_template_columns": null,
       "grid_template_rows": null,
       "height": null,
       "justify_content": null,
       "justify_items": null,
       "left": null,
       "margin": null,
       "max_height": null,
       "max_width": null,
       "min_height": null,
       "min_width": null,
       "object_fit": null,
       "object_position": null,
       "order": null,
       "overflow": null,
       "overflow_x": null,
       "overflow_y": null,
       "padding": null,
       "right": null,
       "top": null,
       "visibility": null,
       "width": null
      }
     },
     "136beee2691e4d63b7f52db79c8a6936": {
      "model_module": "@jupyter-widgets/controls",
      "model_module_version": "1.5.0",
      "model_name": "ProgressStyleModel",
      "state": {
       "_model_module": "@jupyter-widgets/controls",
       "_model_module_version": "1.5.0",
       "_model_name": "ProgressStyleModel",
       "_view_count": null,
       "_view_module": "@jupyter-widgets/base",
       "_view_module_version": "1.2.0",
       "_view_name": "StyleView",
       "bar_color": null,
       "description_width": ""
      }
     },
     "1449013d44144f868a017737931d9268": {
      "model_module": "@jupyter-widgets/controls",
      "model_module_version": "1.5.0",
      "model_name": "HBoxModel",
      "state": {
       "_dom_classes": [],
       "_model_module": "@jupyter-widgets/controls",
       "_model_module_version": "1.5.0",
       "_model_name": "HBoxModel",
       "_view_count": null,
       "_view_module": "@jupyter-widgets/controls",
       "_view_module_version": "1.5.0",
       "_view_name": "HBoxView",
       "box_style": "",
       "children": [
        "IPY_MODEL_8460f3074fb04967ad6e234484a620cf",
        "IPY_MODEL_c89ee7a587c14b55a68c4a1329e834b3",
        "IPY_MODEL_9706e8c439a040d88dedf7bf9d7d6064"
       ],
       "layout": "IPY_MODEL_a9a86125bccb4097ae294ecaaa9ccf2f"
      }
     },
     "19fe63f1ef174a4f83583737a02828df": {
      "model_module": "@jupyter-widgets/base",
      "model_module_version": "1.2.0",
      "model_name": "LayoutModel",
      "state": {
       "_model_module": "@jupyter-widgets/base",
       "_model_module_version": "1.2.0",
       "_model_name": "LayoutModel",
       "_view_count": null,
       "_view_module": "@jupyter-widgets/base",
       "_view_module_version": "1.2.0",
       "_view_name": "LayoutView",
       "align_content": null,
       "align_items": null,
       "align_self": null,
       "border": null,
       "bottom": null,
       "display": null,
       "flex": null,
       "flex_flow": null,
       "grid_area": null,
       "grid_auto_columns": null,
       "grid_auto_flow": null,
       "grid_auto_rows": null,
       "grid_column": null,
       "grid_gap": null,
       "grid_row": null,
       "grid_template_areas": null,
       "grid_template_columns": null,
       "grid_template_rows": null,
       "height": null,
       "justify_content": null,
       "justify_items": null,
       "left": null,
       "margin": null,
       "max_height": null,
       "max_width": null,
       "min_height": null,
       "min_width": null,
       "object_fit": null,
       "object_position": null,
       "order": null,
       "overflow": null,
       "overflow_x": null,
       "overflow_y": null,
       "padding": null,
       "right": null,
       "top": null,
       "visibility": null,
       "width": null
      }
     },
     "2e5a0bd55d0b4e248fb0bbb7ae8edd81": {
      "model_module": "@jupyter-widgets/controls",
      "model_module_version": "1.5.0",
      "model_name": "ProgressStyleModel",
      "state": {
       "_model_module": "@jupyter-widgets/controls",
       "_model_module_version": "1.5.0",
       "_model_name": "ProgressStyleModel",
       "_view_count": null,
       "_view_module": "@jupyter-widgets/base",
       "_view_module_version": "1.2.0",
       "_view_name": "StyleView",
       "bar_color": null,
       "description_width": ""
      }
     },
     "30a237dcee584cdabb3a995a225834ab": {
      "model_module": "@jupyter-widgets/controls",
      "model_module_version": "1.5.0",
      "model_name": "DescriptionStyleModel",
      "state": {
       "_model_module": "@jupyter-widgets/controls",
       "_model_module_version": "1.5.0",
       "_model_name": "DescriptionStyleModel",
       "_view_count": null,
       "_view_module": "@jupyter-widgets/base",
       "_view_module_version": "1.2.0",
       "_view_name": "StyleView",
       "description_width": ""
      }
     },
     "3dd000b381074c38b78785a5b6fff0fb": {
      "model_module": "@jupyter-widgets/controls",
      "model_module_version": "1.5.0",
      "model_name": "ProgressStyleModel",
      "state": {
       "_model_module": "@jupyter-widgets/controls",
       "_model_module_version": "1.5.0",
       "_model_name": "ProgressStyleModel",
       "_view_count": null,
       "_view_module": "@jupyter-widgets/base",
       "_view_module_version": "1.2.0",
       "_view_name": "StyleView",
       "bar_color": null,
       "description_width": ""
      }
     },
     "3e3f3f4e85d14e71a64fa4e25fa6233b": {
      "model_module": "@jupyter-widgets/controls",
      "model_module_version": "1.5.0",
      "model_name": "FloatProgressModel",
      "state": {
       "_dom_classes": [],
       "_model_module": "@jupyter-widgets/controls",
       "_model_module_version": "1.5.0",
       "_model_name": "FloatProgressModel",
       "_view_count": null,
       "_view_module": "@jupyter-widgets/controls",
       "_view_module_version": "1.5.0",
       "_view_name": "ProgressView",
       "bar_style": "success",
       "description": "",
       "description_tooltip": null,
       "layout": "IPY_MODEL_8f32d59039a340df97e111a1eb564710",
       "max": 456318.0,
       "min": 0.0,
       "orientation": "horizontal",
       "style": "IPY_MODEL_feb792485cbe4ee8b181c16064ebdf87",
       "value": 456318.0
      }
     },
     "3f888f233f094f8ca07673aba88046ab": {
      "model_module": "@jupyter-widgets/base",
      "model_module_version": "1.2.0",
      "model_name": "LayoutModel",
      "state": {
       "_model_module": "@jupyter-widgets/base",
       "_model_module_version": "1.2.0",
       "_model_name": "LayoutModel",
       "_view_count": null,
       "_view_module": "@jupyter-widgets/base",
       "_view_module_version": "1.2.0",
       "_view_name": "LayoutView",
       "align_content": null,
       "align_items": null,
       "align_self": null,
       "border": null,
       "bottom": null,
       "display": null,
       "flex": null,
       "flex_flow": null,
       "grid_area": null,
       "grid_auto_columns": null,
       "grid_auto_flow": null,
       "grid_auto_rows": null,
       "grid_column": null,
       "grid_gap": null,
       "grid_row": null,
       "grid_template_areas": null,
       "grid_template_columns": null,
       "grid_template_rows": null,
       "height": null,
       "justify_content": null,
       "justify_items": null,
       "left": null,
       "margin": null,
       "max_height": null,
       "max_width": null,
       "min_height": null,
       "min_width": null,
       "object_fit": null,
       "object_position": null,
       "order": null,
       "overflow": null,
       "overflow_x": null,
       "overflow_y": null,
       "padding": null,
       "right": null,
       "top": null,
       "visibility": null,
       "width": null
      }
     },
     "5156a4db5da141d1b87c4e98882e4b76": {
      "model_module": "@jupyter-widgets/base",
      "model_module_version": "1.2.0",
      "model_name": "LayoutModel",
      "state": {
       "_model_module": "@jupyter-widgets/base",
       "_model_module_version": "1.2.0",
       "_model_name": "LayoutModel",
       "_view_count": null,
       "_view_module": "@jupyter-widgets/base",
       "_view_module_version": "1.2.0",
       "_view_name": "LayoutView",
       "align_content": null,
       "align_items": null,
       "align_self": null,
       "border": null,
       "bottom": null,
       "display": null,
       "flex": null,
       "flex_flow": null,
       "grid_area": null,
       "grid_auto_columns": null,
       "grid_auto_flow": null,
       "grid_auto_rows": null,
       "grid_column": null,
       "grid_gap": null,
       "grid_row": null,
       "grid_template_areas": null,
       "grid_template_columns": null,
       "grid_template_rows": null,
       "height": null,
       "justify_content": null,
       "justify_items": null,
       "left": null,
       "margin": null,
       "max_height": null,
       "max_width": null,
       "min_height": null,
       "min_width": null,
       "object_fit": null,
       "object_position": null,
       "order": null,
       "overflow": null,
       "overflow_x": null,
       "overflow_y": null,
       "padding": null,
       "right": null,
       "top": null,
       "visibility": null,
       "width": null
      }
     },
     "5ccc6d9a2e674b1aa76ef0850b484cc5": {
      "model_module": "@jupyter-widgets/controls",
      "model_module_version": "1.5.0",
      "model_name": "DescriptionStyleModel",
      "state": {
       "_model_module": "@jupyter-widgets/controls",
       "_model_module_version": "1.5.0",
       "_model_name": "DescriptionStyleModel",
       "_view_count": null,
       "_view_module": "@jupyter-widgets/base",
       "_view_module_version": "1.2.0",
       "_view_name": "StyleView",
       "description_width": ""
      }
     },
     "68d4e9fba0ac4ca98dfdb24384060c10": {
      "model_module": "@jupyter-widgets/base",
      "model_module_version": "1.2.0",
      "model_name": "LayoutModel",
      "state": {
       "_model_module": "@jupyter-widgets/base",
       "_model_module_version": "1.2.0",
       "_model_name": "LayoutModel",
       "_view_count": null,
       "_view_module": "@jupyter-widgets/base",
       "_view_module_version": "1.2.0",
       "_view_name": "LayoutView",
       "align_content": null,
       "align_items": null,
       "align_self": null,
       "border": null,
       "bottom": null,
       "display": null,
       "flex": null,
       "flex_flow": null,
       "grid_area": null,
       "grid_auto_columns": null,
       "grid_auto_flow": null,
       "grid_auto_rows": null,
       "grid_column": null,
       "grid_gap": null,
       "grid_row": null,
       "grid_template_areas": null,
       "grid_template_columns": null,
       "grid_template_rows": null,
       "height": null,
       "justify_content": null,
       "justify_items": null,
       "left": null,
       "margin": null,
       "max_height": null,
       "max_width": null,
       "min_height": null,
       "min_width": null,
       "object_fit": null,
       "object_position": null,
       "order": null,
       "overflow": null,
       "overflow_x": null,
       "overflow_y": null,
       "padding": null,
       "right": null,
       "top": null,
       "visibility": null,
       "width": null
      }
     },
     "81bf28cb2afe4eaf887980f057dcd245": {
      "model_module": "@jupyter-widgets/controls",
      "model_module_version": "1.5.0",
      "model_name": "HTMLModel",
      "state": {
       "_dom_classes": [],
       "_model_module": "@jupyter-widgets/controls",
       "_model_module_version": "1.5.0",
       "_model_name": "HTMLModel",
       "_view_count": null,
       "_view_module": "@jupyter-widgets/controls",
       "_view_module_version": "1.5.0",
       "_view_name": "HTMLView",
       "description": "",
       "description_tooltip": null,
       "layout": "IPY_MODEL_19fe63f1ef174a4f83583737a02828df",
       "placeholder": "​",
       "style": "IPY_MODEL_ad6f471f8b8a464ca9e376652f90cdcd",
       "value": "Downloading: 100%"
      }
     },
     "8460f3074fb04967ad6e234484a620cf": {
      "model_module": "@jupyter-widgets/controls",
      "model_module_version": "1.5.0",
      "model_name": "HTMLModel",
      "state": {
       "_dom_classes": [],
       "_model_module": "@jupyter-widgets/controls",
       "_model_module_version": "1.5.0",
       "_model_name": "HTMLModel",
       "_view_count": null,
       "_view_module": "@jupyter-widgets/controls",
       "_view_module_version": "1.5.0",
       "_view_name": "HTMLView",
       "description": "",
       "description_tooltip": null,
       "layout": "IPY_MODEL_b45ac4fcba70463db5acc6aa72b7e3d2",
       "placeholder": "​",
       "style": "IPY_MODEL_d2a81412880f4ce0a13bf96da2749a1e",
       "value": "Downloading: 100%"
      }
     },
     "87cde1fa8c5641a393dcac06c8145194": {
      "model_module": "@jupyter-widgets/controls",
      "model_module_version": "1.5.0",
      "model_name": "DescriptionStyleModel",
      "state": {
       "_model_module": "@jupyter-widgets/controls",
       "_model_module_version": "1.5.0",
       "_model_name": "DescriptionStyleModel",
       "_view_count": null,
       "_view_module": "@jupyter-widgets/base",
       "_view_module_version": "1.2.0",
       "_view_name": "StyleView",
       "description_width": ""
      }
     },
     "8f32d59039a340df97e111a1eb564710": {
      "model_module": "@jupyter-widgets/base",
      "model_module_version": "1.2.0",
      "model_name": "LayoutModel",
      "state": {
       "_model_module": "@jupyter-widgets/base",
       "_model_module_version": "1.2.0",
       "_model_name": "LayoutModel",
       "_view_count": null,
       "_view_module": "@jupyter-widgets/base",
       "_view_module_version": "1.2.0",
       "_view_name": "LayoutView",
       "align_content": null,
       "align_items": null,
       "align_self": null,
       "border": null,
       "bottom": null,
       "display": null,
       "flex": null,
       "flex_flow": null,
       "grid_area": null,
       "grid_auto_columns": null,
       "grid_auto_flow": null,
       "grid_auto_rows": null,
       "grid_column": null,
       "grid_gap": null,
       "grid_row": null,
       "grid_template_areas": null,
       "grid_template_columns": null,
       "grid_template_rows": null,
       "height": null,
       "justify_content": null,
       "justify_items": null,
       "left": null,
       "margin": null,
       "max_height": null,
       "max_width": null,
       "min_height": null,
       "min_width": null,
       "object_fit": null,
       "object_position": null,
       "order": null,
       "overflow": null,
       "overflow_x": null,
       "overflow_y": null,
       "padding": null,
       "right": null,
       "top": null,
       "visibility": null,
       "width": null
      }
     },
     "8fdc2ffdce5e42458db6ff6cf63e33a2": {
      "model_module": "@jupyter-widgets/controls",
      "model_module_version": "1.5.0",
      "model_name": "DescriptionStyleModel",
      "state": {
       "_model_module": "@jupyter-widgets/controls",
       "_model_module_version": "1.5.0",
       "_model_name": "DescriptionStyleModel",
       "_view_count": null,
       "_view_module": "@jupyter-widgets/base",
       "_view_module_version": "1.2.0",
       "_view_name": "StyleView",
       "description_width": ""
      }
     },
     "8ffdb77e90934d96bc1df02b48bf1589": {
      "model_module": "@jupyter-widgets/controls",
      "model_module_version": "1.5.0",
      "model_name": "DescriptionStyleModel",
      "state": {
       "_model_module": "@jupyter-widgets/controls",
       "_model_module_version": "1.5.0",
       "_model_name": "DescriptionStyleModel",
       "_view_count": null,
       "_view_module": "@jupyter-widgets/base",
       "_view_module_version": "1.2.0",
       "_view_name": "StyleView",
       "description_width": ""
      }
     },
     "96d2d44dd8be4d109d1b359ac2645f6f": {
      "model_module": "@jupyter-widgets/controls",
      "model_module_version": "1.5.0",
      "model_name": "HBoxModel",
      "state": {
       "_dom_classes": [],
       "_model_module": "@jupyter-widgets/controls",
       "_model_module_version": "1.5.0",
       "_model_name": "HBoxModel",
       "_view_count": null,
       "_view_module": "@jupyter-widgets/controls",
       "_view_module_version": "1.5.0",
       "_view_name": "HBoxView",
       "box_style": "",
       "children": [
        "IPY_MODEL_c9c7d59029b7400fbdac7921d6ee0092",
        "IPY_MODEL_3e3f3f4e85d14e71a64fa4e25fa6233b",
        "IPY_MODEL_a864a128238a4a0e8189ce3a04f7fe4c"
       ],
       "layout": "IPY_MODEL_b5187f3d99a94a2492e08dca27c11896"
      }
     },
     "9706e8c439a040d88dedf7bf9d7d6064": {
      "model_module": "@jupyter-widgets/controls",
      "model_module_version": "1.5.0",
      "model_name": "HTMLModel",
      "state": {
       "_dom_classes": [],
       "_model_module": "@jupyter-widgets/controls",
       "_model_module_version": "1.5.0",
       "_model_name": "HTMLModel",
       "_view_count": null,
       "_view_module": "@jupyter-widgets/controls",
       "_view_module_version": "1.5.0",
       "_view_name": "HTMLView",
       "description": "",
       "description_tooltip": null,
       "layout": "IPY_MODEL_68d4e9fba0ac4ca98dfdb24384060c10",
       "placeholder": "​",
       "style": "IPY_MODEL_a409f070d45f4630b4a9fe184a396fff",
       "value": " 0.99M/0.99M [00:00&lt;00:00, 2.84MB/s]"
      }
     },
     "9a3e390a50df40acafa37be0782d2957": {
      "model_module": "@jupyter-widgets/base",
      "model_module_version": "1.2.0",
      "model_name": "LayoutModel",
      "state": {
       "_model_module": "@jupyter-widgets/base",
       "_model_module_version": "1.2.0",
       "_model_name": "LayoutModel",
       "_view_count": null,
       "_view_module": "@jupyter-widgets/base",
       "_view_module_version": "1.2.0",
       "_view_name": "LayoutView",
       "align_content": null,
       "align_items": null,
       "align_self": null,
       "border": null,
       "bottom": null,
       "display": null,
       "flex": null,
       "flex_flow": null,
       "grid_area": null,
       "grid_auto_columns": null,
       "grid_auto_flow": null,
       "grid_auto_rows": null,
       "grid_column": null,
       "grid_gap": null,
       "grid_row": null,
       "grid_template_areas": null,
       "grid_template_columns": null,
       "grid_template_rows": null,
       "height": null,
       "justify_content": null,
       "justify_items": null,
       "left": null,
       "margin": null,
       "max_height": null,
       "max_width": null,
       "min_height": null,
       "min_width": null,
       "object_fit": null,
       "object_position": null,
       "order": null,
       "overflow": null,
       "overflow_x": null,
       "overflow_y": null,
       "padding": null,
       "right": null,
       "top": null,
       "visibility": null,
       "width": null
      }
     },
     "9a6bdaa823f9412b81bec7f4bb3a4201": {
      "model_module": "@jupyter-widgets/base",
      "model_module_version": "1.2.0",
      "model_name": "LayoutModel",
      "state": {
       "_model_module": "@jupyter-widgets/base",
       "_model_module_version": "1.2.0",
       "_model_name": "LayoutModel",
       "_view_count": null,
       "_view_module": "@jupyter-widgets/base",
       "_view_module_version": "1.2.0",
       "_view_name": "LayoutView",
       "align_content": null,
       "align_items": null,
       "align_self": null,
       "border": null,
       "bottom": null,
       "display": null,
       "flex": null,
       "flex_flow": null,
       "grid_area": null,
       "grid_auto_columns": null,
       "grid_auto_flow": null,
       "grid_auto_rows": null,
       "grid_column": null,
       "grid_gap": null,
       "grid_row": null,
       "grid_template_areas": null,
       "grid_template_columns": null,
       "grid_template_rows": null,
       "height": null,
       "justify_content": null,
       "justify_items": null,
       "left": null,
       "margin": null,
       "max_height": null,
       "max_width": null,
       "min_height": null,
       "min_width": null,
       "object_fit": null,
       "object_position": null,
       "order": null,
       "overflow": null,
       "overflow_x": null,
       "overflow_y": null,
       "padding": null,
       "right": null,
       "top": null,
       "visibility": null,
       "width": null
      }
     },
     "a409f070d45f4630b4a9fe184a396fff": {
      "model_module": "@jupyter-widgets/controls",
      "model_module_version": "1.5.0",
      "model_name": "DescriptionStyleModel",
      "state": {
       "_model_module": "@jupyter-widgets/controls",
       "_model_module_version": "1.5.0",
       "_model_name": "DescriptionStyleModel",
       "_view_count": null,
       "_view_module": "@jupyter-widgets/base",
       "_view_module_version": "1.2.0",
       "_view_name": "StyleView",
       "description_width": ""
      }
     },
     "a864a128238a4a0e8189ce3a04f7fe4c": {
      "model_module": "@jupyter-widgets/controls",
      "model_module_version": "1.5.0",
      "model_name": "HTMLModel",
      "state": {
       "_dom_classes": [],
       "_model_module": "@jupyter-widgets/controls",
       "_model_module_version": "1.5.0",
       "_model_name": "HTMLModel",
       "_view_count": null,
       "_view_module": "@jupyter-widgets/controls",
       "_view_module_version": "1.5.0",
       "_view_name": "HTMLView",
       "description": "",
       "description_tooltip": null,
       "layout": "IPY_MODEL_e9305c7ecc8344c5ada2f5ad2cb327eb",
       "placeholder": "​",
       "style": "IPY_MODEL_5ccc6d9a2e674b1aa76ef0850b484cc5",
       "value": " 446k/446k [00:00&lt;00:00, 960kB/s]"
      }
     },
     "a9a86125bccb4097ae294ecaaa9ccf2f": {
      "model_module": "@jupyter-widgets/base",
      "model_module_version": "1.2.0",
      "model_name": "LayoutModel",
      "state": {
       "_model_module": "@jupyter-widgets/base",
       "_model_module_version": "1.2.0",
       "_model_name": "LayoutModel",
       "_view_count": null,
       "_view_module": "@jupyter-widgets/base",
       "_view_module_version": "1.2.0",
       "_view_name": "LayoutView",
       "align_content": null,
       "align_items": null,
       "align_self": null,
       "border": null,
       "bottom": null,
       "display": null,
       "flex": null,
       "flex_flow": null,
       "grid_area": null,
       "grid_auto_columns": null,
       "grid_auto_flow": null,
       "grid_auto_rows": null,
       "grid_column": null,
       "grid_gap": null,
       "grid_row": null,
       "grid_template_areas": null,
       "grid_template_columns": null,
       "grid_template_rows": null,
       "height": null,
       "justify_content": null,
       "justify_items": null,
       "left": null,
       "margin": null,
       "max_height": null,
       "max_width": null,
       "min_height": null,
       "min_width": null,
       "object_fit": null,
       "object_position": null,
       "order": null,
       "overflow": null,
       "overflow_x": null,
       "overflow_y": null,
       "padding": null,
       "right": null,
       "top": null,
       "visibility": null,
       "width": null
      }
     },
     "ac379b080e214b8ab8902f00aef3c0f0": {
      "model_module": "@jupyter-widgets/controls",
      "model_module_version": "1.5.0",
      "model_name": "HTMLModel",
      "state": {
       "_dom_classes": [],
       "_model_module": "@jupyter-widgets/controls",
       "_model_module_version": "1.5.0",
       "_model_name": "HTMLModel",
       "_view_count": null,
       "_view_module": "@jupyter-widgets/controls",
       "_view_module_version": "1.5.0",
       "_view_name": "HTMLView",
       "description": "",
       "description_tooltip": null,
       "layout": "IPY_MODEL_9a3e390a50df40acafa37be0782d2957",
       "placeholder": "​",
       "style": "IPY_MODEL_8fdc2ffdce5e42458db6ff6cf63e33a2",
       "value": " 762/762 [00:00&lt;00:00, 24.6kB/s]"
      }
     },
     "ad6f471f8b8a464ca9e376652f90cdcd": {
      "model_module": "@jupyter-widgets/controls",
      "model_module_version": "1.5.0",
      "model_name": "DescriptionStyleModel",
      "state": {
       "_model_module": "@jupyter-widgets/controls",
       "_model_module_version": "1.5.0",
       "_model_name": "DescriptionStyleModel",
       "_view_count": null,
       "_view_module": "@jupyter-widgets/base",
       "_view_module_version": "1.2.0",
       "_view_name": "StyleView",
       "description_width": ""
      }
     },
     "b37c0f5eb1884fc7a95ecf847f5c66b7": {
      "model_module": "@jupyter-widgets/base",
      "model_module_version": "1.2.0",
      "model_name": "LayoutModel",
      "state": {
       "_model_module": "@jupyter-widgets/base",
       "_model_module_version": "1.2.0",
       "_model_name": "LayoutModel",
       "_view_count": null,
       "_view_module": "@jupyter-widgets/base",
       "_view_module_version": "1.2.0",
       "_view_name": "LayoutView",
       "align_content": null,
       "align_items": null,
       "align_self": null,
       "border": null,
       "bottom": null,
       "display": null,
       "flex": null,
       "flex_flow": null,
       "grid_area": null,
       "grid_auto_columns": null,
       "grid_auto_flow": null,
       "grid_auto_rows": null,
       "grid_column": null,
       "grid_gap": null,
       "grid_row": null,
       "grid_template_areas": null,
       "grid_template_columns": null,
       "grid_template_rows": null,
       "height": null,
       "justify_content": null,
       "justify_items": null,
       "left": null,
       "margin": null,
       "max_height": null,
       "max_width": null,
       "min_height": null,
       "min_width": null,
       "object_fit": null,
       "object_position": null,
       "order": null,
       "overflow": null,
       "overflow_x": null,
       "overflow_y": null,
       "padding": null,
       "right": null,
       "top": null,
       "visibility": null,
       "width": null
      }
     },
     "b45ac4fcba70463db5acc6aa72b7e3d2": {
      "model_module": "@jupyter-widgets/base",
      "model_module_version": "1.2.0",
      "model_name": "LayoutModel",
      "state": {
       "_model_module": "@jupyter-widgets/base",
       "_model_module_version": "1.2.0",
       "_model_name": "LayoutModel",
       "_view_count": null,
       "_view_module": "@jupyter-widgets/base",
       "_view_module_version": "1.2.0",
       "_view_name": "LayoutView",
       "align_content": null,
       "align_items": null,
       "align_self": null,
       "border": null,
       "bottom": null,
       "display": null,
       "flex": null,
       "flex_flow": null,
       "grid_area": null,
       "grid_auto_columns": null,
       "grid_auto_flow": null,
       "grid_auto_rows": null,
       "grid_column": null,
       "grid_gap": null,
       "grid_row": null,
       "grid_template_areas": null,
       "grid_template_columns": null,
       "grid_template_rows": null,
       "height": null,
       "justify_content": null,
       "justify_items": null,
       "left": null,
       "margin": null,
       "max_height": null,
       "max_width": null,
       "min_height": null,
       "min_width": null,
       "object_fit": null,
       "object_position": null,
       "order": null,
       "overflow": null,
       "overflow_x": null,
       "overflow_y": null,
       "padding": null,
       "right": null,
       "top": null,
       "visibility": null,
       "width": null
      }
     },
     "b5187f3d99a94a2492e08dca27c11896": {
      "model_module": "@jupyter-widgets/base",
      "model_module_version": "1.2.0",
      "model_name": "LayoutModel",
      "state": {
       "_model_module": "@jupyter-widgets/base",
       "_model_module_version": "1.2.0",
       "_model_name": "LayoutModel",
       "_view_count": null,
       "_view_module": "@jupyter-widgets/base",
       "_view_module_version": "1.2.0",
       "_view_name": "LayoutView",
       "align_content": null,
       "align_items": null,
       "align_self": null,
       "border": null,
       "bottom": null,
       "display": null,
       "flex": null,
       "flex_flow": null,
       "grid_area": null,
       "grid_auto_columns": null,
       "grid_auto_flow": null,
       "grid_auto_rows": null,
       "grid_column": null,
       "grid_gap": null,
       "grid_row": null,
       "grid_template_areas": null,
       "grid_template_columns": null,
       "grid_template_rows": null,
       "height": null,
       "justify_content": null,
       "justify_items": null,
       "left": null,
       "margin": null,
       "max_height": null,
       "max_width": null,
       "min_height": null,
       "min_width": null,
       "object_fit": null,
       "object_position": null,
       "order": null,
       "overflow": null,
       "overflow_x": null,
       "overflow_y": null,
       "padding": null,
       "right": null,
       "top": null,
       "visibility": null,
       "width": null
      }
     },
     "b540986f24c641c496936b3b1b4a6bbd": {
      "model_module": "@jupyter-widgets/base",
      "model_module_version": "1.2.0",
      "model_name": "LayoutModel",
      "state": {
       "_model_module": "@jupyter-widgets/base",
       "_model_module_version": "1.2.0",
       "_model_name": "LayoutModel",
       "_view_count": null,
       "_view_module": "@jupyter-widgets/base",
       "_view_module_version": "1.2.0",
       "_view_name": "LayoutView",
       "align_content": null,
       "align_items": null,
       "align_self": null,
       "border": null,
       "bottom": null,
       "display": null,
       "flex": null,
       "flex_flow": null,
       "grid_area": null,
       "grid_auto_columns": null,
       "grid_auto_flow": null,
       "grid_auto_rows": null,
       "grid_column": null,
       "grid_gap": null,
       "grid_row": null,
       "grid_template_areas": null,
       "grid_template_columns": null,
       "grid_template_rows": null,
       "height": null,
       "justify_content": null,
       "justify_items": null,
       "left": null,
       "margin": null,
       "max_height": null,
       "max_width": null,
       "min_height": null,
       "min_width": null,
       "object_fit": null,
       "object_position": null,
       "order": null,
       "overflow": null,
       "overflow_x": null,
       "overflow_y": null,
       "padding": null,
       "right": null,
       "top": null,
       "visibility": null,
       "width": null
      }
     },
     "bf8e2ab622564fef8c09ed8eb8fcd8da": {
      "model_module": "@jupyter-widgets/controls",
      "model_module_version": "1.5.0",
      "model_name": "HBoxModel",
      "state": {
       "_dom_classes": [],
       "_model_module": "@jupyter-widgets/controls",
       "_model_module_version": "1.5.0",
       "_model_name": "HBoxModel",
       "_view_count": null,
       "_view_module": "@jupyter-widgets/controls",
       "_view_module_version": "1.5.0",
       "_view_name": "HBoxView",
       "box_style": "",
       "children": [
        "IPY_MODEL_e303f8f9a39c4baf8715bf4bb322016c",
        "IPY_MODEL_d5293fc34c464c9694afee56a34fa94e",
        "IPY_MODEL_c908e95acba94b70b078129c1377723b"
       ],
       "layout": "IPY_MODEL_0bb1ebe2728f415baf80f70cf014362c"
      }
     },
     "c89ee7a587c14b55a68c4a1329e834b3": {
      "model_module": "@jupyter-widgets/controls",
      "model_module_version": "1.5.0",
      "model_name": "FloatProgressModel",
      "state": {
       "_dom_classes": [],
       "_model_module": "@jupyter-widgets/controls",
       "_model_module_version": "1.5.0",
       "_model_name": "FloatProgressModel",
       "_view_count": null,
       "_view_module": "@jupyter-widgets/controls",
       "_view_module_version": "1.5.0",
       "_view_name": "ProgressView",
       "bar_style": "success",
       "description": "",
       "description_tooltip": null,
       "layout": "IPY_MODEL_0b62f29402b44953b2676d766cdc1dd9",
       "max": 1042301.0,
       "min": 0.0,
       "orientation": "horizontal",
       "style": "IPY_MODEL_136beee2691e4d63b7f52db79c8a6936",
       "value": 1042301.0
      }
     },
     "c908e95acba94b70b078129c1377723b": {
      "model_module": "@jupyter-widgets/controls",
      "model_module_version": "1.5.0",
      "model_name": "HTMLModel",
      "state": {
       "_dom_classes": [],
       "_model_module": "@jupyter-widgets/controls",
       "_model_module_version": "1.5.0",
       "_model_name": "HTMLModel",
       "_view_count": null,
       "_view_module": "@jupyter-widgets/controls",
       "_view_module_version": "1.5.0",
       "_view_name": "HTMLView",
       "description": "",
       "description_tooltip": null,
       "layout": "IPY_MODEL_9a6bdaa823f9412b81bec7f4bb3a4201",
       "placeholder": "​",
       "style": "IPY_MODEL_8ffdb77e90934d96bc1df02b48bf1589",
       "value": " 336M/336M [00:07&lt;00:00, 53.0MB/s]"
      }
     },
     "c9c7d59029b7400fbdac7921d6ee0092": {
      "model_module": "@jupyter-widgets/controls",
      "model_module_version": "1.5.0",
      "model_name": "HTMLModel",
      "state": {
       "_dom_classes": [],
       "_model_module": "@jupyter-widgets/controls",
       "_model_module_version": "1.5.0",
       "_model_name": "HTMLModel",
       "_view_count": null,
       "_view_module": "@jupyter-widgets/controls",
       "_view_module_version": "1.5.0",
       "_view_name": "HTMLView",
       "description": "",
       "description_tooltip": null,
       "layout": "IPY_MODEL_3f888f233f094f8ca07673aba88046ab",
       "placeholder": "​",
       "style": "IPY_MODEL_30a237dcee584cdabb3a995a225834ab",
       "value": "Downloading: 100%"
      }
     },
     "d2a81412880f4ce0a13bf96da2749a1e": {
      "model_module": "@jupyter-widgets/controls",
      "model_module_version": "1.5.0",
      "model_name": "DescriptionStyleModel",
      "state": {
       "_model_module": "@jupyter-widgets/controls",
       "_model_module_version": "1.5.0",
       "_model_name": "DescriptionStyleModel",
       "_view_count": null,
       "_view_module": "@jupyter-widgets/base",
       "_view_module_version": "1.2.0",
       "_view_name": "StyleView",
       "description_width": ""
      }
     },
     "d5293fc34c464c9694afee56a34fa94e": {
      "model_module": "@jupyter-widgets/controls",
      "model_module_version": "1.5.0",
      "model_name": "FloatProgressModel",
      "state": {
       "_dom_classes": [],
       "_model_module": "@jupyter-widgets/controls",
       "_model_module_version": "1.5.0",
       "_model_name": "FloatProgressModel",
       "_view_count": null,
       "_view_module": "@jupyter-widgets/controls",
       "_view_module_version": "1.5.0",
       "_view_name": "ProgressView",
       "bar_style": "success",
       "description": "",
       "description_tooltip": null,
       "layout": "IPY_MODEL_d9c2ea2f5b7f409196ceb30701a4265e",
       "max": 352833716.0,
       "min": 0.0,
       "orientation": "horizontal",
       "style": "IPY_MODEL_2e5a0bd55d0b4e248fb0bbb7ae8edd81",
       "value": 352833716.0
      }
     },
     "d9c2ea2f5b7f409196ceb30701a4265e": {
      "model_module": "@jupyter-widgets/base",
      "model_module_version": "1.2.0",
      "model_name": "LayoutModel",
      "state": {
       "_model_module": "@jupyter-widgets/base",
       "_model_module_version": "1.2.0",
       "_model_name": "LayoutModel",
       "_view_count": null,
       "_view_module": "@jupyter-widgets/base",
       "_view_module_version": "1.2.0",
       "_view_name": "LayoutView",
       "align_content": null,
       "align_items": null,
       "align_self": null,
       "border": null,
       "bottom": null,
       "display": null,
       "flex": null,
       "flex_flow": null,
       "grid_area": null,
       "grid_auto_columns": null,
       "grid_auto_flow": null,
       "grid_auto_rows": null,
       "grid_column": null,
       "grid_gap": null,
       "grid_row": null,
       "grid_template_areas": null,
       "grid_template_columns": null,
       "grid_template_rows": null,
       "height": null,
       "justify_content": null,
       "justify_items": null,
       "left": null,
       "margin": null,
       "max_height": null,
       "max_width": null,
       "min_height": null,
       "min_width": null,
       "object_fit": null,
       "object_position": null,
       "order": null,
       "overflow": null,
       "overflow_x": null,
       "overflow_y": null,
       "padding": null,
       "right": null,
       "top": null,
       "visibility": null,
       "width": null
      }
     },
     "e06d78b8405a4a00b99e3db655c24cde": {
      "model_module": "@jupyter-widgets/controls",
      "model_module_version": "1.5.0",
      "model_name": "FloatProgressModel",
      "state": {
       "_dom_classes": [],
       "_model_module": "@jupyter-widgets/controls",
       "_model_module_version": "1.5.0",
       "_model_name": "FloatProgressModel",
       "_view_count": null,
       "_view_module": "@jupyter-widgets/controls",
       "_view_module_version": "1.5.0",
       "_view_name": "ProgressView",
       "bar_style": "success",
       "description": "",
       "description_tooltip": null,
       "layout": "IPY_MODEL_b37c0f5eb1884fc7a95ecf847f5c66b7",
       "max": 762.0,
       "min": 0.0,
       "orientation": "horizontal",
       "style": "IPY_MODEL_3dd000b381074c38b78785a5b6fff0fb",
       "value": 762.0
      }
     },
     "e303f8f9a39c4baf8715bf4bb322016c": {
      "model_module": "@jupyter-widgets/controls",
      "model_module_version": "1.5.0",
      "model_name": "HTMLModel",
      "state": {
       "_dom_classes": [],
       "_model_module": "@jupyter-widgets/controls",
       "_model_module_version": "1.5.0",
       "_model_name": "HTMLModel",
       "_view_count": null,
       "_view_module": "@jupyter-widgets/controls",
       "_view_module_version": "1.5.0",
       "_view_name": "HTMLView",
       "description": "",
       "description_tooltip": null,
       "layout": "IPY_MODEL_b540986f24c641c496936b3b1b4a6bbd",
       "placeholder": "​",
       "style": "IPY_MODEL_87cde1fa8c5641a393dcac06c8145194",
       "value": "Downloading: 100%"
      }
     },
     "e9305c7ecc8344c5ada2f5ad2cb327eb": {
      "model_module": "@jupyter-widgets/base",
      "model_module_version": "1.2.0",
      "model_name": "LayoutModel",
      "state": {
       "_model_module": "@jupyter-widgets/base",
       "_model_module_version": "1.2.0",
       "_model_name": "LayoutModel",
       "_view_count": null,
       "_view_module": "@jupyter-widgets/base",
       "_view_module_version": "1.2.0",
       "_view_name": "LayoutView",
       "align_content": null,
       "align_items": null,
       "align_self": null,
       "border": null,
       "bottom": null,
       "display": null,
       "flex": null,
       "flex_flow": null,
       "grid_area": null,
       "grid_auto_columns": null,
       "grid_auto_flow": null,
       "grid_auto_rows": null,
       "grid_column": null,
       "grid_gap": null,
       "grid_row": null,
       "grid_template_areas": null,
       "grid_template_columns": null,
       "grid_template_rows": null,
       "height": null,
       "justify_content": null,
       "justify_items": null,
       "left": null,
       "margin": null,
       "max_height": null,
       "max_width": null,
       "min_height": null,
       "min_width": null,
       "object_fit": null,
       "object_position": null,
       "order": null,
       "overflow": null,
       "overflow_x": null,
       "overflow_y": null,
       "padding": null,
       "right": null,
       "top": null,
       "visibility": null,
       "width": null
      }
     },
     "feb792485cbe4ee8b181c16064ebdf87": {
      "model_module": "@jupyter-widgets/controls",
      "model_module_version": "1.5.0",
      "model_name": "ProgressStyleModel",
      "state": {
       "_model_module": "@jupyter-widgets/controls",
       "_model_module_version": "1.5.0",
       "_model_name": "ProgressStyleModel",
       "_view_count": null,
       "_view_module": "@jupyter-widgets/base",
       "_view_module_version": "1.2.0",
       "_view_name": "StyleView",
       "bar_color": null,
       "description_width": ""
      }
     }
    },
    "version_major": 2,
    "version_minor": 0
   }
  }
 },
 "nbformat": 4,
 "nbformat_minor": 5
}
